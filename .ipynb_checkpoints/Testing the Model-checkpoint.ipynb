{
 "cells": [
  {
   "cell_type": "code",
   "execution_count": 2,
   "metadata": {},
   "outputs": [],
   "source": [
    "import numpy as np\n",
    "import pandas as pd\n",
    "import matplotlib.pyplot as plt\n",
    "import seaborn as sns\n",
    "import sklearn\n",
    "import scipy\n",
    "import statsmodels.api as sm\n",
    "from scipy import stats\n",
    "from geopy import distance\n",
    "import warnings\n",
    "from sklearn.linear_model import LinearRegression\n",
    "from sklearn.model_selection import train_test_split\n",
    "from sklearn.metrics import mean_absolute_error\n",
    "from sklearn.preprocessing import StandardScaler\n",
    "warnings.filterwarnings(\"ignore\")"
   ]
  },
  {
   "cell_type": "markdown",
   "metadata": {},
   "source": [
    "## Uploading our cleaned data"
   ]
  },
  {
   "cell_type": "code",
   "execution_count": 3,
   "metadata": {},
   "outputs": [],
   "source": [
    "df = pd.read_csv('data/cleaned_data.csv')"
   ]
  },
  {
   "cell_type": "code",
   "execution_count": 4,
   "metadata": {},
   "outputs": [
    {
     "data": {
      "text/html": [
       "<div>\n",
       "<style scoped>\n",
       "    .dataframe tbody tr th:only-of-type {\n",
       "        vertical-align: middle;\n",
       "    }\n",
       "\n",
       "    .dataframe tbody tr th {\n",
       "        vertical-align: top;\n",
       "    }\n",
       "\n",
       "    .dataframe thead th {\n",
       "        text-align: right;\n",
       "    }\n",
       "</style>\n",
       "<table border=\"1\" class=\"dataframe\">\n",
       "  <thead>\n",
       "    <tr style=\"text-align: right;\">\n",
       "      <th></th>\n",
       "      <th>Unnamed: 0</th>\n",
       "      <th>id</th>\n",
       "      <th>date</th>\n",
       "      <th>price</th>\n",
       "      <th>bedrooms</th>\n",
       "      <th>bathrooms</th>\n",
       "      <th>sqft_living</th>\n",
       "      <th>sqft_lot</th>\n",
       "      <th>floors</th>\n",
       "      <th>waterfront</th>\n",
       "      <th>...</th>\n",
       "      <th>distance_sammamish</th>\n",
       "      <th>distance_kirkland</th>\n",
       "      <th>distance_shoreline</th>\n",
       "      <th>median_zip_income</th>\n",
       "      <th>zip_population</th>\n",
       "      <th>sqft_living_x_above</th>\n",
       "      <th>grade_x_price</th>\n",
       "      <th>sqft_living_grade</th>\n",
       "      <th>sqft_bath</th>\n",
       "      <th>zip_has_wh</th>\n",
       "    </tr>\n",
       "  </thead>\n",
       "  <tbody>\n",
       "    <tr>\n",
       "      <th>0</th>\n",
       "      <td>0</td>\n",
       "      <td>7399300360</td>\n",
       "      <td>2022-05-24</td>\n",
       "      <td>675000.0</td>\n",
       "      <td>4</td>\n",
       "      <td>1.0</td>\n",
       "      <td>1180</td>\n",
       "      <td>7140</td>\n",
       "      <td>1.0</td>\n",
       "      <td>0</td>\n",
       "      <td>...</td>\n",
       "      <td>12.6</td>\n",
       "      <td>14.9</td>\n",
       "      <td>21.5</td>\n",
       "      <td>83621.0</td>\n",
       "      <td>24668.0</td>\n",
       "      <td>1392400</td>\n",
       "      <td>4745566.0</td>\n",
       "      <td>8260</td>\n",
       "      <td>1180.0</td>\n",
       "      <td>0</td>\n",
       "    </tr>\n",
       "    <tr>\n",
       "      <th>1</th>\n",
       "      <td>1</td>\n",
       "      <td>8910500230</td>\n",
       "      <td>2021-12-13</td>\n",
       "      <td>920000.0</td>\n",
       "      <td>5</td>\n",
       "      <td>2.5</td>\n",
       "      <td>2770</td>\n",
       "      <td>6703</td>\n",
       "      <td>1.0</td>\n",
       "      <td>0</td>\n",
       "      <td>...</td>\n",
       "      <td>16.5</td>\n",
       "      <td>7.4</td>\n",
       "      <td>3.2</td>\n",
       "      <td>77602.0</td>\n",
       "      <td>50153.0</td>\n",
       "      <td>4348900</td>\n",
       "      <td>5355000.0</td>\n",
       "      <td>19390</td>\n",
       "      <td>6925.0</td>\n",
       "      <td>0</td>\n",
       "    </tr>\n",
       "    <tr>\n",
       "      <th>2</th>\n",
       "      <td>2</td>\n",
       "      <td>1180000275</td>\n",
       "      <td>2021-09-29</td>\n",
       "      <td>311000.0</td>\n",
       "      <td>6</td>\n",
       "      <td>2.0</td>\n",
       "      <td>2880</td>\n",
       "      <td>6156</td>\n",
       "      <td>1.0</td>\n",
       "      <td>0</td>\n",
       "      <td>...</td>\n",
       "      <td>11.6</td>\n",
       "      <td>12.2</td>\n",
       "      <td>18.4</td>\n",
       "      <td>87788.0</td>\n",
       "      <td>26282.0</td>\n",
       "      <td>4550400</td>\n",
       "      <td>4375000.0</td>\n",
       "      <td>20160</td>\n",
       "      <td>5760.0</td>\n",
       "      <td>0</td>\n",
       "    </tr>\n",
       "    <tr>\n",
       "      <th>3</th>\n",
       "      <td>3</td>\n",
       "      <td>1604601802</td>\n",
       "      <td>2021-12-14</td>\n",
       "      <td>775000.0</td>\n",
       "      <td>3</td>\n",
       "      <td>3.0</td>\n",
       "      <td>2160</td>\n",
       "      <td>1400</td>\n",
       "      <td>2.0</td>\n",
       "      <td>0</td>\n",
       "      <td>...</td>\n",
       "      <td>12.3</td>\n",
       "      <td>8.7</td>\n",
       "      <td>13.4</td>\n",
       "      <td>94790.0</td>\n",
       "      <td>48937.0</td>\n",
       "      <td>2354400</td>\n",
       "      <td>6732000.0</td>\n",
       "      <td>19440</td>\n",
       "      <td>6480.0</td>\n",
       "      <td>0</td>\n",
       "    </tr>\n",
       "    <tr>\n",
       "      <th>4</th>\n",
       "      <td>4</td>\n",
       "      <td>8562780790</td>\n",
       "      <td>2021-08-24</td>\n",
       "      <td>592500.0</td>\n",
       "      <td>2</td>\n",
       "      <td>2.0</td>\n",
       "      <td>1120</td>\n",
       "      <td>758</td>\n",
       "      <td>2.0</td>\n",
       "      <td>0</td>\n",
       "      <td>...</td>\n",
       "      <td>5.7</td>\n",
       "      <td>11.8</td>\n",
       "      <td>20.0</td>\n",
       "      <td>128556.0</td>\n",
       "      <td>27808.0</td>\n",
       "      <td>1254400</td>\n",
       "      <td>9030000.0</td>\n",
       "      <td>7840</td>\n",
       "      <td>2240.0</td>\n",
       "      <td>0</td>\n",
       "    </tr>\n",
       "  </tbody>\n",
       "</table>\n",
       "<p>5 rows × 51 columns</p>\n",
       "</div>"
      ],
      "text/plain": [
       "   Unnamed: 0          id        date     price  bedrooms  bathrooms  \\\n",
       "0           0  7399300360  2022-05-24  675000.0         4        1.0   \n",
       "1           1  8910500230  2021-12-13  920000.0         5        2.5   \n",
       "2           2  1180000275  2021-09-29  311000.0         6        2.0   \n",
       "3           3  1604601802  2021-12-14  775000.0         3        3.0   \n",
       "4           4  8562780790  2021-08-24  592500.0         2        2.0   \n",
       "\n",
       "   sqft_living  sqft_lot  floors  waterfront  ...  distance_sammamish  \\\n",
       "0         1180      7140     1.0           0  ...                12.6   \n",
       "1         2770      6703     1.0           0  ...                16.5   \n",
       "2         2880      6156     1.0           0  ...                11.6   \n",
       "3         2160      1400     2.0           0  ...                12.3   \n",
       "4         1120       758     2.0           0  ...                 5.7   \n",
       "\n",
       "   distance_kirkland  distance_shoreline  median_zip_income  zip_population  \\\n",
       "0               14.9                21.5            83621.0         24668.0   \n",
       "1                7.4                 3.2            77602.0         50153.0   \n",
       "2               12.2                18.4            87788.0         26282.0   \n",
       "3                8.7                13.4            94790.0         48937.0   \n",
       "4               11.8                20.0           128556.0         27808.0   \n",
       "\n",
       "  sqft_living_x_above grade_x_price  sqft_living_grade  sqft_bath  zip_has_wh  \n",
       "0             1392400     4745566.0               8260     1180.0           0  \n",
       "1             4348900     5355000.0              19390     6925.0           0  \n",
       "2             4550400     4375000.0              20160     5760.0           0  \n",
       "3             2354400     6732000.0              19440     6480.0           0  \n",
       "4             1254400     9030000.0               7840     2240.0           0  \n",
       "\n",
       "[5 rows x 51 columns]"
      ]
     },
     "execution_count": 4,
     "metadata": {},
     "output_type": "execute_result"
    }
   ],
   "source": [
    "df.head()"
   ]
  },
  {
   "cell_type": "code",
   "execution_count": 5,
   "metadata": {},
   "outputs": [
    {
     "name": "stdout",
     "output_type": "stream",
     "text": [
      "<class 'pandas.core.frame.DataFrame'>\n",
      "RangeIndex: 28723 entries, 0 to 28722\n",
      "Data columns (total 51 columns):\n",
      " #   Column                Non-Null Count  Dtype  \n",
      "---  ------                --------------  -----  \n",
      " 0   Unnamed: 0            28723 non-null  int64  \n",
      " 1   id                    28723 non-null  int64  \n",
      " 2   date                  28723 non-null  object \n",
      " 3   price                 28723 non-null  float64\n",
      " 4   bedrooms              28723 non-null  int64  \n",
      " 5   bathrooms             28723 non-null  float64\n",
      " 6   sqft_living           28723 non-null  int64  \n",
      " 7   sqft_lot              28723 non-null  int64  \n",
      " 8   floors                28723 non-null  float64\n",
      " 9   waterfront            28723 non-null  int64  \n",
      " 10  greenbelt             28723 non-null  int64  \n",
      " 11  nuisance              28723 non-null  int64  \n",
      " 12  view                  28723 non-null  int64  \n",
      " 13  condition             28723 non-null  int64  \n",
      " 14  grade                 28723 non-null  int64  \n",
      " 15  heat_source           28723 non-null  object \n",
      " 16  sewer_system          28723 non-null  object \n",
      " 17  sqft_above            28723 non-null  int64  \n",
      " 18  sqft_basement         28723 non-null  int64  \n",
      " 19  sqft_garage           28723 non-null  int64  \n",
      " 20  sqft_patio            28723 non-null  int64  \n",
      " 21  yr_built              28723 non-null  int64  \n",
      " 22  yr_renovated          28723 non-null  int64  \n",
      " 23  address               28723 non-null  object \n",
      " 24  lat                   28723 non-null  float64\n",
      " 25  long                  28723 non-null  float64\n",
      " 26  zip                   28723 non-null  int64  \n",
      " 27  median_home_price     28723 non-null  float64\n",
      " 28  lower_25_zip          28723 non-null  int64  \n",
      " 29  middle_50_zip         28723 non-null  int64  \n",
      " 30  top_75_zip            28723 non-null  int64  \n",
      " 31  year                  28723 non-null  int64  \n",
      " 32  distance_seattle      28723 non-null  float64\n",
      " 33  distance_bellvue      28723 non-null  float64\n",
      " 34  distance_kent         28723 non-null  float64\n",
      " 35  distance_federal_way  28723 non-null  float64\n",
      " 36  distance_bothell      28723 non-null  float64\n",
      " 37  distance_burien       28723 non-null  float64\n",
      " 38  distance_auburn       28723 non-null  float64\n",
      " 39  distance_renton       28723 non-null  float64\n",
      " 40  distance_redmond      28723 non-null  float64\n",
      " 41  distance_sammamish    28723 non-null  float64\n",
      " 42  distance_kirkland     28723 non-null  float64\n",
      " 43  distance_shoreline    28723 non-null  float64\n",
      " 44  median_zip_income     28723 non-null  float64\n",
      " 45  zip_population        28723 non-null  float64\n",
      " 46  sqft_living_x_above   28723 non-null  int64  \n",
      " 47  grade_x_price         28723 non-null  float64\n",
      " 48  sqft_living_grade     28723 non-null  int64  \n",
      " 49  sqft_bath             28723 non-null  float64\n",
      " 50  zip_has_wh            28723 non-null  int64  \n",
      "dtypes: float64(22), int64(25), object(4)\n",
      "memory usage: 11.2+ MB\n"
     ]
    }
   ],
   "source": [
    "df.info()"
   ]
  },
  {
   "cell_type": "markdown",
   "metadata": {},
   "source": [
    "### Creating Train/Test Splits to test our best model"
   ]
  },
  {
   "cell_type": "code",
   "execution_count": 6,
   "metadata": {},
   "outputs": [],
   "source": [
    "X = df[['sqft_living', 'grade', 'sqft_living_grade', 'yr_renovated', 'sqft_above', 'sqft_basement', 'condition', \n",
    "        'floors', 'lower_25_zip', 'middle_50_zip', 'top_75_zip', 'waterfront', 'view', 'year', 'distance_bellvue', \n",
    "        'distance_bothell', 'distance_renton', 'distance_redmond', 'distance_kirkland', 'distance_shoreline', \n",
    "        'sqft_bath', 'sqft_living_x_above', 'zip_population', 'zip_has_wh', 'median_home_price', 'grade_x_price']]\n",
    "y = df['price']"
   ]
  },
  {
   "cell_type": "code",
   "execution_count": 7,
   "metadata": {},
   "outputs": [],
   "source": [
    "X_train, X_test, y_train, y_test = train_test_split(X, y, test_size = 0.3)"
   ]
  },
  {
   "cell_type": "code",
   "execution_count": 8,
   "metadata": {},
   "outputs": [],
   "source": [
    "ss = StandardScaler()"
   ]
  },
  {
   "cell_type": "code",
   "execution_count": 9,
   "metadata": {},
   "outputs": [],
   "source": [
    "ss.fit(X_train)\n",
    "X_standardized_train = ss.transform(X_train)\n",
    "X_standardized_test = ss.transform(X_test)"
   ]
  },
  {
   "cell_type": "code",
   "execution_count": 10,
   "metadata": {},
   "outputs": [
    {
     "data": {
      "text/plain": [
       "array([-2.06207941e-16,  1.06726304e-16, -3.44563398e-17, -5.65437371e-17,\n",
       "        2.73883726e-17,  1.73165195e-17,  2.29002135e-16, -1.35704969e-16,\n",
       "        5.44233469e-17, -5.51301436e-17,  4.59417864e-18,  9.89515398e-18,\n",
       "        3.07456570e-17, -1.65999866e-13,  1.79526365e-16,  2.29355533e-16,\n",
       "        2.03557453e-16,  4.04641118e-17,  2.19460379e-16, -1.25103018e-16,\n",
       "       -5.37165502e-17, -5.46000461e-17,  2.53033223e-16,  8.53457031e-17,\n",
       "       -7.42136549e-18,  7.91612319e-17])"
      ]
     },
     "execution_count": 10,
     "metadata": {},
     "output_type": "execute_result"
    }
   ],
   "source": [
    "X_standardized_train.mean(axis = 0)"
   ]
  },
  {
   "cell_type": "code",
   "execution_count": 11,
   "metadata": {},
   "outputs": [
    {
     "data": {
      "text/plain": [
       "array([1., 1., 1., 1., 1., 1., 1., 1., 1., 1., 1., 1., 1., 1., 1., 1., 1.,\n",
       "       1., 1., 1., 1., 1., 1., 1., 1., 1.])"
      ]
     },
     "execution_count": 11,
     "metadata": {},
     "output_type": "execute_result"
    }
   ],
   "source": [
    "X_standardized_train.std(axis = 0)"
   ]
  },
  {
   "cell_type": "code",
   "execution_count": 12,
   "metadata": {},
   "outputs": [
    {
     "data": {
      "text/plain": [
       "array([ 0.01079409,  0.01058889,  0.00873338,  0.02395622,  0.00419193,\n",
       "        0.01227056,  0.00176592,  0.00647333,  0.01945305, -0.00503098,\n",
       "       -0.01447467,  0.00070168,  0.01266739, -0.00394786,  0.00686225,\n",
       "        0.01411085, -0.00997692,  0.01344466,  0.01282377,  0.01476041,\n",
       "        0.0005161 , -0.00042715, -0.00640648, -0.00386913, -0.01780041,\n",
       "       -0.01316767])"
      ]
     },
     "execution_count": 12,
     "metadata": {},
     "output_type": "execute_result"
    }
   ],
   "source": [
    "X_standardized_test.mean(axis = 0)"
   ]
  },
  {
   "cell_type": "code",
   "execution_count": 13,
   "metadata": {},
   "outputs": [
    {
     "data": {
      "text/plain": [
       "array([0.99065878, 0.99897167, 0.99242916, 1.0513301 , 0.97590266,\n",
       "       1.00473334, 0.99919647, 0.99047347, 1.01170478, 1.00061556,\n",
       "       0.98897509, 1.00288996, 1.03611277, 0.99884755, 1.00761032,\n",
       "       1.00356934, 0.99279421, 1.00497244, 1.00370474, 0.99763349,\n",
       "       0.99482766, 0.94691114, 0.99693679, 0.99527595, 0.98898881,\n",
       "       0.98487325])"
      ]
     },
     "execution_count": 13,
     "metadata": {},
     "output_type": "execute_result"
    }
   ],
   "source": [
    "X_standardized_test.std(axis = 0)"
   ]
  },
  {
   "cell_type": "code",
   "execution_count": 14,
   "metadata": {},
   "outputs": [
    {
     "data": {
      "text/plain": [
       "0.7692242918373977"
      ]
     },
     "execution_count": 14,
     "metadata": {},
     "output_type": "execute_result"
    }
   ],
   "source": [
    "lr_raw = LinearRegression()\n",
    "lr_raw.fit(X_standardized_train, y_train)\n",
    "lr_raw.score(X_standardized_train, y_train)"
   ]
  },
  {
   "cell_type": "code",
   "execution_count": 15,
   "metadata": {},
   "outputs": [
    {
     "data": {
      "text/plain": [
       "sqft_living           -2.002493e+05\n",
       "grade                 -1.249077e+05\n",
       "sqft_living_grade      4.658535e+05\n",
       "yr_renovated           1.982481e+04\n",
       "sqft_above             2.208942e+05\n",
       "sqft_basement          8.785999e+03\n",
       "condition              4.250367e+04\n",
       "floors                -3.367489e+04\n",
       "lower_25_zip           1.675226e+17\n",
       "middle_50_zip          1.951463e+17\n",
       "top_75_zip             1.573126e+17\n",
       "waterfront             3.510911e+04\n",
       "view                   5.917871e+04\n",
       "year                   7.735822e+04\n",
       "distance_bellvue      -1.760757e+05\n",
       "distance_bothell       3.611070e+05\n",
       "distance_renton        1.552083e+05\n",
       "distance_redmond       1.936140e+05\n",
       "distance_kirkland     -5.756271e+05\n",
       "distance_shoreline     5.599958e+04\n",
       "sqft_bath              6.512389e+04\n",
       "sqft_living_x_above   -1.814006e+05\n",
       "zip_population        -7.907651e+03\n",
       "zip_has_wh             6.325072e+03\n",
       "median_home_price     -1.209094e+05\n",
       "grade_x_price          3.469339e+05\n",
       "dtype: float64"
      ]
     },
     "execution_count": 15,
     "metadata": {},
     "output_type": "execute_result"
    }
   ],
   "source": [
    "pd.Series(lr_raw.coef_, index = X.columns)"
   ]
  },
  {
   "cell_type": "markdown",
   "metadata": {},
   "source": [
    "### Interpreting Our Scaled Coefficients\n",
    "\n",
    "From our scaled coeffients, we see an interesting picture as to the weight of variables in our model that affect the sale price of a home.  The \"lower_25_zip\", \"middle_50_zip\", and \"top_75_zip\" variables have coefficients of 9.201169e+17, 1.068730e+18, and 8.552146e+17 respectively.  These coefficients are much larger than the others, indicating that the median home price of other homes in a home's zip code has a much greater weight than other coefficients in our model.  Outside of these three coeffients as standouts, other variables in our model fall much lower with the population of a zip code being the variable with the least weight."
   ]
  },
  {
   "cell_type": "code",
   "execution_count": 16,
   "metadata": {},
   "outputs": [
    {
     "data": {
      "text/plain": [
       "188461.83800776888"
      ]
     },
     "execution_count": 16,
     "metadata": {},
     "output_type": "execute_result"
    }
   ],
   "source": [
    "y_pred = lr_raw.predict(X_standardized_test)\n",
    "mean_absolute_error(y_pred, y_test)"
   ]
  },
  {
   "cell_type": "markdown",
   "metadata": {},
   "source": [
    "## The findings\n",
    "Our model explains approximately 77% of the variance in home prices (Adjusted R-Square = .766)\n",
    "\n",
    "The MAE is 187207, meaning our prediction will come within $187,207 of the actual price"
   ]
  },
  {
   "cell_type": "markdown",
   "metadata": {},
   "source": [
    "## Checking Normality"
   ]
  },
  {
   "cell_type": "code",
   "execution_count": 17,
   "metadata": {},
   "outputs": [
    {
     "data": {
      "text/html": [
       "<style>#sk-container-id-1 {color: black;background-color: white;}#sk-container-id-1 pre{padding: 0;}#sk-container-id-1 div.sk-toggleable {background-color: white;}#sk-container-id-1 label.sk-toggleable__label {cursor: pointer;display: block;width: 100%;margin-bottom: 0;padding: 0.3em;box-sizing: border-box;text-align: center;}#sk-container-id-1 label.sk-toggleable__label-arrow:before {content: \"▸\";float: left;margin-right: 0.25em;color: #696969;}#sk-container-id-1 label.sk-toggleable__label-arrow:hover:before {color: black;}#sk-container-id-1 div.sk-estimator:hover label.sk-toggleable__label-arrow:before {color: black;}#sk-container-id-1 div.sk-toggleable__content {max-height: 0;max-width: 0;overflow: hidden;text-align: left;background-color: #f0f8ff;}#sk-container-id-1 div.sk-toggleable__content pre {margin: 0.2em;color: black;border-radius: 0.25em;background-color: #f0f8ff;}#sk-container-id-1 input.sk-toggleable__control:checked~div.sk-toggleable__content {max-height: 200px;max-width: 100%;overflow: auto;}#sk-container-id-1 input.sk-toggleable__control:checked~label.sk-toggleable__label-arrow:before {content: \"▾\";}#sk-container-id-1 div.sk-estimator input.sk-toggleable__control:checked~label.sk-toggleable__label {background-color: #d4ebff;}#sk-container-id-1 div.sk-label input.sk-toggleable__control:checked~label.sk-toggleable__label {background-color: #d4ebff;}#sk-container-id-1 input.sk-hidden--visually {border: 0;clip: rect(1px 1px 1px 1px);clip: rect(1px, 1px, 1px, 1px);height: 1px;margin: -1px;overflow: hidden;padding: 0;position: absolute;width: 1px;}#sk-container-id-1 div.sk-estimator {font-family: monospace;background-color: #f0f8ff;border: 1px dotted black;border-radius: 0.25em;box-sizing: border-box;margin-bottom: 0.5em;}#sk-container-id-1 div.sk-estimator:hover {background-color: #d4ebff;}#sk-container-id-1 div.sk-parallel-item::after {content: \"\";width: 100%;border-bottom: 1px solid gray;flex-grow: 1;}#sk-container-id-1 div.sk-label:hover label.sk-toggleable__label {background-color: #d4ebff;}#sk-container-id-1 div.sk-serial::before {content: \"\";position: absolute;border-left: 1px solid gray;box-sizing: border-box;top: 0;bottom: 0;left: 50%;z-index: 0;}#sk-container-id-1 div.sk-serial {display: flex;flex-direction: column;align-items: center;background-color: white;padding-right: 0.2em;padding-left: 0.2em;position: relative;}#sk-container-id-1 div.sk-item {position: relative;z-index: 1;}#sk-container-id-1 div.sk-parallel {display: flex;align-items: stretch;justify-content: center;background-color: white;position: relative;}#sk-container-id-1 div.sk-item::before, #sk-container-id-1 div.sk-parallel-item::before {content: \"\";position: absolute;border-left: 1px solid gray;box-sizing: border-box;top: 0;bottom: 0;left: 50%;z-index: -1;}#sk-container-id-1 div.sk-parallel-item {display: flex;flex-direction: column;z-index: 1;position: relative;background-color: white;}#sk-container-id-1 div.sk-parallel-item:first-child::after {align-self: flex-end;width: 50%;}#sk-container-id-1 div.sk-parallel-item:last-child::after {align-self: flex-start;width: 50%;}#sk-container-id-1 div.sk-parallel-item:only-child::after {width: 0;}#sk-container-id-1 div.sk-dashed-wrapped {border: 1px dashed gray;margin: 0 0.4em 0.5em 0.4em;box-sizing: border-box;padding-bottom: 0.4em;background-color: white;}#sk-container-id-1 div.sk-label label {font-family: monospace;font-weight: bold;display: inline-block;line-height: 1.2em;}#sk-container-id-1 div.sk-label-container {text-align: center;}#sk-container-id-1 div.sk-container {/* jupyter's `normalize.less` sets `[hidden] { display: none; }` but bootstrap.min.css set `[hidden] { display: none !important; }` so we also need the `!important` here to be able to override the default hidden behavior on the sphinx rendered scikit-learn.org. See: https://github.com/scikit-learn/scikit-learn/issues/21755 */display: inline-block !important;position: relative;}#sk-container-id-1 div.sk-text-repr-fallback {display: none;}</style><div id=\"sk-container-id-1\" class=\"sk-top-container\"><div class=\"sk-text-repr-fallback\"><pre>LinearRegression()</pre><b>In a Jupyter environment, please rerun this cell to show the HTML representation or trust the notebook. <br />On GitHub, the HTML representation is unable to render, please try loading this page with nbviewer.org.</b></div><div class=\"sk-container\" hidden><div class=\"sk-item\"><div class=\"sk-estimator sk-toggleable\"><input class=\"sk-toggleable__control sk-hidden--visually\" id=\"sk-estimator-id-1\" type=\"checkbox\" checked><label for=\"sk-estimator-id-1\" class=\"sk-toggleable__label sk-toggleable__label-arrow\">LinearRegression</label><div class=\"sk-toggleable__content\"><pre>LinearRegression()</pre></div></div></div></div></div>"
      ],
      "text/plain": [
       "LinearRegression()"
      ]
     },
     "execution_count": 17,
     "metadata": {},
     "output_type": "execute_result"
    }
   ],
   "source": [
    "lr_raw.fit(X_train, y_train)"
   ]
  },
  {
   "cell_type": "code",
   "execution_count": 19,
   "metadata": {},
   "outputs": [],
   "source": [
    "train_preds = lr_raw.predict(X_train)\n",
    "test_preds = lr_raw.predict(X_test)"
   ]
  },
  {
   "cell_type": "code",
   "execution_count": 20,
   "metadata": {},
   "outputs": [],
   "source": [
    "train_residuals = y_train - train_preds\n",
    "test_residuals = y_test - test_preds"
   ]
  },
  {
   "cell_type": "code",
   "execution_count": 21,
   "metadata": {},
   "outputs": [
    {
     "data": {
      "image/png": "[encoded data removed]",
      "text/plain": [
       "<Figure size 640x480 with 1 Axes>"
      ]
     },
     "metadata": {},
     "output_type": "display_data"
    }
   ],
   "source": [
    "plt.hist(train_residuals, label = 'Train', bins = 25)\n",
    "plt.hist(test_residuals, label = 'Test', bins = 25)\n",
    "plt.show()"
   ]
  },
  {
   "cell_type": "markdown",
   "metadata": {},
   "source": [
    "Everything looks normally distributed."
   ]
  },
  {
   "cell_type": "markdown",
   "metadata": {},
   "source": [
    "## Checking Residuals"
   ]
  },
  {
   "cell_type": "code",
   "execution_count": 22,
   "metadata": {},
   "outputs": [
    {
     "data": {
      "image/png": "[encoded data removed]",
      "text/plain": [
       "<Figure size 640x480 with 1 Axes>"
      ]
     },
     "metadata": {},
     "output_type": "display_data"
    }
   ],
   "source": [
    "plt.scatter(train_preds, train_residuals, label='Train')\n",
    "plt.scatter(test_preds, test_residuals, label='Test')\n",
    "\n",
    "plt.axhline(y=0, color = 'red', label = '0')\n",
    "plt.xlabel('predictions')\n",
    "plt.ylabel('residuals')\n",
    "plt.legend()\n",
    "plt.show()"
   ]
  },
  {
   "cell_type": "markdown",
   "metadata": {},
   "source": [
    "The assumption of linearity looks mostly good."
   ]
  }
 ],
 "metadata": {
  "kernelspec": {
   "display_name": "Python 3",
   "language": "python",
   "name": "python3"
  },
  "language_info": {
   "codemirror_mode": {
    "name": "ipython",
    "version": 3
   },
   "file_extension": ".py",
   "mimetype": "text/x-python",
   "name": "python",
   "nbconvert_exporter": "python",
   "pygments_lexer": "ipython3",
   "version": "3.8.5"
  }
 },
 "nbformat": 4,
 "nbformat_minor": 4
}
