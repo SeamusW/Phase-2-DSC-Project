{
 "cells": [
  {
   "cell_type": "markdown",
   "metadata": {},
   "source": [
    "# King County Housing Data\n",
    "### A Breakdown of Leading Sale Price Variables"
   ]
  },
  {
   "cell_type": "markdown",
   "metadata": {},
   "source": [
    "## Importing Our Modules and Inital Data Set"
   ]
  },
  {
   "cell_type": "code",
   "execution_count": 1,
   "metadata": {},
   "outputs": [],
   "source": [
    "import numpy as np\n",
    "import pandas as pd\n",
    "import matplotlib.pyplot as plt\n",
    "import seaborn as sns\n",
    "import sklearn\n",
    "import scipy\n",
    "import statsmodels.api as sm\n",
    "from scipy import stats\n",
    "from geopy import distance\n",
    "import warnings\n",
    "warnings.filterwarnings(\"ignore\")"
   ]
  },
  {
   "cell_type": "code",
   "execution_count": 2,
   "metadata": {},
   "outputs": [],
   "source": [
    "df = pd.read_csv('data/kc_house_data.csv')"
   ]
  },
  {
   "cell_type": "code",
   "execution_count": 3,
   "metadata": {},
   "outputs": [
    {
     "data": {
      "text/html": [
       "<div>\n",
       "<style scoped>\n",
       "    .dataframe tbody tr th:only-of-type {\n",
       "        vertical-align: middle;\n",
       "    }\n",
       "\n",
       "    .dataframe tbody tr th {\n",
       "        vertical-align: top;\n",
       "    }\n",
       "\n",
       "    .dataframe thead th {\n",
       "        text-align: right;\n",
       "    }\n",
       "</style>\n",
       "<table border=\"1\" class=\"dataframe\">\n",
       "  <thead>\n",
       "    <tr style=\"text-align: right;\">\n",
       "      <th></th>\n",
       "      <th>id</th>\n",
       "      <th>date</th>\n",
       "      <th>price</th>\n",
       "      <th>bedrooms</th>\n",
       "      <th>bathrooms</th>\n",
       "      <th>sqft_living</th>\n",
       "      <th>sqft_lot</th>\n",
       "      <th>floors</th>\n",
       "      <th>waterfront</th>\n",
       "      <th>greenbelt</th>\n",
       "      <th>...</th>\n",
       "      <th>sewer_system</th>\n",
       "      <th>sqft_above</th>\n",
       "      <th>sqft_basement</th>\n",
       "      <th>sqft_garage</th>\n",
       "      <th>sqft_patio</th>\n",
       "      <th>yr_built</th>\n",
       "      <th>yr_renovated</th>\n",
       "      <th>address</th>\n",
       "      <th>lat</th>\n",
       "      <th>long</th>\n",
       "    </tr>\n",
       "  </thead>\n",
       "  <tbody>\n",
       "    <tr>\n",
       "      <th>0</th>\n",
       "      <td>7399300360</td>\n",
       "      <td>5/24/2022</td>\n",
       "      <td>675000.0</td>\n",
       "      <td>4</td>\n",
       "      <td>1.0</td>\n",
       "      <td>1180</td>\n",
       "      <td>7140</td>\n",
       "      <td>1.0</td>\n",
       "      <td>NO</td>\n",
       "      <td>NO</td>\n",
       "      <td>...</td>\n",
       "      <td>PUBLIC</td>\n",
       "      <td>1180</td>\n",
       "      <td>0</td>\n",
       "      <td>0</td>\n",
       "      <td>40</td>\n",
       "      <td>1969</td>\n",
       "      <td>0</td>\n",
       "      <td>2102 Southeast 21st Court, Renton, Washington ...</td>\n",
       "      <td>47.461975</td>\n",
       "      <td>-122.19052</td>\n",
       "    </tr>\n",
       "    <tr>\n",
       "      <th>1</th>\n",
       "      <td>8910500230</td>\n",
       "      <td>12/13/2021</td>\n",
       "      <td>920000.0</td>\n",
       "      <td>5</td>\n",
       "      <td>2.5</td>\n",
       "      <td>2770</td>\n",
       "      <td>6703</td>\n",
       "      <td>1.0</td>\n",
       "      <td>NO</td>\n",
       "      <td>NO</td>\n",
       "      <td>...</td>\n",
       "      <td>PUBLIC</td>\n",
       "      <td>1570</td>\n",
       "      <td>1570</td>\n",
       "      <td>0</td>\n",
       "      <td>240</td>\n",
       "      <td>1950</td>\n",
       "      <td>0</td>\n",
       "      <td>11231 Greenwood Avenue North, Seattle, Washing...</td>\n",
       "      <td>47.711525</td>\n",
       "      <td>-122.35591</td>\n",
       "    </tr>\n",
       "    <tr>\n",
       "      <th>2</th>\n",
       "      <td>1180000275</td>\n",
       "      <td>9/29/2021</td>\n",
       "      <td>311000.0</td>\n",
       "      <td>6</td>\n",
       "      <td>2.0</td>\n",
       "      <td>2880</td>\n",
       "      <td>6156</td>\n",
       "      <td>1.0</td>\n",
       "      <td>NO</td>\n",
       "      <td>NO</td>\n",
       "      <td>...</td>\n",
       "      <td>PUBLIC</td>\n",
       "      <td>1580</td>\n",
       "      <td>1580</td>\n",
       "      <td>0</td>\n",
       "      <td>0</td>\n",
       "      <td>1956</td>\n",
       "      <td>0</td>\n",
       "      <td>8504 South 113th Street, Seattle, Washington 9...</td>\n",
       "      <td>47.502045</td>\n",
       "      <td>-122.22520</td>\n",
       "    </tr>\n",
       "    <tr>\n",
       "      <th>3</th>\n",
       "      <td>1604601802</td>\n",
       "      <td>12/14/2021</td>\n",
       "      <td>775000.0</td>\n",
       "      <td>3</td>\n",
       "      <td>3.0</td>\n",
       "      <td>2160</td>\n",
       "      <td>1400</td>\n",
       "      <td>2.0</td>\n",
       "      <td>NO</td>\n",
       "      <td>NO</td>\n",
       "      <td>...</td>\n",
       "      <td>PUBLIC</td>\n",
       "      <td>1090</td>\n",
       "      <td>1070</td>\n",
       "      <td>200</td>\n",
       "      <td>270</td>\n",
       "      <td>2010</td>\n",
       "      <td>0</td>\n",
       "      <td>4079 Letitia Avenue South, Seattle, Washington...</td>\n",
       "      <td>47.566110</td>\n",
       "      <td>-122.29020</td>\n",
       "    </tr>\n",
       "    <tr>\n",
       "      <th>4</th>\n",
       "      <td>8562780790</td>\n",
       "      <td>8/24/2021</td>\n",
       "      <td>592500.0</td>\n",
       "      <td>2</td>\n",
       "      <td>2.0</td>\n",
       "      <td>1120</td>\n",
       "      <td>758</td>\n",
       "      <td>2.0</td>\n",
       "      <td>NO</td>\n",
       "      <td>NO</td>\n",
       "      <td>...</td>\n",
       "      <td>PUBLIC</td>\n",
       "      <td>1120</td>\n",
       "      <td>550</td>\n",
       "      <td>550</td>\n",
       "      <td>30</td>\n",
       "      <td>2012</td>\n",
       "      <td>0</td>\n",
       "      <td>2193 Northwest Talus Drive, Issaquah, Washingt...</td>\n",
       "      <td>47.532470</td>\n",
       "      <td>-122.07188</td>\n",
       "    </tr>\n",
       "  </tbody>\n",
       "</table>\n",
       "<p>5 rows × 25 columns</p>\n",
       "</div>"
      ],
      "text/plain": [
       "           id        date     price  bedrooms  bathrooms  sqft_living  \\\n",
       "0  7399300360   5/24/2022  675000.0         4        1.0         1180   \n",
       "1  8910500230  12/13/2021  920000.0         5        2.5         2770   \n",
       "2  1180000275   9/29/2021  311000.0         6        2.0         2880   \n",
       "3  1604601802  12/14/2021  775000.0         3        3.0         2160   \n",
       "4  8562780790   8/24/2021  592500.0         2        2.0         1120   \n",
       "\n",
       "   sqft_lot  floors waterfront greenbelt  ... sewer_system sqft_above  \\\n",
       "0      7140     1.0         NO        NO  ...       PUBLIC       1180   \n",
       "1      6703     1.0         NO        NO  ...       PUBLIC       1570   \n",
       "2      6156     1.0         NO        NO  ...       PUBLIC       1580   \n",
       "3      1400     2.0         NO        NO  ...       PUBLIC       1090   \n",
       "4       758     2.0         NO        NO  ...       PUBLIC       1120   \n",
       "\n",
       "  sqft_basement sqft_garage sqft_patio yr_built  yr_renovated  \\\n",
       "0             0           0         40     1969             0   \n",
       "1          1570           0        240     1950             0   \n",
       "2          1580           0          0     1956             0   \n",
       "3          1070         200        270     2010             0   \n",
       "4           550         550         30     2012             0   \n",
       "\n",
       "                                             address        lat       long  \n",
       "0  2102 Southeast 21st Court, Renton, Washington ...  47.461975 -122.19052  \n",
       "1  11231 Greenwood Avenue North, Seattle, Washing...  47.711525 -122.35591  \n",
       "2  8504 South 113th Street, Seattle, Washington 9...  47.502045 -122.22520  \n",
       "3  4079 Letitia Avenue South, Seattle, Washington...  47.566110 -122.29020  \n",
       "4  2193 Northwest Talus Drive, Issaquah, Washingt...  47.532470 -122.07188  \n",
       "\n",
       "[5 rows x 25 columns]"
      ]
     },
     "execution_count": 3,
     "metadata": {},
     "output_type": "execute_result"
    }
   ],
   "source": [
    "df.head()"
   ]
  },
  {
   "cell_type": "code",
   "execution_count": 4,
   "metadata": {},
   "outputs": [
    {
     "data": {
      "text/html": [
       "<div>\n",
       "<style scoped>\n",
       "    .dataframe tbody tr th:only-of-type {\n",
       "        vertical-align: middle;\n",
       "    }\n",
       "\n",
       "    .dataframe tbody tr th {\n",
       "        vertical-align: top;\n",
       "    }\n",
       "\n",
       "    .dataframe thead th {\n",
       "        text-align: right;\n",
       "    }\n",
       "</style>\n",
       "<table border=\"1\" class=\"dataframe\">\n",
       "  <thead>\n",
       "    <tr style=\"text-align: right;\">\n",
       "      <th></th>\n",
       "      <th>id</th>\n",
       "      <th>price</th>\n",
       "      <th>bedrooms</th>\n",
       "      <th>bathrooms</th>\n",
       "      <th>sqft_living</th>\n",
       "      <th>sqft_lot</th>\n",
       "      <th>floors</th>\n",
       "      <th>sqft_above</th>\n",
       "      <th>sqft_basement</th>\n",
       "      <th>sqft_garage</th>\n",
       "      <th>sqft_patio</th>\n",
       "      <th>yr_built</th>\n",
       "      <th>yr_renovated</th>\n",
       "      <th>lat</th>\n",
       "      <th>long</th>\n",
       "    </tr>\n",
       "  </thead>\n",
       "  <tbody>\n",
       "    <tr>\n",
       "      <th>count</th>\n",
       "      <td>3.015500e+04</td>\n",
       "      <td>3.015500e+04</td>\n",
       "      <td>30155.000000</td>\n",
       "      <td>30155.000000</td>\n",
       "      <td>30155.000000</td>\n",
       "      <td>3.015500e+04</td>\n",
       "      <td>30155.000000</td>\n",
       "      <td>30155.000000</td>\n",
       "      <td>30155.000000</td>\n",
       "      <td>30155.000000</td>\n",
       "      <td>30155.000000</td>\n",
       "      <td>30155.000000</td>\n",
       "      <td>30155.000000</td>\n",
       "      <td>30155.000000</td>\n",
       "      <td>30155.000000</td>\n",
       "    </tr>\n",
       "    <tr>\n",
       "      <th>mean</th>\n",
       "      <td>4.538104e+09</td>\n",
       "      <td>1.108536e+06</td>\n",
       "      <td>3.413530</td>\n",
       "      <td>2.334737</td>\n",
       "      <td>2112.424739</td>\n",
       "      <td>1.672360e+04</td>\n",
       "      <td>1.543492</td>\n",
       "      <td>1809.826098</td>\n",
       "      <td>476.039396</td>\n",
       "      <td>330.211142</td>\n",
       "      <td>217.412038</td>\n",
       "      <td>1975.163953</td>\n",
       "      <td>90.922301</td>\n",
       "      <td>47.328076</td>\n",
       "      <td>-121.317397</td>\n",
       "    </tr>\n",
       "    <tr>\n",
       "      <th>std</th>\n",
       "      <td>2.882587e+09</td>\n",
       "      <td>8.963857e+05</td>\n",
       "      <td>0.981612</td>\n",
       "      <td>0.889556</td>\n",
       "      <td>974.044318</td>\n",
       "      <td>6.038260e+04</td>\n",
       "      <td>0.567717</td>\n",
       "      <td>878.306131</td>\n",
       "      <td>579.631302</td>\n",
       "      <td>285.770536</td>\n",
       "      <td>245.302792</td>\n",
       "      <td>32.067362</td>\n",
       "      <td>416.473038</td>\n",
       "      <td>1.434005</td>\n",
       "      <td>5.725475</td>\n",
       "    </tr>\n",
       "    <tr>\n",
       "      <th>min</th>\n",
       "      <td>1.000055e+06</td>\n",
       "      <td>2.736000e+04</td>\n",
       "      <td>0.000000</td>\n",
       "      <td>0.000000</td>\n",
       "      <td>3.000000</td>\n",
       "      <td>4.020000e+02</td>\n",
       "      <td>1.000000</td>\n",
       "      <td>2.000000</td>\n",
       "      <td>0.000000</td>\n",
       "      <td>0.000000</td>\n",
       "      <td>0.000000</td>\n",
       "      <td>1900.000000</td>\n",
       "      <td>0.000000</td>\n",
       "      <td>21.274240</td>\n",
       "      <td>-157.791480</td>\n",
       "    </tr>\n",
       "    <tr>\n",
       "      <th>25%</th>\n",
       "      <td>2.064175e+09</td>\n",
       "      <td>6.480000e+05</td>\n",
       "      <td>3.000000</td>\n",
       "      <td>2.000000</td>\n",
       "      <td>1420.000000</td>\n",
       "      <td>4.850000e+03</td>\n",
       "      <td>1.000000</td>\n",
       "      <td>1180.000000</td>\n",
       "      <td>0.000000</td>\n",
       "      <td>0.000000</td>\n",
       "      <td>40.000000</td>\n",
       "      <td>1953.000000</td>\n",
       "      <td>0.000000</td>\n",
       "      <td>47.405320</td>\n",
       "      <td>-122.326045</td>\n",
       "    </tr>\n",
       "    <tr>\n",
       "      <th>50%</th>\n",
       "      <td>3.874011e+09</td>\n",
       "      <td>8.600000e+05</td>\n",
       "      <td>3.000000</td>\n",
       "      <td>2.500000</td>\n",
       "      <td>1920.000000</td>\n",
       "      <td>7.480000e+03</td>\n",
       "      <td>1.500000</td>\n",
       "      <td>1560.000000</td>\n",
       "      <td>0.000000</td>\n",
       "      <td>400.000000</td>\n",
       "      <td>150.000000</td>\n",
       "      <td>1977.000000</td>\n",
       "      <td>0.000000</td>\n",
       "      <td>47.551380</td>\n",
       "      <td>-122.225585</td>\n",
       "    </tr>\n",
       "    <tr>\n",
       "      <th>75%</th>\n",
       "      <td>7.287100e+09</td>\n",
       "      <td>1.300000e+06</td>\n",
       "      <td>4.000000</td>\n",
       "      <td>3.000000</td>\n",
       "      <td>2619.500000</td>\n",
       "      <td>1.057900e+04</td>\n",
       "      <td>2.000000</td>\n",
       "      <td>2270.000000</td>\n",
       "      <td>940.000000</td>\n",
       "      <td>510.000000</td>\n",
       "      <td>320.000000</td>\n",
       "      <td>2003.000000</td>\n",
       "      <td>0.000000</td>\n",
       "      <td>47.669913</td>\n",
       "      <td>-122.116205</td>\n",
       "    </tr>\n",
       "    <tr>\n",
       "      <th>max</th>\n",
       "      <td>9.904000e+09</td>\n",
       "      <td>3.075000e+07</td>\n",
       "      <td>13.000000</td>\n",
       "      <td>10.500000</td>\n",
       "      <td>15360.000000</td>\n",
       "      <td>3.253932e+06</td>\n",
       "      <td>4.000000</td>\n",
       "      <td>12660.000000</td>\n",
       "      <td>8020.000000</td>\n",
       "      <td>3580.000000</td>\n",
       "      <td>4370.000000</td>\n",
       "      <td>2022.000000</td>\n",
       "      <td>2022.000000</td>\n",
       "      <td>64.824070</td>\n",
       "      <td>-70.074340</td>\n",
       "    </tr>\n",
       "  </tbody>\n",
       "</table>\n",
       "</div>"
      ],
      "text/plain": [
       "                 id         price      bedrooms     bathrooms   sqft_living  \\\n",
       "count  3.015500e+04  3.015500e+04  30155.000000  30155.000000  30155.000000   \n",
       "mean   4.538104e+09  1.108536e+06      3.413530      2.334737   2112.424739   \n",
       "std    2.882587e+09  8.963857e+05      0.981612      0.889556    974.044318   \n",
       "min    1.000055e+06  2.736000e+04      0.000000      0.000000      3.000000   \n",
       "25%    2.064175e+09  6.480000e+05      3.000000      2.000000   1420.000000   \n",
       "50%    3.874011e+09  8.600000e+05      3.000000      2.500000   1920.000000   \n",
       "75%    7.287100e+09  1.300000e+06      4.000000      3.000000   2619.500000   \n",
       "max    9.904000e+09  3.075000e+07     13.000000     10.500000  15360.000000   \n",
       "\n",
       "           sqft_lot        floors    sqft_above  sqft_basement   sqft_garage  \\\n",
       "count  3.015500e+04  30155.000000  30155.000000   30155.000000  30155.000000   \n",
       "mean   1.672360e+04      1.543492   1809.826098     476.039396    330.211142   \n",
       "std    6.038260e+04      0.567717    878.306131     579.631302    285.770536   \n",
       "min    4.020000e+02      1.000000      2.000000       0.000000      0.000000   \n",
       "25%    4.850000e+03      1.000000   1180.000000       0.000000      0.000000   \n",
       "50%    7.480000e+03      1.500000   1560.000000       0.000000    400.000000   \n",
       "75%    1.057900e+04      2.000000   2270.000000     940.000000    510.000000   \n",
       "max    3.253932e+06      4.000000  12660.000000    8020.000000   3580.000000   \n",
       "\n",
       "         sqft_patio      yr_built  yr_renovated           lat          long  \n",
       "count  30155.000000  30155.000000  30155.000000  30155.000000  30155.000000  \n",
       "mean     217.412038   1975.163953     90.922301     47.328076   -121.317397  \n",
       "std      245.302792     32.067362    416.473038      1.434005      5.725475  \n",
       "min        0.000000   1900.000000      0.000000     21.274240   -157.791480  \n",
       "25%       40.000000   1953.000000      0.000000     47.405320   -122.326045  \n",
       "50%      150.000000   1977.000000      0.000000     47.551380   -122.225585  \n",
       "75%      320.000000   2003.000000      0.000000     47.669913   -122.116205  \n",
       "max     4370.000000   2022.000000   2022.000000     64.824070    -70.074340  "
      ]
     },
     "execution_count": 4,
     "metadata": {},
     "output_type": "execute_result"
    }
   ],
   "source": [
    "df.describe()"
   ]
  },
  {
   "cell_type": "code",
   "execution_count": 5,
   "metadata": {},
   "outputs": [
    {
     "name": "stdout",
     "output_type": "stream",
     "text": [
      "<class 'pandas.core.frame.DataFrame'>\n",
      "RangeIndex: 30155 entries, 0 to 30154\n",
      "Data columns (total 25 columns):\n",
      " #   Column         Non-Null Count  Dtype  \n",
      "---  ------         --------------  -----  \n",
      " 0   id             30155 non-null  int64  \n",
      " 1   date           30155 non-null  object \n",
      " 2   price          30155 non-null  float64\n",
      " 3   bedrooms       30155 non-null  int64  \n",
      " 4   bathrooms      30155 non-null  float64\n",
      " 5   sqft_living    30155 non-null  int64  \n",
      " 6   sqft_lot       30155 non-null  int64  \n",
      " 7   floors         30155 non-null  float64\n",
      " 8   waterfront     30155 non-null  object \n",
      " 9   greenbelt      30155 non-null  object \n",
      " 10  nuisance       30155 non-null  object \n",
      " 11  view           30155 non-null  object \n",
      " 12  condition      30155 non-null  object \n",
      " 13  grade          30155 non-null  object \n",
      " 14  heat_source    30123 non-null  object \n",
      " 15  sewer_system   30141 non-null  object \n",
      " 16  sqft_above     30155 non-null  int64  \n",
      " 17  sqft_basement  30155 non-null  int64  \n",
      " 18  sqft_garage    30155 non-null  int64  \n",
      " 19  sqft_patio     30155 non-null  int64  \n",
      " 20  yr_built       30155 non-null  int64  \n",
      " 21  yr_renovated   30155 non-null  int64  \n",
      " 22  address        30155 non-null  object \n",
      " 23  lat            30155 non-null  float64\n",
      " 24  long           30155 non-null  float64\n",
      "dtypes: float64(5), int64(10), object(10)\n",
      "memory usage: 5.8+ MB\n"
     ]
    }
   ],
   "source": [
    "df.info()"
   ]
  },
  {
   "cell_type": "markdown",
   "metadata": {},
   "source": [
    "## Cleaning and Preparing our Data"
   ]
  },
  {
   "cell_type": "markdown",
   "metadata": {},
   "source": [
    "**Removing Outliers in Our Data**\n",
    "\n",
    "We noticed large outliers in our data through looking at the \".describe()\" information outlied above.  We are opting to remove houses where the sale price is more than 3 standard deviations above our mean.  After we cleaned this column, we see that we have a healthier distribution in our 'price' column.  This will enable us to create a more effective predictive model of home prices in King County."
   ]
  },
  {
   "cell_type": "code",
   "execution_count": 6,
   "metadata": {},
   "outputs": [
    {
     "data": {
      "image/png": "[encoded data removed]",
      "text/plain": [
       "<Figure size 432x288 with 1 Axes>"
      ]
     },
     "metadata": {
      "needs_background": "light"
     },
     "output_type": "display_data"
    }
   ],
   "source": [
    "# Cleaning our data\n",
    "df_sorted = df.sort_values(by='price', ascending=False)\n",
    "df.drop(df[df['price'] >= 3797691].index, inplace = True)\n",
    "\n",
    "# Plotting our data\n",
    "plt.hist(df['price'], bins = 200)\n",
    "plt.show()"
   ]
  },
  {
   "cell_type": "markdown",
   "metadata": {},
   "source": [
    "**Creating New Columns for Categorical and Ordinal Data**\n",
    "\n",
    "Below we are cleaning columns with categorical and ordinal data such that the values in these columns are either turned into dummy variables or assigned a value based on the ordinal data."
   ]
  },
  {
   "cell_type": "code",
   "execution_count": 7,
   "metadata": {},
   "outputs": [
    {
     "data": {
      "text/plain": [
       "NO     29302\n",
       "YES      416\n",
       "Name: waterfront, dtype: int64"
      ]
     },
     "execution_count": 7,
     "metadata": {},
     "output_type": "execute_result"
    }
   ],
   "source": [
    "df['waterfront'].value_counts()"
   ]
  },
  {
   "cell_type": "code",
   "execution_count": 8,
   "metadata": {},
   "outputs": [],
   "source": [
    "df['waterfront'].replace(['NO', 'YES'], [0,1], inplace = True)"
   ]
  },
  {
   "cell_type": "code",
   "execution_count": 9,
   "metadata": {},
   "outputs": [
    {
     "data": {
      "text/plain": [
       "NO     28961\n",
       "YES      757\n",
       "Name: greenbelt, dtype: int64"
      ]
     },
     "execution_count": 9,
     "metadata": {},
     "output_type": "execute_result"
    }
   ],
   "source": [
    "df['greenbelt'].value_counts()"
   ]
  },
  {
   "cell_type": "code",
   "execution_count": 10,
   "metadata": {},
   "outputs": [],
   "source": [
    "df['greenbelt'].replace(['NO', 'YES'], [0, 1], inplace = True)"
   ]
  },
  {
   "cell_type": "code",
   "execution_count": 11,
   "metadata": {},
   "outputs": [
    {
     "data": {
      "text/plain": [
       "NO     24577\n",
       "YES     5141\n",
       "Name: nuisance, dtype: int64"
      ]
     },
     "execution_count": 11,
     "metadata": {},
     "output_type": "execute_result"
    }
   ],
   "source": [
    "df['nuisance'].value_counts()"
   ]
  },
  {
   "cell_type": "code",
   "execution_count": 12,
   "metadata": {},
   "outputs": [],
   "source": [
    "df['nuisance'].replace(['NO', 'YES'], [0, 1], inplace = True)"
   ]
  },
  {
   "cell_type": "code",
   "execution_count": 13,
   "metadata": {},
   "outputs": [
    {
     "data": {
      "text/plain": [
       "NONE         26395\n",
       "AVERAGE       1849\n",
       "GOOD           830\n",
       "EXCELLENT      440\n",
       "FAIR           204\n",
       "Name: view, dtype: int64"
      ]
     },
     "execution_count": 13,
     "metadata": {},
     "output_type": "execute_result"
    }
   ],
   "source": [
    "df['view'].value_counts()"
   ]
  },
  {
   "cell_type": "code",
   "execution_count": 14,
   "metadata": {},
   "outputs": [],
   "source": [
    "df['view'].replace(['NONE', 'FAIR', 'AVERAGE', 'GOOD', 'EXCELLENT'], [0, 1, 2, 3, 4], inplace = True)"
   ]
  },
  {
   "cell_type": "code",
   "execution_count": 15,
   "metadata": {},
   "outputs": [
    {
     "data": {
      "text/plain": [
       "0    26395\n",
       "2     1849\n",
       "3      830\n",
       "4      440\n",
       "1      204\n",
       "Name: view, dtype: int64"
      ]
     },
     "execution_count": 15,
     "metadata": {},
     "output_type": "execute_result"
    }
   ],
   "source": [
    "df['view'].value_counts()"
   ]
  },
  {
   "cell_type": "code",
   "execution_count": 16,
   "metadata": {},
   "outputs": [
    {
     "data": {
      "text/plain": [
       "Average      18225\n",
       "Good          7971\n",
       "Very Good     3228\n",
       "Fair           230\n",
       "Poor            64\n",
       "Name: condition, dtype: int64"
      ]
     },
     "execution_count": 16,
     "metadata": {},
     "output_type": "execute_result"
    }
   ],
   "source": [
    "df['condition'].value_counts()"
   ]
  },
  {
   "cell_type": "code",
   "execution_count": 17,
   "metadata": {},
   "outputs": [],
   "source": [
    "df['condition'].replace(['Poor', 'Fair', 'Average', 'Good', 'Very Good'], [1, 2, 3, 4, 5], inplace = True)"
   ]
  },
  {
   "cell_type": "code",
   "execution_count": 18,
   "metadata": {},
   "outputs": [
    {
     "data": {
      "text/plain": [
       "3    18225\n",
       "4     7971\n",
       "5     3228\n",
       "2      230\n",
       "1       64\n",
       "Name: condition, dtype: int64"
      ]
     },
     "execution_count": 18,
     "metadata": {},
     "output_type": "execute_result"
    }
   ],
   "source": [
    "df['condition'].value_counts()"
   ]
  },
  {
   "cell_type": "code",
   "execution_count": 19,
   "metadata": {},
   "outputs": [
    {
     "data": {
      "text/plain": [
       "7 Average        11688\n",
       "8 Good            9369\n",
       "9 Better          3744\n",
       "6 Low Average     2847\n",
       "10 Very Good      1271\n",
       "5 Fair             390\n",
       "11 Excellent       282\n",
       "12 Luxury           56\n",
       "4 Low               50\n",
       "3 Poor              13\n",
       "13 Mansion           4\n",
       "1 Cabin              2\n",
       "2 Substandard        2\n",
       "Name: grade, dtype: int64"
      ]
     },
     "execution_count": 19,
     "metadata": {},
     "output_type": "execute_result"
    }
   ],
   "source": [
    "df['grade'].value_counts()"
   ]
  },
  {
   "cell_type": "code",
   "execution_count": 20,
   "metadata": {},
   "outputs": [],
   "source": [
    "df['grade'].replace(['1 Cabin', '2 Substandard', '3 Poor', '4 Low', '5 Fair', '6 Low Average', '7 Average', '8 Good', '9 Better', '10 Very Good', '11 Excellent', '12 Luxury', '13 Mansion'], [1, 2, 3, 4, 5, 6, 7, 8, 9, 10, 11, 12, 13], inplace = True)"
   ]
  },
  {
   "cell_type": "markdown",
   "metadata": {},
   "source": [
    "**Removing Addresses Not in King County**\n",
    "\n",
    "In reviewing the addresses in our data, we noticed a number of addresses that fell outside of King County, Washington.  Below we are cleaning out this data.  "
   ]
  },
  {
   "cell_type": "code",
   "execution_count": 21,
   "metadata": {},
   "outputs": [],
   "source": [
    "df = df[df['address'].str.contains('98001|98002|98003|98004|98005|98006|98007|98008|98009|98010|98011|98013|98014|98015|98019|98022|98023|98024|98025|98027|98028|98029|98030|98031|98032|98033|98034|98035|98038|98039|98040|98041|98042|98045|98047|98050|98051|98052|98053|98054|98055|98056|98057|98058|98059|98062|98063|98064|98065|98068|98070|98071|98072|98073|98074|98075|98077|98083|98092|98093|98101|98102|98103|98104|98105|98106|98107|98108|98109|98111|98112|98114|98115|98116|98117|98118|98119|98121|98122|98124|98125|98126|98131|98132|98133|98134|98136|98138|98144|98145|98146|98148|98154|98155|98158|98160|98161|98164|98166|98168|98171|98174|98177|98178|98188|98198|98199|98224|98288')]"
   ]
  },
  {
   "cell_type": "markdown",
   "metadata": {},
   "source": [
    "**Creating a Column that Identifies Zip Code**"
   ]
  },
  {
   "cell_type": "code",
   "execution_count": 22,
   "metadata": {},
   "outputs": [],
   "source": [
    "zip_ = []\n",
    "for add in df['address']:\n",
    "    zip_.append(add[-20:-15])\n",
    "\n",
    "df['zip'] = zip_"
   ]
  },
  {
   "cell_type": "markdown",
   "metadata": {},
   "source": [
    "**Creating Columns by Average Home Price by Zip Code**\n",
    "\n",
    "This column will identify the median house sale price for a house's zip code. "
   ]
  },
  {
   "cell_type": "code",
   "execution_count": 23,
   "metadata": {},
   "outputs": [],
   "source": [
    "# Creating median home price by zip code\n",
    "df['zip'] = df['zip'].astype(int)\n",
    "zipdf = df.groupby('zip')['price'].median()\n",
    "zipdf[98133]\n",
    "\n",
    "# creating row in df for the median home price for the zip code\n",
    "median_home_price = []\n",
    "\n",
    "for zip_ in df['zip']:\n",
    "    median_home_price.append(zipdf[zip_])\n",
    "\n",
    "df['median_home_price'] = median_home_price"
   ]
  },
  {
   "cell_type": "code",
   "execution_count": 24,
   "metadata": {},
   "outputs": [],
   "source": [
    "df_grouped = df.groupby('zip')['price'].mean().reset_index()\n",
    "\n",
    "# Calculate quartiles for prices\n",
    "quartiles = pd.qcut(df_grouped['price'], q=[0, 0.25, 0.75, 1], labels=['Lower 25%', 'Middle 50%', 'Top 75%'])\n",
    "\n",
    "# Add the quartile column to the grouped DataFrame\n",
    "df_grouped['quartile'] = quartiles"
   ]
  },
  {
   "cell_type": "code",
   "execution_count": 25,
   "metadata": {},
   "outputs": [],
   "source": [
    "numbers_to_search = [98001, 98002, 98003, 98022, 98023, 98030, 98031, 98032, 98042, 98047, 98057, 98106, 98148, 98168, 98178, 98188, 98198, 98224, 98288]\n",
    "\n",
    "# Create a new column \"x\" based on the presence of the numbers\n",
    "df['lower_25_zip'] = df['zip'].isin(numbers_to_search).astype(int)\n",
    "df['lower_25_zip']\n",
    "\n",
    "numbers_to_search = [98007, 98010, 98011, 98014, 98019, 98024, 98027, 98028, 98034, 98038, 98045, 98051, 98055, 98056, 98058, 98059, 98065, 98070, 98072, 98092, 98103, 98105, 98107, 98108, 98115, 98116, 98117, 98118, 98122, 98125, 98126, 98133, 98136, 98144, 98146, 98155, 98166, 98177]\n",
    "df['middle_50_zip'] = df['zip'].isin(numbers_to_search).astype(int)\n",
    "\n",
    "numbers_to_search = [98004, 98005, 98006, 98008, 98029, 98033, 98039, 98040, 98050, 98052, 98053, 98074, 98075, 98077, 98102, 98109, 98112, 98119, 98199]\n",
    "df['top_75_zip'] = df['zip'].isin(numbers_to_search).astype(int)"
   ]
  },
  {
   "cell_type": "markdown",
   "metadata": {},
   "source": [
    "**Creating Column for \"Year\"**\n",
    "\n",
    "Below we are creating a column for the year that a house was sold to see that relation to sale price."
   ]
  },
  {
   "cell_type": "code",
   "execution_count": 26,
   "metadata": {},
   "outputs": [],
   "source": [
    "df['date'] = pd.to_datetime(df['date'])\n",
    "df['year'] = df['date'].dt.year.astype(str).str[:4]\n",
    "df['year'] = df['year'].astype(int)"
   ]
  },
  {
   "cell_type": "markdown",
   "metadata": {},
   "source": [
    "**Creating Columns for Distance**\n",
    "\n",
    "Below we are creating columns that account for a house's distance from certain locations.  We researched up and coming areas of Seattle and mapped out the distance of houses from these areas.  Additionally, we created a column for the distance from the Seattle central business district."
   ]
  },
  {
   "cell_type": "code",
   "execution_count": 27,
   "metadata": {},
   "outputs": [],
   "source": [
    "def distance_from(lat, long, series_lat, series_long):\n",
    "    '''\n",
    "    Creates a list with distances from the coordinate given by\n",
    "    the first two arguments, to the coordinate given by the two\n",
    "    second arguments.\n",
    "    '''\n",
    "    lat_long = series_lat.astype(str) + ',' + series_long.astype(str)\n",
    "    lat_long = list(map(eval, lat_long))\n",
    "    coordinates = (lat, long)\n",
    "    miles = []\n",
    "    for i in lat_long:\n",
    "        miles.append(round(distance.distance(i, coordinates).miles, 1))\n",
    "    return miles"
   ]
  },
  {
   "cell_type": "code",
   "execution_count": 28,
   "metadata": {},
   "outputs": [],
   "source": [
    "df['distance_seattle'] = distance_from(47.6097, -122.3331, df['lat'], df['long'])\n",
    "df['distance_bellvue'] = distance_from(47.6101, -122.2015, df['lat'], df['long'])\n",
    "df['distance_kent'] = distance_from(47.3809, -122.2348, df['lat'], df['long'])\n",
    "df['distance_federal_way'] = distance_from(47.3165, -122.3222, df['lat'], df['long'])\n",
    "df['distance_bothell'] = distance_from(47.7601, -122.2054, df['lat'], df['long'])\n",
    "df['distance_burien'] = distance_from(47.4704, -122.3468, df['lat'], df['long'])\n",
    "df['distance_auburn'] = distance_from(47.3073, -122.2285, df['lat'], df['long'])\n",
    "df['distance_renton'] = distance_from(47.4829, -122.2171, df['lat'], df['long'])\n",
    "df['distance_redmond'] = distance_from(47.6740, -122.1215, df['lat'], df['long'])\n",
    "df['distance_sammamish'] = distance_from(47.6114, -122.0357, df['lat'], df['long'])\n",
    "df['distance_kirkland'] = distance_from(47.6777, -122.2060, df['lat'], df['long'])\n",
    "df['distance_shoreline'] = distance_from(47.7565, -122.3422, df['lat'], df['long'])"
   ]
  },
  {
   "cell_type": "markdown",
   "metadata": {},
   "source": [
    "**Adding Income and Population Data**\n",
    "\n",
    "Below we are adding in information on median income and total population by zip code.  We sourced this data through the US Census Bureau via \"Point2Homes.com\"\n",
    "\n",
    "*Source: https://www.point2homes.com/US/Neighborhood/WA/King-County-Demographics.html*"
   ]
  },
  {
   "cell_type": "code",
   "execution_count": 29,
   "metadata": {},
   "outputs": [
    {
     "name": "stdout",
     "output_type": "stream",
     "text": [
      "<class 'pandas.core.frame.DataFrame'>\n",
      "RangeIndex: 83 entries, 1 to 83\n",
      "Data columns (total 7 columns):\n",
      " #   Column                Non-Null Count  Dtype  \n",
      "---  ------                --------------  -----  \n",
      " 0   nan                   0 non-null      float64\n",
      " 1   ZipCode               83 non-null     object \n",
      " 2   Population            83 non-null     object \n",
      " 3   Number of Households  83 non-null     object \n",
      " 4   Median Income         83 non-null     object \n",
      " 5   Average Income        83 non-null     object \n",
      " 6   nan                   0 non-null      float64\n",
      "dtypes: float64(2), object(5)\n",
      "memory usage: 4.7+ KB\n"
     ]
    }
   ],
   "source": [
    "df2 = pd.read_csv('data/King County Pop Income Info.csv')\n",
    "# Assign row as column headers\n",
    "header_row = 0\n",
    "df2.columns = df2.iloc[header_row]\n",
    "\n",
    "# Convert row to column header using DataFrame.iloc[]\n",
    "df2.columns = df2.iloc[0]\n",
    "\n",
    "# Dropping first row\n",
    "df2 = df2.iloc[1:]\n",
    "df2.info()"
   ]
  },
  {
   "cell_type": "code",
   "execution_count": 30,
   "metadata": {},
   "outputs": [],
   "source": [
    "df2 = df2.set_index('ZipCode')\n",
    "df2['Median Income'] = df2['Median Income'].str.replace(',', '')\n",
    "df2['Median Income'] = df2['Median Income'].str.replace('$', '')\n",
    "df2['Median Income'] = df2['Median Income'].astype(float)\n",
    "df2 = df2.dropna(axis=1)\n",
    "\n",
    "# creating an index list from df2 that contains list of zip codes in our data\n",
    "index_list = df2.index.values.tolist()"
   ]
  },
  {
   "cell_type": "code",
   "execution_count": 31,
   "metadata": {},
   "outputs": [],
   "source": [
    "# creating row in df for the median income for the zip code - this is to see if the median income affects price\n",
    "median_inc = []\n",
    "\n",
    "for zip_ in df['zip']:\n",
    "    y = str(zip_)\n",
    "    if y in index_list:\n",
    "        x = df2.loc[y]\n",
    "        median_inc.append(x['Median Income'])\n",
    "    else:\n",
    "        median_inc.append('NaN')\n",
    "\n",
    "df['median_zip_income'] = median_inc\n",
    "df['median_zip_income'] = df['median_zip_income'].astype(float)"
   ]
  },
  {
   "cell_type": "code",
   "execution_count": 32,
   "metadata": {},
   "outputs": [],
   "source": [
    "# creating column in df for population by zip code - this is to see if the population of a zip code affects price\n",
    "zip_pop = []\n",
    "\n",
    "for zip_ in df['zip']:\n",
    "    y = str(zip_)\n",
    "    if y in index_list:\n",
    "        x = df2.loc[y]\n",
    "        zip_pop.append(x['Population'])\n",
    "    else:\n",
    "        zip_pop.append('NaN')\n",
    "\n",
    "df['zip_population'] = zip_pop\n",
    "df['zip_population'] = df['zip_population'].str.replace(',', '')\n",
    "df['zip_population'] = df['zip_population'].astype(float)\n",
    "df = df.dropna(axis=0)"
   ]
  },
  {
   "cell_type": "markdown",
   "metadata": {},
   "source": [
    "**Creating Interaction Columns**\n",
    "\n",
    "Below we are creating columns for variables that have similar affects on price based on the heatmap below."
   ]
  },
  {
   "cell_type": "code",
   "execution_count": 33,
   "metadata": {},
   "outputs": [],
   "source": [
    "df['sqft_living_x_above'] = df['sqft_living']*df['sqft_above']\n",
    "# Creating median home price by zip code\n",
    "zipdf = df.groupby('zip')['price'].median()\n",
    "median_home_price = []\n",
    "\n",
    "for zip_ in df['zip']:\n",
    "    median_home_price.append(zipdf[zip_])\n",
    "\n",
    "df['median_home_price'] = median_home_price\n",
    "df['grade_x_price'] = df['grade'] * df['median_home_price']"
   ]
  },
  {
   "cell_type": "code",
   "execution_count": 34,
   "metadata": {},
   "outputs": [],
   "source": [
    "df['sqft_living_grade'] = df['sqft_living'] * df['grade']\n",
    "df['sqft_bath'] = df['sqft_living'] * df['bathrooms']"
   ]
  },
  {
   "cell_type": "markdown",
   "metadata": {},
   "source": [
    "**Creating Column for Proximity to Whole Foods**\n",
    "\n",
    "As we know Whole Foods Market is an indicator of the social status of certain neighborhoods, we are creating a column indicating if a house's zip code has a Whole Foods Market to see if this has an affect on home prices."
   ]
  },
  {
   "cell_type": "code",
   "execution_count": 35,
   "metadata": {},
   "outputs": [],
   "source": [
    "df['zip'] = df['zip'].astype(str)\n",
    "zips_with_whole_foods = ['98116', '98122', '98119', '98121', '98115', '98034', '98004', '98052']\n",
    "df['zip_has_wh'] = np.where(df['zip'].str.contains('98116|98122|98119|98121|98115|98034|98004|98052'), 1, 0)"
   ]
  },
  {
   "cell_type": "markdown",
   "metadata": {},
   "source": [
    "## Exploring our Correlations\n",
    "\n",
    "Now that we have cleaned our data, we are going to start exploring correlations that our various variables has with 'price'.  The goal of this exercise is to find variables that are highly correlated with price such that we can use these variables in a regression model to predict sale prices in King County."
   ]
  },
  {
   "cell_type": "code",
   "execution_count": 36,
   "metadata": {},
   "outputs": [
    {
     "data": {
      "image/png": "[encoded data removed]",
      "text/plain": [
       "<Figure size 1440x1440 with 2 Axes>"
      ]
     },
     "metadata": {
      "needs_background": "light"
     },
     "output_type": "display_data"
    }
   ],
   "source": [
    "plt.figure(figsize=(20,20))\n",
    "sns.heatmap(df.corr().abs())\n",
    "plt.show()"
   ]
  },
  {
   "cell_type": "markdown",
   "metadata": {},
   "source": [
    "**MODEL 1 - Square Feet Living Variable**\n",
    "\n",
    "The first variable we are exploring is the 'sqft_living' variable as this variable has a high correlation with 'price."
   ]
  },
  {
   "cell_type": "code",
   "execution_count": 37,
   "metadata": {},
   "outputs": [
    {
     "data": {
      "text/html": [
       "<table class=\"simpletable\">\n",
       "<caption>OLS Regression Results</caption>\n",
       "<tr>\n",
       "  <th>Dep. Variable:</th>          <td>price</td>      <th>  R-squared:         </th>  <td>   0.406</td>  \n",
       "</tr>\n",
       "<tr>\n",
       "  <th>Model:</th>                   <td>OLS</td>       <th>  Adj. R-squared:    </th>  <td>   0.406</td>  \n",
       "</tr>\n",
       "<tr>\n",
       "  <th>Method:</th>             <td>Least Squares</td>  <th>  F-statistic:       </th>  <td>1.966e+04</td> \n",
       "</tr>\n",
       "<tr>\n",
       "  <th>Date:</th>             <td>Wed, 31 May 2023</td> <th>  Prob (F-statistic):</th>   <td>  0.00</td>   \n",
       "</tr>\n",
       "<tr>\n",
       "  <th>Time:</th>                 <td>14:49:58</td>     <th>  Log-Likelihood:    </th> <td>-4.1550e+05</td>\n",
       "</tr>\n",
       "<tr>\n",
       "  <th>No. Observations:</th>      <td> 28723</td>      <th>  AIC:               </th>  <td>8.310e+05</td> \n",
       "</tr>\n",
       "<tr>\n",
       "  <th>Df Residuals:</th>          <td> 28721</td>      <th>  BIC:               </th>  <td>8.310e+05</td> \n",
       "</tr>\n",
       "<tr>\n",
       "  <th>Df Model:</th>              <td>     1</td>      <th>                     </th>      <td> </td>     \n",
       "</tr>\n",
       "<tr>\n",
       "  <th>Covariance Type:</th>      <td>nonrobust</td>    <th>                     </th>      <td> </td>     \n",
       "</tr>\n",
       "</table>\n",
       "<table class=\"simpletable\">\n",
       "<tr>\n",
       "       <td></td>          <th>coef</th>     <th>std err</th>      <th>t</th>      <th>P>|t|</th>  <th>[0.025</th>    <th>0.975]</th>  \n",
       "</tr>\n",
       "<tr>\n",
       "  <th>const</th>       <td> 1.536e+05</td> <td> 6914.061</td> <td>   22.222</td> <td> 0.000</td> <td>  1.4e+05</td> <td> 1.67e+05</td>\n",
       "</tr>\n",
       "<tr>\n",
       "  <th>sqft_living</th> <td>  425.4279</td> <td>    3.034</td> <td>  140.225</td> <td> 0.000</td> <td>  419.481</td> <td>  431.374</td>\n",
       "</tr>\n",
       "</table>\n",
       "<table class=\"simpletable\">\n",
       "<tr>\n",
       "  <th>Omnibus:</th>       <td>5894.097</td> <th>  Durbin-Watson:     </th> <td>   1.991</td> \n",
       "</tr>\n",
       "<tr>\n",
       "  <th>Prob(Omnibus):</th>  <td> 0.000</td>  <th>  Jarque-Bera (JB):  </th> <td>18291.141</td>\n",
       "</tr>\n",
       "<tr>\n",
       "  <th>Skew:</th>           <td> 1.055</td>  <th>  Prob(JB):          </th> <td>    0.00</td> \n",
       "</tr>\n",
       "<tr>\n",
       "  <th>Kurtosis:</th>       <td> 6.291</td>  <th>  Cond. No.          </th> <td>5.76e+03</td> \n",
       "</tr>\n",
       "</table><br/><br/>Notes:<br/>[1] Standard Errors assume that the covariance matrix of the errors is correctly specified.<br/>[2] The condition number is large, 5.76e+03. This might indicate that there are<br/>strong multicollinearity or other numerical problems."
      ],
      "text/plain": [
       "<class 'statsmodels.iolib.summary.Summary'>\n",
       "\"\"\"\n",
       "                            OLS Regression Results                            \n",
       "==============================================================================\n",
       "Dep. Variable:                  price   R-squared:                       0.406\n",
       "Model:                            OLS   Adj. R-squared:                  0.406\n",
       "Method:                 Least Squares   F-statistic:                 1.966e+04\n",
       "Date:                Wed, 31 May 2023   Prob (F-statistic):               0.00\n",
       "Time:                        14:49:58   Log-Likelihood:            -4.1550e+05\n",
       "No. Observations:               28723   AIC:                         8.310e+05\n",
       "Df Residuals:                   28721   BIC:                         8.310e+05\n",
       "Df Model:                           1                                         \n",
       "Covariance Type:            nonrobust                                         \n",
       "===============================================================================\n",
       "                  coef    std err          t      P>|t|      [0.025      0.975]\n",
       "-------------------------------------------------------------------------------\n",
       "const        1.536e+05   6914.061     22.222      0.000     1.4e+05    1.67e+05\n",
       "sqft_living   425.4279      3.034    140.225      0.000     419.481     431.374\n",
       "==============================================================================\n",
       "Omnibus:                     5894.097   Durbin-Watson:                   1.991\n",
       "Prob(Omnibus):                  0.000   Jarque-Bera (JB):            18291.141\n",
       "Skew:                           1.055   Prob(JB):                         0.00\n",
       "Kurtosis:                       6.291   Cond. No.                     5.76e+03\n",
       "==============================================================================\n",
       "\n",
       "Notes:\n",
       "[1] Standard Errors assume that the covariance matrix of the errors is correctly specified.\n",
       "[2] The condition number is large, 5.76e+03. This might indicate that there are\n",
       "strong multicollinearity or other numerical problems.\n",
       "\"\"\""
      ]
     },
     "execution_count": 37,
     "metadata": {},
     "output_type": "execute_result"
    }
   ],
   "source": [
    "X = df['sqft_living']\n",
    "y = df['price']\n",
    "\n",
    "model = sm.OLS(y, sm.add_constant(X)).fit()\n",
    "model.summary()"
   ]
  },
  {
   "cell_type": "markdown",
   "metadata": {},
   "source": [
    "**Mean Absolute Error**\n",
    "\n",
    "Below we are calculating the Mean Absolute error. We will compare this error to the mean absolute error of future models."
   ]
  },
  {
   "cell_type": "code",
   "execution_count": 38,
   "metadata": {},
   "outputs": [
    {
     "data": {
      "text/plain": [
       "338783.45035597915"
      ]
     },
     "execution_count": 38,
     "metadata": {},
     "output_type": "execute_result"
    }
   ],
   "source": [
    "from sklearn.metrics import mean_absolute_error as mae\n",
    "y_pred = model.predict(sm.add_constant(X))\n",
    "mae(y, y_pred)"
   ]
  },
  {
   "cell_type": "markdown",
   "metadata": {},
   "source": [
    "**MODEL 2 - Adding More Variables to Our Model**\n",
    "\n",
    "Below we are adding additional, price-correlated variables into our model."
   ]
  },
  {
   "cell_type": "code",
   "execution_count": 39,
   "metadata": {},
   "outputs": [
    {
     "data": {
      "text/html": [
       "<table class=\"simpletable\">\n",
       "<caption>OLS Regression Results</caption>\n",
       "<tr>\n",
       "  <th>Dep. Variable:</th>          <td>price</td>      <th>  R-squared:         </th>  <td>   0.466</td>  \n",
       "</tr>\n",
       "<tr>\n",
       "  <th>Model:</th>                   <td>OLS</td>       <th>  Adj. R-squared:    </th>  <td>   0.466</td>  \n",
       "</tr>\n",
       "<tr>\n",
       "  <th>Method:</th>             <td>Least Squares</td>  <th>  F-statistic:       </th>  <td>   5019.</td>  \n",
       "</tr>\n",
       "<tr>\n",
       "  <th>Date:</th>             <td>Wed, 31 May 2023</td> <th>  Prob (F-statistic):</th>   <td>  0.00</td>   \n",
       "</tr>\n",
       "<tr>\n",
       "  <th>Time:</th>                 <td>14:50:01</td>     <th>  Log-Likelihood:    </th> <td>-4.1397e+05</td>\n",
       "</tr>\n",
       "<tr>\n",
       "  <th>No. Observations:</th>      <td> 28723</td>      <th>  AIC:               </th>  <td>8.280e+05</td> \n",
       "</tr>\n",
       "<tr>\n",
       "  <th>Df Residuals:</th>          <td> 28717</td>      <th>  BIC:               </th>  <td>8.280e+05</td> \n",
       "</tr>\n",
       "<tr>\n",
       "  <th>Df Model:</th>              <td>     5</td>      <th>                     </th>      <td> </td>     \n",
       "</tr>\n",
       "<tr>\n",
       "  <th>Covariance Type:</th>      <td>nonrobust</td>    <th>                     </th>      <td> </td>     \n",
       "</tr>\n",
       "</table>\n",
       "<table class=\"simpletable\">\n",
       "<tr>\n",
       "       <td></td>          <th>coef</th>     <th>std err</th>      <th>t</th>      <th>P>|t|</th>  <th>[0.025</th>    <th>0.975]</th>  \n",
       "</tr>\n",
       "<tr>\n",
       "  <th>const</th>       <td>-8.264e+05</td> <td> 2.33e+04</td> <td>  -35.536</td> <td> 0.000</td> <td>-8.72e+05</td> <td>-7.81e+05</td>\n",
       "</tr>\n",
       "<tr>\n",
       "  <th>sqft_living</th> <td>  352.8460</td> <td>    7.312</td> <td>   48.254</td> <td> 0.000</td> <td>  338.514</td> <td>  367.178</td>\n",
       "</tr>\n",
       "<tr>\n",
       "  <th>grade</th>       <td> 1.869e+05</td> <td> 3587.243</td> <td>   52.104</td> <td> 0.000</td> <td>  1.8e+05</td> <td> 1.94e+05</td>\n",
       "</tr>\n",
       "<tr>\n",
       "  <th>bathrooms</th>   <td>-1.234e+04</td> <td> 4905.816</td> <td>   -2.514</td> <td> 0.012</td> <td> -2.2e+04</td> <td>-2719.461</td>\n",
       "</tr>\n",
       "<tr>\n",
       "  <th>bedrooms</th>    <td>-4.124e+04</td> <td> 3625.146</td> <td>  -11.375</td> <td> 0.000</td> <td>-4.83e+04</td> <td>-3.41e+04</td>\n",
       "</tr>\n",
       "<tr>\n",
       "  <th>sqft_above</th>  <td>  -66.3446</td> <td>    6.570</td> <td>  -10.098</td> <td> 0.000</td> <td>  -79.223</td> <td>  -53.466</td>\n",
       "</tr>\n",
       "</table>\n",
       "<table class=\"simpletable\">\n",
       "<tr>\n",
       "  <th>Omnibus:</th>       <td>6302.169</td> <th>  Durbin-Watson:     </th> <td>   1.990</td> \n",
       "</tr>\n",
       "<tr>\n",
       "  <th>Prob(Omnibus):</th>  <td> 0.000</td>  <th>  Jarque-Bera (JB):  </th> <td>21902.047</td>\n",
       "</tr>\n",
       "<tr>\n",
       "  <th>Skew:</th>           <td> 1.089</td>  <th>  Prob(JB):          </th> <td>    0.00</td> \n",
       "</tr>\n",
       "<tr>\n",
       "  <th>Kurtosis:</th>       <td> 6.682</td>  <th>  Cond. No.          </th> <td>2.72e+04</td> \n",
       "</tr>\n",
       "</table><br/><br/>Notes:<br/>[1] Standard Errors assume that the covariance matrix of the errors is correctly specified.<br/>[2] The condition number is large, 2.72e+04. This might indicate that there are<br/>strong multicollinearity or other numerical problems."
      ],
      "text/plain": [
       "<class 'statsmodels.iolib.summary.Summary'>\n",
       "\"\"\"\n",
       "                            OLS Regression Results                            \n",
       "==============================================================================\n",
       "Dep. Variable:                  price   R-squared:                       0.466\n",
       "Model:                            OLS   Adj. R-squared:                  0.466\n",
       "Method:                 Least Squares   F-statistic:                     5019.\n",
       "Date:                Wed, 31 May 2023   Prob (F-statistic):               0.00\n",
       "Time:                        14:50:01   Log-Likelihood:            -4.1397e+05\n",
       "No. Observations:               28723   AIC:                         8.280e+05\n",
       "Df Residuals:                   28717   BIC:                         8.280e+05\n",
       "Df Model:                           5                                         \n",
       "Covariance Type:            nonrobust                                         \n",
       "===============================================================================\n",
       "                  coef    std err          t      P>|t|      [0.025      0.975]\n",
       "-------------------------------------------------------------------------------\n",
       "const       -8.264e+05   2.33e+04    -35.536      0.000   -8.72e+05   -7.81e+05\n",
       "sqft_living   352.8460      7.312     48.254      0.000     338.514     367.178\n",
       "grade        1.869e+05   3587.243     52.104      0.000     1.8e+05    1.94e+05\n",
       "bathrooms   -1.234e+04   4905.816     -2.514      0.012    -2.2e+04   -2719.461\n",
       "bedrooms    -4.124e+04   3625.146    -11.375      0.000   -4.83e+04   -3.41e+04\n",
       "sqft_above    -66.3446      6.570    -10.098      0.000     -79.223     -53.466\n",
       "==============================================================================\n",
       "Omnibus:                     6302.169   Durbin-Watson:                   1.990\n",
       "Prob(Omnibus):                  0.000   Jarque-Bera (JB):            21902.047\n",
       "Skew:                           1.089   Prob(JB):                         0.00\n",
       "Kurtosis:                       6.682   Cond. No.                     2.72e+04\n",
       "==============================================================================\n",
       "\n",
       "Notes:\n",
       "[1] Standard Errors assume that the covariance matrix of the errors is correctly specified.\n",
       "[2] The condition number is large, 2.72e+04. This might indicate that there are\n",
       "strong multicollinearity or other numerical problems.\n",
       "\"\"\""
      ]
     },
     "execution_count": 39,
     "metadata": {},
     "output_type": "execute_result"
    }
   ],
   "source": [
    "X = df[['sqft_living', 'grade', 'bathrooms', 'bedrooms', 'sqft_above']]\n",
    "y = df['price']\n",
    "\n",
    "model = sm.OLS(y, sm.add_constant(X)).fit()\n",
    "model.summary()"
   ]
  },
  {
   "cell_type": "markdown",
   "metadata": {},
   "source": [
    "**Mean Absolute Error**\n",
    "\n",
    "We see a decreasing mean absolute error with this model below."
   ]
  },
  {
   "cell_type": "code",
   "execution_count": 40,
   "metadata": {},
   "outputs": [
    {
     "data": {
      "text/plain": [
       "320281.3860160106"
      ]
     },
     "execution_count": 40,
     "metadata": {},
     "output_type": "execute_result"
    }
   ],
   "source": [
    "from sklearn.metrics import mean_absolute_error as mae\n",
    "y_pred = model.predict(sm.add_constant(X))\n",
    "mae(y, y_pred)"
   ]
  },
  {
   "cell_type": "markdown",
   "metadata": {},
   "source": [
    "**MODEL 3 - Adding External and Feature Engineered Variables**\n",
    "\n",
    "Below we are adding additional, price-correlated variables into our model.  These variables are either from our external data sources or feature engineered through interactions."
   ]
  },
  {
   "cell_type": "code",
   "execution_count": 41,
   "metadata": {},
   "outputs": [],
   "source": [
    "X = df[['sqft_living', 'grade', 'sqft_living_grade', 'yr_renovated', 'sqft_above', 'sqft_basement', 'condition', \n",
    "        'floors', 'lower_25_zip', 'middle_50_zip', 'top_75_zip', 'waterfront', 'view', 'year', 'distance_bellvue', \n",
    "        'distance_bothell', 'distance_renton', 'distance_redmond', 'distance_kirkland', 'distance_shoreline', \n",
    "        'sqft_bath', 'sqft_living_x_above', 'zip_population', 'zip_has_wh', 'median_home_price', 'grade_x_price']]\n",
    "y = df['price']"
   ]
  },
  {
   "cell_type": "code",
   "execution_count": 42,
   "metadata": {},
   "outputs": [
    {
     "data": {
      "text/html": [
       "<table class=\"simpletable\">\n",
       "<caption>OLS Regression Results</caption>\n",
       "<tr>\n",
       "  <th>Dep. Variable:</th>          <td>price</td>      <th>  R-squared:         </th>  <td>   0.767</td>  \n",
       "</tr>\n",
       "<tr>\n",
       "  <th>Model:</th>                   <td>OLS</td>       <th>  Adj. R-squared:    </th>  <td>   0.766</td>  \n",
       "</tr>\n",
       "<tr>\n",
       "  <th>Method:</th>             <td>Least Squares</td>  <th>  F-statistic:       </th>  <td>   3769.</td>  \n",
       "</tr>\n",
       "<tr>\n",
       "  <th>Date:</th>             <td>Wed, 31 May 2023</td> <th>  Prob (F-statistic):</th>   <td>  0.00</td>   \n",
       "</tr>\n",
       "<tr>\n",
       "  <th>Time:</th>                 <td>14:50:06</td>     <th>  Log-Likelihood:    </th> <td>-4.0210e+05</td>\n",
       "</tr>\n",
       "<tr>\n",
       "  <th>No. Observations:</th>      <td> 28723</td>      <th>  AIC:               </th>  <td>8.043e+05</td> \n",
       "</tr>\n",
       "<tr>\n",
       "  <th>Df Residuals:</th>          <td> 28697</td>      <th>  BIC:               </th>  <td>8.045e+05</td> \n",
       "</tr>\n",
       "<tr>\n",
       "  <th>Df Model:</th>              <td>    25</td>      <th>                     </th>      <td> </td>     \n",
       "</tr>\n",
       "<tr>\n",
       "  <th>Covariance Type:</th>      <td>nonrobust</td>    <th>                     </th>      <td> </td>     \n",
       "</tr>\n",
       "</table>\n",
       "<table class=\"simpletable\">\n",
       "<tr>\n",
       "           <td></td>              <th>coef</th>     <th>std err</th>      <th>t</th>      <th>P>|t|</th>  <th>[0.025</th>    <th>0.975]</th>  \n",
       "</tr>\n",
       "<tr>\n",
       "  <th>const</th>               <td>-2.425e+08</td> <td> 5.43e+06</td> <td>  -44.653</td> <td> 0.000</td> <td>-2.53e+08</td> <td>-2.32e+08</td>\n",
       "</tr>\n",
       "<tr>\n",
       "  <th>sqft_living</th>         <td> -249.3482</td> <td>   15.732</td> <td>  -15.850</td> <td> 0.000</td> <td> -280.183</td> <td> -218.513</td>\n",
       "</tr>\n",
       "<tr>\n",
       "  <th>grade</th>               <td>-1.173e+05</td> <td> 5600.755</td> <td>  -20.942</td> <td> 0.000</td> <td>-1.28e+05</td> <td>-1.06e+05</td>\n",
       "</tr>\n",
       "<tr>\n",
       "  <th>sqft_living_grade</th>   <td>   53.0193</td> <td>    1.984</td> <td>   26.723</td> <td> 0.000</td> <td>   49.130</td> <td>   56.908</td>\n",
       "</tr>\n",
       "<tr>\n",
       "  <th>yr_renovated</th>        <td>   50.2692</td> <td>    4.205</td> <td>   11.954</td> <td> 0.000</td> <td>   42.027</td> <td>   58.512</td>\n",
       "</tr>\n",
       "<tr>\n",
       "  <th>sqft_above</th>          <td>  285.4828</td> <td>    9.817</td> <td>   29.081</td> <td> 0.000</td> <td>  266.242</td> <td>  304.724</td>\n",
       "</tr>\n",
       "<tr>\n",
       "  <th>sqft_basement</th>       <td>   23.6968</td> <td>    6.011</td> <td>    3.942</td> <td> 0.000</td> <td>   11.915</td> <td>   35.479</td>\n",
       "</tr>\n",
       "<tr>\n",
       "  <th>condition</th>           <td> 6.355e+04</td> <td> 2577.130</td> <td>   24.661</td> <td> 0.000</td> <td> 5.85e+04</td> <td> 6.86e+04</td>\n",
       "</tr>\n",
       "<tr>\n",
       "  <th>floors</th>              <td>-5.862e+04</td> <td> 4379.035</td> <td>  -13.387</td> <td> 0.000</td> <td>-6.72e+04</td> <td>   -5e+04</td>\n",
       "</tr>\n",
       "<tr>\n",
       "  <th>lower_25_zip</th>        <td>-8.085e+07</td> <td> 1.81e+06</td> <td>  -44.655</td> <td> 0.000</td> <td>-8.44e+07</td> <td>-7.73e+07</td>\n",
       "</tr>\n",
       "<tr>\n",
       "  <th>middle_50_zip</th>       <td>-8.084e+07</td> <td> 1.81e+06</td> <td>  -44.652</td> <td> 0.000</td> <td>-8.44e+07</td> <td>-7.73e+07</td>\n",
       "</tr>\n",
       "<tr>\n",
       "  <th>top_75_zip</th>          <td>-8.083e+07</td> <td> 1.81e+06</td> <td>  -44.651</td> <td> 0.000</td> <td>-8.44e+07</td> <td>-7.73e+07</td>\n",
       "</tr>\n",
       "<tr>\n",
       "  <th>waterfront</th>          <td> 3.053e+05</td> <td> 1.59e+04</td> <td>   19.160</td> <td> 0.000</td> <td> 2.74e+05</td> <td> 3.37e+05</td>\n",
       "</tr>\n",
       "<tr>\n",
       "  <th>view</th>                <td> 7.368e+04</td> <td> 2414.825</td> <td>   30.512</td> <td> 0.000</td> <td> 6.89e+04</td> <td> 7.84e+04</td>\n",
       "</tr>\n",
       "<tr>\n",
       "  <th>year</th>                <td> 1.602e+05</td> <td> 3582.412</td> <td>   44.718</td> <td> 0.000</td> <td> 1.53e+05</td> <td> 1.67e+05</td>\n",
       "</tr>\n",
       "<tr>\n",
       "  <th>distance_bellvue</th>    <td>-3.032e+04</td> <td> 3033.786</td> <td>   -9.995</td> <td> 0.000</td> <td>-3.63e+04</td> <td>-2.44e+04</td>\n",
       "</tr>\n",
       "<tr>\n",
       "  <th>distance_bothell</th>    <td> 3.753e+04</td> <td> 2550.254</td> <td>   14.717</td> <td> 0.000</td> <td> 3.25e+04</td> <td> 4.25e+04</td>\n",
       "</tr>\n",
       "<tr>\n",
       "  <th>distance_renton</th>     <td> 3.026e+04</td> <td> 1143.631</td> <td>   26.462</td> <td> 0.000</td> <td>  2.8e+04</td> <td> 3.25e+04</td>\n",
       "</tr>\n",
       "<tr>\n",
       "  <th>distance_redmond</th>    <td> 2.843e+04</td> <td> 2229.498</td> <td>   12.752</td> <td> 0.000</td> <td> 2.41e+04</td> <td> 3.28e+04</td>\n",
       "</tr>\n",
       "<tr>\n",
       "  <th>distance_kirkland</th>   <td>-7.474e+04</td> <td> 3662.745</td> <td>  -20.406</td> <td> 0.000</td> <td>-8.19e+04</td> <td>-6.76e+04</td>\n",
       "</tr>\n",
       "<tr>\n",
       "  <th>distance_shoreline</th>  <td> 6690.7756</td> <td> 1505.809</td> <td>    4.443</td> <td> 0.000</td> <td> 3739.320</td> <td> 9642.231</td>\n",
       "</tr>\n",
       "<tr>\n",
       "  <th>sqft_bath</th>           <td>   13.6936</td> <td>    1.229</td> <td>   11.146</td> <td> 0.000</td> <td>   11.285</td> <td>   16.102</td>\n",
       "</tr>\n",
       "<tr>\n",
       "  <th>sqft_living_x_above</th> <td>   -0.0441</td> <td>    0.002</td> <td>  -22.417</td> <td> 0.000</td> <td>   -0.048</td> <td>   -0.040</td>\n",
       "</tr>\n",
       "<tr>\n",
       "  <th>zip_population</th>      <td>   -0.6112</td> <td>    0.155</td> <td>   -3.935</td> <td> 0.000</td> <td>   -0.916</td> <td>   -0.307</td>\n",
       "</tr>\n",
       "<tr>\n",
       "  <th>zip_has_wh</th>          <td> 2.222e+04</td> <td> 6627.248</td> <td>    3.353</td> <td> 0.001</td> <td> 9233.734</td> <td> 3.52e+04</td>\n",
       "</tr>\n",
       "<tr>\n",
       "  <th>median_home_price</th>   <td>   -0.2664</td> <td>    0.038</td> <td>   -7.067</td> <td> 0.000</td> <td>   -0.340</td> <td>   -0.192</td>\n",
       "</tr>\n",
       "<tr>\n",
       "  <th>grade_x_price</th>       <td>    0.0888</td> <td>    0.004</td> <td>   20.302</td> <td> 0.000</td> <td>    0.080</td> <td>    0.097</td>\n",
       "</tr>\n",
       "</table>\n",
       "<table class=\"simpletable\">\n",
       "<tr>\n",
       "  <th>Omnibus:</th>       <td>7017.773</td> <th>  Durbin-Watson:     </th>  <td>   1.940</td> \n",
       "</tr>\n",
       "<tr>\n",
       "  <th>Prob(Omnibus):</th>  <td> 0.000</td>  <th>  Jarque-Bera (JB):  </th> <td>161731.141</td>\n",
       "</tr>\n",
       "<tr>\n",
       "  <th>Skew:</th>           <td> 0.630</td>  <th>  Prob(JB):          </th>  <td>    0.00</td> \n",
       "</tr>\n",
       "<tr>\n",
       "  <th>Kurtosis:</th>       <td>14.556</td>  <th>  Cond. No.          </th>  <td>2.60e+15</td> \n",
       "</tr>\n",
       "</table><br/><br/>Notes:<br/>[1] Standard Errors assume that the covariance matrix of the errors is correctly specified.<br/>[2] The smallest eigenvalue is 4.14e-13. This might indicate that there are<br/>strong multicollinearity problems or that the design matrix is singular."
      ],
      "text/plain": [
       "<class 'statsmodels.iolib.summary.Summary'>\n",
       "\"\"\"\n",
       "                            OLS Regression Results                            \n",
       "==============================================================================\n",
       "Dep. Variable:                  price   R-squared:                       0.767\n",
       "Model:                            OLS   Adj. R-squared:                  0.766\n",
       "Method:                 Least Squares   F-statistic:                     3769.\n",
       "Date:                Wed, 31 May 2023   Prob (F-statistic):               0.00\n",
       "Time:                        14:50:06   Log-Likelihood:            -4.0210e+05\n",
       "No. Observations:               28723   AIC:                         8.043e+05\n",
       "Df Residuals:                   28697   BIC:                         8.045e+05\n",
       "Df Model:                          25                                         \n",
       "Covariance Type:            nonrobust                                         \n",
       "=======================================================================================\n",
       "                          coef    std err          t      P>|t|      [0.025      0.975]\n",
       "---------------------------------------------------------------------------------------\n",
       "const               -2.425e+08   5.43e+06    -44.653      0.000   -2.53e+08   -2.32e+08\n",
       "sqft_living          -249.3482     15.732    -15.850      0.000    -280.183    -218.513\n",
       "grade               -1.173e+05   5600.755    -20.942      0.000   -1.28e+05   -1.06e+05\n",
       "sqft_living_grade      53.0193      1.984     26.723      0.000      49.130      56.908\n",
       "yr_renovated           50.2692      4.205     11.954      0.000      42.027      58.512\n",
       "sqft_above            285.4828      9.817     29.081      0.000     266.242     304.724\n",
       "sqft_basement          23.6968      6.011      3.942      0.000      11.915      35.479\n",
       "condition            6.355e+04   2577.130     24.661      0.000    5.85e+04    6.86e+04\n",
       "floors              -5.862e+04   4379.035    -13.387      0.000   -6.72e+04      -5e+04\n",
       "lower_25_zip        -8.085e+07   1.81e+06    -44.655      0.000   -8.44e+07   -7.73e+07\n",
       "middle_50_zip       -8.084e+07   1.81e+06    -44.652      0.000   -8.44e+07   -7.73e+07\n",
       "top_75_zip          -8.083e+07   1.81e+06    -44.651      0.000   -8.44e+07   -7.73e+07\n",
       "waterfront           3.053e+05   1.59e+04     19.160      0.000    2.74e+05    3.37e+05\n",
       "view                 7.368e+04   2414.825     30.512      0.000    6.89e+04    7.84e+04\n",
       "year                 1.602e+05   3582.412     44.718      0.000    1.53e+05    1.67e+05\n",
       "distance_bellvue    -3.032e+04   3033.786     -9.995      0.000   -3.63e+04   -2.44e+04\n",
       "distance_bothell     3.753e+04   2550.254     14.717      0.000    3.25e+04    4.25e+04\n",
       "distance_renton      3.026e+04   1143.631     26.462      0.000     2.8e+04    3.25e+04\n",
       "distance_redmond     2.843e+04   2229.498     12.752      0.000    2.41e+04    3.28e+04\n",
       "distance_kirkland   -7.474e+04   3662.745    -20.406      0.000   -8.19e+04   -6.76e+04\n",
       "distance_shoreline   6690.7756   1505.809      4.443      0.000    3739.320    9642.231\n",
       "sqft_bath              13.6936      1.229     11.146      0.000      11.285      16.102\n",
       "sqft_living_x_above    -0.0441      0.002    -22.417      0.000      -0.048      -0.040\n",
       "zip_population         -0.6112      0.155     -3.935      0.000      -0.916      -0.307\n",
       "zip_has_wh           2.222e+04   6627.248      3.353      0.001    9233.734    3.52e+04\n",
       "median_home_price      -0.2664      0.038     -7.067      0.000      -0.340      -0.192\n",
       "grade_x_price           0.0888      0.004     20.302      0.000       0.080       0.097\n",
       "==============================================================================\n",
       "Omnibus:                     7017.773   Durbin-Watson:                   1.940\n",
       "Prob(Omnibus):                  0.000   Jarque-Bera (JB):           161731.141\n",
       "Skew:                           0.630   Prob(JB):                         0.00\n",
       "Kurtosis:                      14.556   Cond. No.                     2.60e+15\n",
       "==============================================================================\n",
       "\n",
       "Notes:\n",
       "[1] Standard Errors assume that the covariance matrix of the errors is correctly specified.\n",
       "[2] The smallest eigenvalue is 4.14e-13. This might indicate that there are\n",
       "strong multicollinearity problems or that the design matrix is singular.\n",
       "\"\"\""
      ]
     },
     "execution_count": 42,
     "metadata": {},
     "output_type": "execute_result"
    }
   ],
   "source": [
    "model = sm.OLS(y, sm.add_constant(X)).fit()\n",
    "model.summary()"
   ]
  },
  {
   "cell_type": "markdown",
   "metadata": {},
   "source": [
    "**Mean Absolute Error**\n",
    "\n",
    "Within our final model, we see a mean absolute error of $187,397, which shows a lot of progress from our earlier models with limited variables."
   ]
  },
  {
   "cell_type": "code",
   "execution_count": 43,
   "metadata": {},
   "outputs": [
    {
     "data": {
      "text/plain": [
       "187397.75554157808"
      ]
     },
     "execution_count": 43,
     "metadata": {},
     "output_type": "execute_result"
    }
   ],
   "source": [
    "from sklearn.metrics import mean_absolute_error as mae\n",
    "y_pred = model.predict(sm.add_constant(X))\n",
    "mae(y, y_pred)"
   ]
  },
  {
   "cell_type": "code",
   "execution_count": 45,
   "metadata": {},
   "outputs": [],
   "source": [
    "df.to_csv('data/cleaned_data.csv')"
   ]
  },
  {
   "cell_type": "code",
   "execution_count": null,
   "metadata": {},
   "outputs": [],
   "source": []
  }
 ],
 "metadata": {
  "kernelspec": {
   "display_name": "Python (learn-env)",
   "language": "python",
   "name": "learn-env"
  },
  "language_info": {
   "codemirror_mode": {
    "name": "ipython",
    "version": 3
   },
   "file_extension": ".py",
   "mimetype": "text/x-python",
   "name": "python",
   "nbconvert_exporter": "python",
   "pygments_lexer": "ipython3",
   "version": "3.8.5"
  }
 },
 "nbformat": 4,
 "nbformat_minor": 4
}
