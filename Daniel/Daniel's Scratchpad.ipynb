{
 "cells": [
  {
   "cell_type": "markdown",
   "metadata": {},
   "source": [
    "# Daniel's Scratchpad"
   ]
  },
  {
   "cell_type": "code",
   "execution_count": 1,
   "metadata": {},
   "outputs": [],
   "source": [
    "# Imports\n",
    "import pandas as pd\n",
    "import seaborn as sns\n",
    "import matplotlib.pyplot as plt\n",
    "import statsmodels.api as sm\n",
    "import scipy.stats as stats\n",
    "import numpy as np"
   ]
  },
  {
   "cell_type": "code",
   "execution_count": 2,
   "metadata": {},
   "outputs": [],
   "source": [
    "df = pd.read_csv('data/kc_house_data.csv')"
   ]
  },
  {
   "cell_type": "code",
   "execution_count": 3,
   "metadata": {},
   "outputs": [
    {
     "data": {
      "text/html": [
       "<div>\n",
       "<style scoped>\n",
       "    .dataframe tbody tr th:only-of-type {\n",
       "        vertical-align: middle;\n",
       "    }\n",
       "\n",
       "    .dataframe tbody tr th {\n",
       "        vertical-align: top;\n",
       "    }\n",
       "\n",
       "    .dataframe thead th {\n",
       "        text-align: right;\n",
       "    }\n",
       "</style>\n",
       "<table border=\"1\" class=\"dataframe\">\n",
       "  <thead>\n",
       "    <tr style=\"text-align: right;\">\n",
       "      <th></th>\n",
       "      <th>id</th>\n",
       "      <th>date</th>\n",
       "      <th>price</th>\n",
       "      <th>bedrooms</th>\n",
       "      <th>bathrooms</th>\n",
       "      <th>sqft_living</th>\n",
       "      <th>sqft_lot</th>\n",
       "      <th>floors</th>\n",
       "      <th>waterfront</th>\n",
       "      <th>greenbelt</th>\n",
       "      <th>...</th>\n",
       "      <th>sewer_system</th>\n",
       "      <th>sqft_above</th>\n",
       "      <th>sqft_basement</th>\n",
       "      <th>sqft_garage</th>\n",
       "      <th>sqft_patio</th>\n",
       "      <th>yr_built</th>\n",
       "      <th>yr_renovated</th>\n",
       "      <th>address</th>\n",
       "      <th>lat</th>\n",
       "      <th>long</th>\n",
       "    </tr>\n",
       "  </thead>\n",
       "  <tbody>\n",
       "    <tr>\n",
       "      <th>0</th>\n",
       "      <td>7399300360</td>\n",
       "      <td>5/24/2022</td>\n",
       "      <td>675000.0</td>\n",
       "      <td>4</td>\n",
       "      <td>1.0</td>\n",
       "      <td>1180</td>\n",
       "      <td>7140</td>\n",
       "      <td>1.0</td>\n",
       "      <td>NO</td>\n",
       "      <td>NO</td>\n",
       "      <td>...</td>\n",
       "      <td>PUBLIC</td>\n",
       "      <td>1180</td>\n",
       "      <td>0</td>\n",
       "      <td>0</td>\n",
       "      <td>40</td>\n",
       "      <td>1969</td>\n",
       "      <td>0</td>\n",
       "      <td>2102 Southeast 21st Court, Renton, Washington ...</td>\n",
       "      <td>47.461975</td>\n",
       "      <td>-122.19052</td>\n",
       "    </tr>\n",
       "    <tr>\n",
       "      <th>1</th>\n",
       "      <td>8910500230</td>\n",
       "      <td>12/13/2021</td>\n",
       "      <td>920000.0</td>\n",
       "      <td>5</td>\n",
       "      <td>2.5</td>\n",
       "      <td>2770</td>\n",
       "      <td>6703</td>\n",
       "      <td>1.0</td>\n",
       "      <td>NO</td>\n",
       "      <td>NO</td>\n",
       "      <td>...</td>\n",
       "      <td>PUBLIC</td>\n",
       "      <td>1570</td>\n",
       "      <td>1570</td>\n",
       "      <td>0</td>\n",
       "      <td>240</td>\n",
       "      <td>1950</td>\n",
       "      <td>0</td>\n",
       "      <td>11231 Greenwood Avenue North, Seattle, Washing...</td>\n",
       "      <td>47.711525</td>\n",
       "      <td>-122.35591</td>\n",
       "    </tr>\n",
       "    <tr>\n",
       "      <th>2</th>\n",
       "      <td>1180000275</td>\n",
       "      <td>9/29/2021</td>\n",
       "      <td>311000.0</td>\n",
       "      <td>6</td>\n",
       "      <td>2.0</td>\n",
       "      <td>2880</td>\n",
       "      <td>6156</td>\n",
       "      <td>1.0</td>\n",
       "      <td>NO</td>\n",
       "      <td>NO</td>\n",
       "      <td>...</td>\n",
       "      <td>PUBLIC</td>\n",
       "      <td>1580</td>\n",
       "      <td>1580</td>\n",
       "      <td>0</td>\n",
       "      <td>0</td>\n",
       "      <td>1956</td>\n",
       "      <td>0</td>\n",
       "      <td>8504 South 113th Street, Seattle, Washington 9...</td>\n",
       "      <td>47.502045</td>\n",
       "      <td>-122.22520</td>\n",
       "    </tr>\n",
       "    <tr>\n",
       "      <th>3</th>\n",
       "      <td>1604601802</td>\n",
       "      <td>12/14/2021</td>\n",
       "      <td>775000.0</td>\n",
       "      <td>3</td>\n",
       "      <td>3.0</td>\n",
       "      <td>2160</td>\n",
       "      <td>1400</td>\n",
       "      <td>2.0</td>\n",
       "      <td>NO</td>\n",
       "      <td>NO</td>\n",
       "      <td>...</td>\n",
       "      <td>PUBLIC</td>\n",
       "      <td>1090</td>\n",
       "      <td>1070</td>\n",
       "      <td>200</td>\n",
       "      <td>270</td>\n",
       "      <td>2010</td>\n",
       "      <td>0</td>\n",
       "      <td>4079 Letitia Avenue South, Seattle, Washington...</td>\n",
       "      <td>47.566110</td>\n",
       "      <td>-122.29020</td>\n",
       "    </tr>\n",
       "    <tr>\n",
       "      <th>4</th>\n",
       "      <td>8562780790</td>\n",
       "      <td>8/24/2021</td>\n",
       "      <td>592500.0</td>\n",
       "      <td>2</td>\n",
       "      <td>2.0</td>\n",
       "      <td>1120</td>\n",
       "      <td>758</td>\n",
       "      <td>2.0</td>\n",
       "      <td>NO</td>\n",
       "      <td>NO</td>\n",
       "      <td>...</td>\n",
       "      <td>PUBLIC</td>\n",
       "      <td>1120</td>\n",
       "      <td>550</td>\n",
       "      <td>550</td>\n",
       "      <td>30</td>\n",
       "      <td>2012</td>\n",
       "      <td>0</td>\n",
       "      <td>2193 Northwest Talus Drive, Issaquah, Washingt...</td>\n",
       "      <td>47.532470</td>\n",
       "      <td>-122.07188</td>\n",
       "    </tr>\n",
       "  </tbody>\n",
       "</table>\n",
       "<p>5 rows × 25 columns</p>\n",
       "</div>"
      ],
      "text/plain": [
       "           id        date     price  bedrooms  bathrooms  sqft_living  \\\n",
       "0  7399300360   5/24/2022  675000.0         4        1.0         1180   \n",
       "1  8910500230  12/13/2021  920000.0         5        2.5         2770   \n",
       "2  1180000275   9/29/2021  311000.0         6        2.0         2880   \n",
       "3  1604601802  12/14/2021  775000.0         3        3.0         2160   \n",
       "4  8562780790   8/24/2021  592500.0         2        2.0         1120   \n",
       "\n",
       "   sqft_lot  floors waterfront greenbelt  ... sewer_system sqft_above  \\\n",
       "0      7140     1.0         NO        NO  ...       PUBLIC       1180   \n",
       "1      6703     1.0         NO        NO  ...       PUBLIC       1570   \n",
       "2      6156     1.0         NO        NO  ...       PUBLIC       1580   \n",
       "3      1400     2.0         NO        NO  ...       PUBLIC       1090   \n",
       "4       758     2.0         NO        NO  ...       PUBLIC       1120   \n",
       "\n",
       "  sqft_basement sqft_garage sqft_patio yr_built  yr_renovated  \\\n",
       "0             0           0         40     1969             0   \n",
       "1          1570           0        240     1950             0   \n",
       "2          1580           0          0     1956             0   \n",
       "3          1070         200        270     2010             0   \n",
       "4           550         550         30     2012             0   \n",
       "\n",
       "                                             address        lat       long  \n",
       "0  2102 Southeast 21st Court, Renton, Washington ...  47.461975 -122.19052  \n",
       "1  11231 Greenwood Avenue North, Seattle, Washing...  47.711525 -122.35591  \n",
       "2  8504 South 113th Street, Seattle, Washington 9...  47.502045 -122.22520  \n",
       "3  4079 Letitia Avenue South, Seattle, Washington...  47.566110 -122.29020  \n",
       "4  2193 Northwest Talus Drive, Issaquah, Washingt...  47.532470 -122.07188  \n",
       "\n",
       "[5 rows x 25 columns]"
      ]
     },
     "execution_count": 3,
     "metadata": {},
     "output_type": "execute_result"
    }
   ],
   "source": [
    "df.head()"
   ]
  },
  {
   "cell_type": "code",
   "execution_count": 4,
   "metadata": {},
   "outputs": [
    {
     "data": {
      "text/plain": [
       "'98023'"
      ]
     },
     "execution_count": 4,
     "metadata": {},
     "output_type": "execute_result"
    }
   ],
   "source": [
    "# This code will give you the zip code from the address column\n",
    "df['address'][23910][-20:-15]"
   ]
  },
  {
   "cell_type": "code",
   "execution_count": 5,
   "metadata": {},
   "outputs": [],
   "source": [
    "zip_ = []\n",
    "for add in df['address']:\n",
    "    zip_.append(add[-20:-15])\n",
    "\n",
    "df['zip'] = zip_"
   ]
  },
  {
   "cell_type": "code",
   "execution_count": 6,
   "metadata": {},
   "outputs": [
    {
     "data": {
      "text/html": [
       "<div>\n",
       "<style scoped>\n",
       "    .dataframe tbody tr th:only-of-type {\n",
       "        vertical-align: middle;\n",
       "    }\n",
       "\n",
       "    .dataframe tbody tr th {\n",
       "        vertical-align: top;\n",
       "    }\n",
       "\n",
       "    .dataframe thead th {\n",
       "        text-align: right;\n",
       "    }\n",
       "</style>\n",
       "<table border=\"1\" class=\"dataframe\">\n",
       "  <thead>\n",
       "    <tr style=\"text-align: right;\">\n",
       "      <th></th>\n",
       "      <th>id</th>\n",
       "      <th>date</th>\n",
       "      <th>price</th>\n",
       "      <th>bedrooms</th>\n",
       "      <th>bathrooms</th>\n",
       "      <th>sqft_living</th>\n",
       "      <th>sqft_lot</th>\n",
       "      <th>floors</th>\n",
       "      <th>waterfront</th>\n",
       "      <th>greenbelt</th>\n",
       "      <th>...</th>\n",
       "      <th>sqft_above</th>\n",
       "      <th>sqft_basement</th>\n",
       "      <th>sqft_garage</th>\n",
       "      <th>sqft_patio</th>\n",
       "      <th>yr_built</th>\n",
       "      <th>yr_renovated</th>\n",
       "      <th>address</th>\n",
       "      <th>lat</th>\n",
       "      <th>long</th>\n",
       "      <th>zip</th>\n",
       "    </tr>\n",
       "  </thead>\n",
       "  <tbody>\n",
       "    <tr>\n",
       "      <th>16906</th>\n",
       "      <td>1959700246</td>\n",
       "      <td>8/9/2021</td>\n",
       "      <td>1050000.0</td>\n",
       "      <td>3</td>\n",
       "      <td>2.5</td>\n",
       "      <td>1500</td>\n",
       "      <td>1167</td>\n",
       "      <td>2.0</td>\n",
       "      <td>NO</td>\n",
       "      <td>NO</td>\n",
       "      <td>...</td>\n",
       "      <td>1020</td>\n",
       "      <td>480</td>\n",
       "      <td>0</td>\n",
       "      <td>200</td>\n",
       "      <td>2011</td>\n",
       "      <td>0</td>\n",
       "      <td>Boylston Avenue, Princeton, Massachusetts 0154...</td>\n",
       "      <td>42.44778</td>\n",
       "      <td>-71.8807</td>\n",
       "      <td>01541</td>\n",
       "    </tr>\n",
       "    <tr>\n",
       "      <th>26129</th>\n",
       "      <td>9831200171</td>\n",
       "      <td>5/25/2022</td>\n",
       "      <td>1515000.0</td>\n",
       "      <td>3</td>\n",
       "      <td>2.5</td>\n",
       "      <td>1880</td>\n",
       "      <td>1350</td>\n",
       "      <td>3.0</td>\n",
       "      <td>NO</td>\n",
       "      <td>NO</td>\n",
       "      <td>...</td>\n",
       "      <td>1880</td>\n",
       "      <td>850</td>\n",
       "      <td>850</td>\n",
       "      <td>0</td>\n",
       "      <td>2013</td>\n",
       "      <td>0</td>\n",
       "      <td>Boylston Avenue, Princeton, Massachusetts 0154...</td>\n",
       "      <td>42.44778</td>\n",
       "      <td>-71.8807</td>\n",
       "      <td>01541</td>\n",
       "    </tr>\n",
       "  </tbody>\n",
       "</table>\n",
       "<p>2 rows × 26 columns</p>\n",
       "</div>"
      ],
      "text/plain": [
       "               id       date      price  bedrooms  bathrooms  sqft_living  \\\n",
       "16906  1959700246   8/9/2021  1050000.0         3        2.5         1500   \n",
       "26129  9831200171  5/25/2022  1515000.0         3        2.5         1880   \n",
       "\n",
       "       sqft_lot  floors waterfront greenbelt  ... sqft_above sqft_basement  \\\n",
       "16906      1167     2.0         NO        NO  ...       1020           480   \n",
       "26129      1350     3.0         NO        NO  ...       1880           850   \n",
       "\n",
       "      sqft_garage sqft_patio yr_built yr_renovated  \\\n",
       "16906           0        200     2011            0   \n",
       "26129         850          0     2013            0   \n",
       "\n",
       "                                                 address       lat     long  \\\n",
       "16906  Boylston Avenue, Princeton, Massachusetts 0154...  42.44778 -71.8807   \n",
       "26129  Boylston Avenue, Princeton, Massachusetts 0154...  42.44778 -71.8807   \n",
       "\n",
       "         zip  \n",
       "16906  01541  \n",
       "26129  01541  \n",
       "\n",
       "[2 rows x 26 columns]"
      ]
     },
     "execution_count": 6,
     "metadata": {},
     "output_type": "execute_result"
    }
   ],
   "source": [
    "# THERE IS DATA FROM OTHER CITIES MIXED IN HERE - WE'LL NEED TO CLEAN THIS\n",
    "# PRINCETON, MASSACHUSETTS IS NOT IN KING COUNTY, WASHINGTON  --  EXAMPLE BELOW\n",
    "df.loc[df['zip'] == '01541']"
   ]
  },
  {
   "cell_type": "code",
   "execution_count": 7,
   "metadata": {},
   "outputs": [],
   "source": [
    "# Removing addresses not in King County, Washington -- we sourced this list of zips online\n",
    "df = df[df['address'].str.contains('98001|98002|98003|98004|98005|98006|98007|98008|98009|98010|98011|98013|98014|98015|98019|98022|98023|98024|98025|98027|98028|98029|98030|98031|98032|98033|98034|98035|98038|98039|98040|98041|98042|98045|98047|98050|98051|98052|98053|98054|98055|98056|98057|98058|98059|98062|98063|98064|98065|98068|98070|98071|98072|98073|98074|98075|98077|98083|98092|98093|98101|98102|98103|98104|98105|98106|98107|98108|98109|98111|98112|98114|98115|98116|98117|98118|98119|98121|98122|98124|98125|98126|98131|98132|98133|98134|98136|98138|98144|98145|98146|98148|98154|98155|98158|98160|98161|98164|98166|98168|98171|98174|98177|98178|98188|98198|98199|98224|98288')]"
   ]
  },
  {
   "cell_type": "code",
   "execution_count": 8,
   "metadata": {},
   "outputs": [],
   "source": [
    "df['zip'] = df['zip'].astype(int)"
   ]
  },
  {
   "cell_type": "code",
   "execution_count": 9,
   "metadata": {},
   "outputs": [
    {
     "data": {
      "text/plain": [
       "765000.0"
      ]
     },
     "execution_count": 9,
     "metadata": {},
     "output_type": "execute_result"
    }
   ],
   "source": [
    "# Creating median home price by zip code\n",
    "zipdf = df.groupby('zip')['price'].median()\n",
    "zipdf[98133]"
   ]
  },
  {
   "cell_type": "code",
   "execution_count": 10,
   "metadata": {},
   "outputs": [],
   "source": [
    "# creating row in df for the median home price for the zip code\n",
    "median_home_price = []\n",
    "\n",
    "for zip_ in df['zip']:\n",
    "    median_home_price.append(zipdf[zip_])\n",
    "\n",
    "df['median_home_price'] = median_home_price"
   ]
  },
  {
   "cell_type": "code",
   "execution_count": 11,
   "metadata": {},
   "outputs": [
    {
     "name": "stdout",
     "output_type": "stream",
     "text": [
      "<class 'pandas.core.frame.DataFrame'>\n",
      "Int64Index: 29189 entries, 0 to 30154\n",
      "Data columns (total 27 columns):\n",
      " #   Column             Non-Null Count  Dtype  \n",
      "---  ------             --------------  -----  \n",
      " 0   id                 29189 non-null  int64  \n",
      " 1   date               29189 non-null  object \n",
      " 2   price              29189 non-null  float64\n",
      " 3   bedrooms           29189 non-null  int64  \n",
      " 4   bathrooms          29189 non-null  float64\n",
      " 5   sqft_living        29189 non-null  int64  \n",
      " 6   sqft_lot           29189 non-null  int64  \n",
      " 7   floors             29189 non-null  float64\n",
      " 8   waterfront         29189 non-null  object \n",
      " 9   greenbelt          29189 non-null  object \n",
      " 10  nuisance           29189 non-null  object \n",
      " 11  view               29189 non-null  object \n",
      " 12  condition          29189 non-null  object \n",
      " 13  grade              29189 non-null  object \n",
      " 14  heat_source        29160 non-null  object \n",
      " 15  sewer_system       29176 non-null  object \n",
      " 16  sqft_above         29189 non-null  int64  \n",
      " 17  sqft_basement      29189 non-null  int64  \n",
      " 18  sqft_garage        29189 non-null  int64  \n",
      " 19  sqft_patio         29189 non-null  int64  \n",
      " 20  yr_built           29189 non-null  int64  \n",
      " 21  yr_renovated       29189 non-null  int64  \n",
      " 22  address            29189 non-null  object \n",
      " 23  lat                29189 non-null  float64\n",
      " 24  long               29189 non-null  float64\n",
      " 25  zip                29189 non-null  int64  \n",
      " 26  median_home_price  29189 non-null  float64\n",
      "dtypes: float64(6), int64(11), object(10)\n",
      "memory usage: 6.2+ MB\n"
     ]
    }
   ],
   "source": [
    "# NOTE: heat_source and sewer_system have missing values per below\n",
    "df.info()"
   ]
  },
  {
   "cell_type": "code",
   "execution_count": 12,
   "metadata": {},
   "outputs": [],
   "source": [
    "# sns.pairplot(df)"
   ]
  },
  {
   "cell_type": "code",
   "execution_count": 13,
   "metadata": {},
   "outputs": [
    {
     "data": {
      "image/png": "[encoded data removed]",
      "text/plain": [
       "<Figure size 432x288 with 2 Axes>"
      ]
     },
     "metadata": {
      "needs_background": "light"
     },
     "output_type": "display_data"
    }
   ],
   "source": [
    "sns.heatmap(abs(df.corr()));"
   ]
  },
  {
   "cell_type": "code",
   "execution_count": 14,
   "metadata": {},
   "outputs": [],
   "source": [
    "# price has a decent correlation with sqft_living, bathrooms, sqft_above, bedrooms"
   ]
  },
  {
   "cell_type": "code",
   "execution_count": 15,
   "metadata": {},
   "outputs": [],
   "source": [
    "df['yr_old'] = 2023 - df['yr_built']"
   ]
  },
  {
   "cell_type": "code",
   "execution_count": 16,
   "metadata": {},
   "outputs": [],
   "source": [
    "df['yr_since_reno'] = 2023 - df['yr_renovated']"
   ]
  },
  {
   "cell_type": "code",
   "execution_count": 17,
   "metadata": {},
   "outputs": [
    {
     "data": {
      "text/plain": [
       "array(['7 Average', '9 Better', '8 Good', '6 Low Average', '10 Very Good',\n",
       "       '5 Fair', '11 Excellent', '12 Luxury', '4 Low', '13 Mansion',\n",
       "       '3 Poor', '1 Cabin', '2 Substandard'], dtype=object)"
      ]
     },
     "execution_count": 17,
     "metadata": {},
     "output_type": "execute_result"
    }
   ],
   "source": [
    "# REPLACING COLUMNS WITH NUMBER DATA FOR ORDINAL DATA\n",
    "df['grade'].unique()"
   ]
  },
  {
   "cell_type": "code",
   "execution_count": 18,
   "metadata": {},
   "outputs": [],
   "source": [
    "df['grade_val'] = df['grade'].replace(['7 Average', '9 Better', '8 Good', '6 Low Average', '10 Very Good',\n",
    "       '5 Fair', '11 Excellent', '12 Luxury', '4 Low', '13 Mansion', '3 Poor', '1 Cabin', '2 Substandard'], \n",
    "        [7, 9, 8, 6, 10, 5, 11, 12, 4, 13, 3, 1, 2])"
   ]
  },
  {
   "cell_type": "code",
   "execution_count": 19,
   "metadata": {},
   "outputs": [
    {
     "data": {
      "text/plain": [
       "array(['NO', 'YES'], dtype=object)"
      ]
     },
     "execution_count": 19,
     "metadata": {},
     "output_type": "execute_result"
    }
   ],
   "source": [
    "df['waterfront'].unique()"
   ]
  },
  {
   "cell_type": "code",
   "execution_count": 20,
   "metadata": {},
   "outputs": [],
   "source": [
    "df['waterfront_val'] = df['waterfront'].replace(['NO', 'YES'], [0, 1])"
   ]
  },
  {
   "cell_type": "code",
   "execution_count": 21,
   "metadata": {},
   "outputs": [
    {
     "data": {
      "text/plain": [
       "array(['Good', 'Average', 'Very Good', 'Fair', 'Poor'], dtype=object)"
      ]
     },
     "execution_count": 21,
     "metadata": {},
     "output_type": "execute_result"
    }
   ],
   "source": [
    "df['condition'].unique()"
   ]
  },
  {
   "cell_type": "code",
   "execution_count": 22,
   "metadata": {},
   "outputs": [],
   "source": [
    "df['condition_val'] = df['condition'].replace(['Poor', 'Fair', 'Average', 'Good', 'Very Good'], [1, 2, 3, 4, 5])"
   ]
  },
  {
   "cell_type": "code",
   "execution_count": 23,
   "metadata": {},
   "outputs": [
    {
     "data": {
      "text/plain": [
       "array(['NONE', 'AVERAGE', 'EXCELLENT', 'FAIR', 'GOOD'], dtype=object)"
      ]
     },
     "execution_count": 23,
     "metadata": {},
     "output_type": "execute_result"
    }
   ],
   "source": [
    "df['view'].unique()"
   ]
  },
  {
   "cell_type": "code",
   "execution_count": 24,
   "metadata": {},
   "outputs": [],
   "source": [
    "df['view_val'] = df['view'].replace(['NONE', 'FAIR', 'AVERAGE', 'GOOD', 'EXCELLENT'], [0, 1, 2, 3, 4])"
   ]
  },
  {
   "cell_type": "code",
   "execution_count": 25,
   "metadata": {},
   "outputs": [],
   "source": [
    "# I got this data from https://www.point2homes.com/US/Neighborhood/WA/King-County-Demographics.html\n",
    "# This data was sourced through the US Census Bureau via 'Point2Homes'\n",
    "df2 = pd.read_csv('data/King County Pop Income Info.csv')"
   ]
  },
  {
   "cell_type": "code",
   "execution_count": 26,
   "metadata": {},
   "outputs": [
    {
     "data": {
      "text/html": [
       "<div>\n",
       "<style scoped>\n",
       "    .dataframe tbody tr th:only-of-type {\n",
       "        vertical-align: middle;\n",
       "    }\n",
       "\n",
       "    .dataframe tbody tr th {\n",
       "        vertical-align: top;\n",
       "    }\n",
       "\n",
       "    .dataframe thead th {\n",
       "        text-align: right;\n",
       "    }\n",
       "</style>\n",
       "<table border=\"1\" class=\"dataframe\">\n",
       "  <thead>\n",
       "    <tr style=\"text-align: right;\">\n",
       "      <th></th>\n",
       "      <th>Unnamed: 0</th>\n",
       "      <th>Unnamed: 1</th>\n",
       "      <th>Unnamed: 2</th>\n",
       "      <th>Unnamed: 3</th>\n",
       "      <th>Unnamed: 4</th>\n",
       "      <th>Unnamed: 5</th>\n",
       "      <th>Unnamed: 6</th>\n",
       "    </tr>\n",
       "  </thead>\n",
       "  <tbody>\n",
       "    <tr>\n",
       "      <th>0</th>\n",
       "      <td>NaN</td>\n",
       "      <td>ZipCode</td>\n",
       "      <td>Population</td>\n",
       "      <td>Number of Households</td>\n",
       "      <td>Median Income</td>\n",
       "      <td>Average Income</td>\n",
       "      <td>NaN</td>\n",
       "    </tr>\n",
       "    <tr>\n",
       "      <th>1</th>\n",
       "      <td>NaN</td>\n",
       "      <td>98001</td>\n",
       "      <td>35,297</td>\n",
       "      <td>11,820</td>\n",
       "      <td>$95,605.00</td>\n",
       "      <td>$116,400.00</td>\n",
       "      <td>NaN</td>\n",
       "    </tr>\n",
       "    <tr>\n",
       "      <th>2</th>\n",
       "      <td>NaN</td>\n",
       "      <td>98002</td>\n",
       "      <td>35,915</td>\n",
       "      <td>14,012</td>\n",
       "      <td>$59,742.00</td>\n",
       "      <td>$72,627.00</td>\n",
       "      <td>NaN</td>\n",
       "    </tr>\n",
       "    <tr>\n",
       "      <th>3</th>\n",
       "      <td>NaN</td>\n",
       "      <td>98003</td>\n",
       "      <td>50,501</td>\n",
       "      <td>18,988</td>\n",
       "      <td>$63,289.00</td>\n",
       "      <td>$79,484.00</td>\n",
       "      <td>NaN</td>\n",
       "    </tr>\n",
       "    <tr>\n",
       "      <th>4</th>\n",
       "      <td>NaN</td>\n",
       "      <td>98004</td>\n",
       "      <td>38,632</td>\n",
       "      <td>18,125</td>\n",
       "      <td>$154,403.00</td>\n",
       "      <td>$225,776.00</td>\n",
       "      <td>NaN</td>\n",
       "    </tr>\n",
       "  </tbody>\n",
       "</table>\n",
       "</div>"
      ],
      "text/plain": [
       "   Unnamed: 0 Unnamed: 1  Unnamed: 2            Unnamed: 3     Unnamed: 4  \\\n",
       "0         NaN    ZipCode  Population  Number of Households  Median Income   \n",
       "1         NaN      98001      35,297                11,820     $95,605.00   \n",
       "2         NaN      98002      35,915                14,012     $59,742.00   \n",
       "3         NaN      98003      50,501                18,988     $63,289.00   \n",
       "4         NaN      98004      38,632                18,125    $154,403.00   \n",
       "\n",
       "       Unnamed: 5  Unnamed: 6  \n",
       "0  Average Income         NaN  \n",
       "1     $116,400.00         NaN  \n",
       "2      $72,627.00         NaN  \n",
       "3      $79,484.00         NaN  \n",
       "4     $225,776.00         NaN  "
      ]
     },
     "execution_count": 26,
     "metadata": {},
     "output_type": "execute_result"
    }
   ],
   "source": [
    "df2.head()"
   ]
  },
  {
   "cell_type": "code",
   "execution_count": 27,
   "metadata": {},
   "outputs": [
    {
     "name": "stdout",
     "output_type": "stream",
     "text": [
      "<class 'pandas.core.frame.DataFrame'>\n",
      "RangeIndex: 83 entries, 1 to 83\n",
      "Data columns (total 7 columns):\n",
      " #   Column                Non-Null Count  Dtype  \n",
      "---  ------                --------------  -----  \n",
      " 0   nan                   0 non-null      float64\n",
      " 1   ZipCode               83 non-null     object \n",
      " 2   Population            83 non-null     object \n",
      " 3   Number of Households  83 non-null     object \n",
      " 4   Median Income         83 non-null     object \n",
      " 5   Average Income        83 non-null     object \n",
      " 6   nan                   0 non-null      float64\n",
      "dtypes: float64(2), object(5)\n",
      "memory usage: 4.7+ KB\n"
     ]
    }
   ],
   "source": [
    "# Assign row as column headers\n",
    "header_row = 0\n",
    "df2.columns = df2.iloc[header_row]\n",
    "\n",
    "# Convert row to column header using DataFrame.iloc[]\n",
    "df2.columns = df2.iloc[0]\n",
    "\n",
    "# Dropping first row\n",
    "df2 = df2.iloc[1:]\n",
    "df2.info()"
   ]
  },
  {
   "cell_type": "code",
   "execution_count": 28,
   "metadata": {},
   "outputs": [],
   "source": [
    "df2 = df2.set_index('ZipCode')"
   ]
  },
  {
   "cell_type": "code",
   "execution_count": 29,
   "metadata": {},
   "outputs": [],
   "source": [
    "df2['Median Income'] = df2['Median Income'].str.replace(',', '')\n",
    "df2['Median Income'] = df2['Median Income'].str.replace('$', '')\n",
    "df2['Median Income'] = df2['Median Income'].astype(float)\n",
    "df2 = df2.dropna(axis=1)"
   ]
  },
  {
   "cell_type": "code",
   "execution_count": 30,
   "metadata": {},
   "outputs": [
    {
     "data": {
      "text/plain": [
       "95605.0"
      ]
     },
     "execution_count": 30,
     "metadata": {},
     "output_type": "execute_result"
    }
   ],
   "source": [
    "df3 = df2.loc['98001']\n",
    "df3['Median Income']"
   ]
  },
  {
   "cell_type": "code",
   "execution_count": 31,
   "metadata": {},
   "outputs": [
    {
     "data": {
      "text/html": [
       "<div>\n",
       "<style scoped>\n",
       "    .dataframe tbody tr th:only-of-type {\n",
       "        vertical-align: middle;\n",
       "    }\n",
       "\n",
       "    .dataframe tbody tr th {\n",
       "        vertical-align: top;\n",
       "    }\n",
       "\n",
       "    .dataframe thead th {\n",
       "        text-align: right;\n",
       "    }\n",
       "</style>\n",
       "<table border=\"1\" class=\"dataframe\">\n",
       "  <thead>\n",
       "    <tr style=\"text-align: right;\">\n",
       "      <th></th>\n",
       "      <th>Population</th>\n",
       "      <th>Number of Households</th>\n",
       "      <th>Median Income</th>\n",
       "      <th>Average Income</th>\n",
       "    </tr>\n",
       "    <tr>\n",
       "      <th>ZipCode</th>\n",
       "      <th></th>\n",
       "      <th></th>\n",
       "      <th></th>\n",
       "      <th></th>\n",
       "    </tr>\n",
       "  </thead>\n",
       "  <tbody>\n",
       "    <tr>\n",
       "      <th>98001</th>\n",
       "      <td>35,297</td>\n",
       "      <td>11,820</td>\n",
       "      <td>95605.0</td>\n",
       "      <td>$116,400.00</td>\n",
       "    </tr>\n",
       "    <tr>\n",
       "      <th>98002</th>\n",
       "      <td>35,915</td>\n",
       "      <td>14,012</td>\n",
       "      <td>59742.0</td>\n",
       "      <td>$72,627.00</td>\n",
       "    </tr>\n",
       "    <tr>\n",
       "      <th>98003</th>\n",
       "      <td>50,501</td>\n",
       "      <td>18,988</td>\n",
       "      <td>63289.0</td>\n",
       "      <td>$79,484.00</td>\n",
       "    </tr>\n",
       "    <tr>\n",
       "      <th>98004</th>\n",
       "      <td>38,632</td>\n",
       "      <td>18,125</td>\n",
       "      <td>154403.0</td>\n",
       "      <td>$225,776.00</td>\n",
       "    </tr>\n",
       "    <tr>\n",
       "      <th>98005</th>\n",
       "      <td>21,603</td>\n",
       "      <td>8,732</td>\n",
       "      <td>145152.0</td>\n",
       "      <td>$192,522.00</td>\n",
       "    </tr>\n",
       "    <tr>\n",
       "      <th>...</th>\n",
       "      <td>...</td>\n",
       "      <td>...</td>\n",
       "      <td>...</td>\n",
       "      <td>...</td>\n",
       "    </tr>\n",
       "    <tr>\n",
       "      <th>98195</th>\n",
       "      <td>2,259</td>\n",
       "      <td>0</td>\n",
       "      <td>0.0</td>\n",
       "      <td>$0.00</td>\n",
       "    </tr>\n",
       "    <tr>\n",
       "      <th>98198</th>\n",
       "      <td>38,919</td>\n",
       "      <td>14,376</td>\n",
       "      <td>69833.0</td>\n",
       "      <td>$94,390.00</td>\n",
       "    </tr>\n",
       "    <tr>\n",
       "      <th>98199</th>\n",
       "      <td>22,890</td>\n",
       "      <td>10,186</td>\n",
       "      <td>148878.0</td>\n",
       "      <td>$183,575.00</td>\n",
       "    </tr>\n",
       "    <tr>\n",
       "      <th>98224</th>\n",
       "      <td>203</td>\n",
       "      <td>102</td>\n",
       "      <td>65417.0</td>\n",
       "      <td>$71,377.00</td>\n",
       "    </tr>\n",
       "    <tr>\n",
       "      <th>98288</th>\n",
       "      <td>254</td>\n",
       "      <td>91</td>\n",
       "      <td>0.0</td>\n",
       "      <td>$96,440.00</td>\n",
       "    </tr>\n",
       "  </tbody>\n",
       "</table>\n",
       "<p>83 rows × 4 columns</p>\n",
       "</div>"
      ],
      "text/plain": [
       "0       Population Number of Households  Median Income Average Income\n",
       "ZipCode                                                              \n",
       "98001       35,297               11,820        95605.0    $116,400.00\n",
       "98002       35,915               14,012        59742.0     $72,627.00\n",
       "98003       50,501               18,988        63289.0     $79,484.00\n",
       "98004       38,632               18,125       154403.0    $225,776.00\n",
       "98005       21,603                8,732       145152.0    $192,522.00\n",
       "...            ...                  ...            ...            ...\n",
       "98195        2,259                    0            0.0          $0.00\n",
       "98198       38,919               14,376        69833.0     $94,390.00\n",
       "98199       22,890               10,186       148878.0    $183,575.00\n",
       "98224          203                  102        65417.0     $71,377.00\n",
       "98288          254                   91            0.0     $96,440.00\n",
       "\n",
       "[83 rows x 4 columns]"
      ]
     },
     "execution_count": 31,
     "metadata": {},
     "output_type": "execute_result"
    }
   ],
   "source": [
    "df2"
   ]
  },
  {
   "cell_type": "code",
   "execution_count": 32,
   "metadata": {},
   "outputs": [],
   "source": [
    "# creating an index list from df2 that contains list of zip codes in our data\n",
    "index_list = df2.index.values.tolist()"
   ]
  },
  {
   "cell_type": "code",
   "execution_count": 33,
   "metadata": {},
   "outputs": [],
   "source": [
    "# creating row in df for the median income for the zip code - this is to see if the median income affects price\n",
    "median_inc = []\n",
    "\n",
    "for zip_ in df['zip']:\n",
    "    y = str(zip_)\n",
    "    if y in index_list:\n",
    "        x = df2.loc[y]\n",
    "        median_inc.append(x['Median Income'])\n",
    "    else:\n",
    "        median_inc.append('NaN')\n",
    "\n",
    "df['median_zip_income'] = median_inc"
   ]
  },
  {
   "cell_type": "code",
   "execution_count": 34,
   "metadata": {},
   "outputs": [],
   "source": [
    "# creating column in df for population by zip code - this is to see if the population of a zip code affects price\n",
    "zip_pop = []\n",
    "\n",
    "for zip_ in df['zip']:\n",
    "    y = str(zip_)\n",
    "    if y in index_list:\n",
    "        x = df2.loc[y]\n",
    "        zip_pop.append(x['Population'])\n",
    "    else:\n",
    "        zip_pop.append('NaN')\n",
    "\n",
    "df['zip_population'] = zip_pop\n",
    "df['zip_population'] = df['zip_population'].str.replace(',', '')\n",
    "df['zip_population'] = df['zip_population'].astype(float)\n",
    "df = df.dropna(axis=0)"
   ]
  },
  {
   "cell_type": "code",
   "execution_count": 35,
   "metadata": {},
   "outputs": [
    {
     "name": "stdout",
     "output_type": "stream",
     "text": [
      "<class 'pandas.core.frame.DataFrame'>\n",
      "Int64Index: 29147 entries, 0 to 30154\n",
      "Data columns (total 35 columns):\n",
      " #   Column             Non-Null Count  Dtype  \n",
      "---  ------             --------------  -----  \n",
      " 0   id                 29147 non-null  int64  \n",
      " 1   date               29147 non-null  object \n",
      " 2   price              29147 non-null  float64\n",
      " 3   bedrooms           29147 non-null  int64  \n",
      " 4   bathrooms          29147 non-null  float64\n",
      " 5   sqft_living        29147 non-null  int64  \n",
      " 6   sqft_lot           29147 non-null  int64  \n",
      " 7   floors             29147 non-null  float64\n",
      " 8   waterfront         29147 non-null  object \n",
      " 9   greenbelt          29147 non-null  object \n",
      " 10  nuisance           29147 non-null  object \n",
      " 11  view               29147 non-null  object \n",
      " 12  condition          29147 non-null  object \n",
      " 13  grade              29147 non-null  object \n",
      " 14  heat_source        29147 non-null  object \n",
      " 15  sewer_system       29147 non-null  object \n",
      " 16  sqft_above         29147 non-null  int64  \n",
      " 17  sqft_basement      29147 non-null  int64  \n",
      " 18  sqft_garage        29147 non-null  int64  \n",
      " 19  sqft_patio         29147 non-null  int64  \n",
      " 20  yr_built           29147 non-null  int64  \n",
      " 21  yr_renovated       29147 non-null  int64  \n",
      " 22  address            29147 non-null  object \n",
      " 23  lat                29147 non-null  float64\n",
      " 24  long               29147 non-null  float64\n",
      " 25  zip                29147 non-null  int64  \n",
      " 26  median_home_price  29147 non-null  float64\n",
      " 27  yr_old             29147 non-null  int64  \n",
      " 28  yr_since_reno      29147 non-null  int64  \n",
      " 29  grade_val          29147 non-null  int64  \n",
      " 30  waterfront_val     29147 non-null  int64  \n",
      " 31  condition_val      29147 non-null  int64  \n",
      " 32  view_val           29147 non-null  int64  \n",
      " 33  median_zip_income  29147 non-null  object \n",
      " 34  zip_population     29147 non-null  float64\n",
      "dtypes: float64(7), int64(17), object(11)\n",
      "memory usage: 8.0+ MB\n"
     ]
    }
   ],
   "source": [
    "df.info()"
   ]
  },
  {
   "cell_type": "code",
   "execution_count": 36,
   "metadata": {},
   "outputs": [
    {
     "data": {
      "image/png": "[encoded data removed]",
      "text/plain": [
       "<Figure size 864x576 with 2 Axes>"
      ]
     },
     "metadata": {
      "needs_background": "light"
     },
     "output_type": "display_data"
    }
   ],
   "source": [
    "plt.figure(figsize=(12,8))\n",
    "sns.heatmap(abs(df.corr()));"
   ]
  },
  {
   "cell_type": "code",
   "execution_count": 37,
   "metadata": {},
   "outputs": [],
   "source": [
    "# creating interactions for variables that have similar affects on price based on the heatmap above\n",
    "df['sqft_living_x_above'] = df['sqft_living']*df['sqft_above']\n",
    "df['grade_x_price'] = df['grade_val']*df['median_home_price']"
   ]
  },
  {
   "cell_type": "code",
   "execution_count": 38,
   "metadata": {},
   "outputs": [],
   "source": [
    "df['median_zip_income'] = df['median_zip_income'].astype(float)"
   ]
  },
  {
   "cell_type": "code",
   "execution_count": 39,
   "metadata": {},
   "outputs": [],
   "source": [
    "# adding in the distance from a central location in Seattle - I chose Pike Place here.\n",
    "import haversine as hs\n",
    "dist_pike = []\n",
    "pike = (47.6090, -122.3406)\n",
    "for index, row in df.iterrows():\n",
    "    dist_pike.append(hs.haversine((df['lat'][index],df['long'][index]),pike))\n",
    "df['dist_pike'] = dist_pike"
   ]
  },
  {
   "cell_type": "code",
   "execution_count": 40,
   "metadata": {},
   "outputs": [
    {
     "name": "stdout",
     "output_type": "stream",
     "text": [
      "<class 'pandas.core.frame.DataFrame'>\n",
      "Int64Index: 29147 entries, 0 to 30154\n",
      "Data columns (total 38 columns):\n",
      " #   Column               Non-Null Count  Dtype  \n",
      "---  ------               --------------  -----  \n",
      " 0   id                   29147 non-null  int64  \n",
      " 1   date                 29147 non-null  object \n",
      " 2   price                29147 non-null  float64\n",
      " 3   bedrooms             29147 non-null  int64  \n",
      " 4   bathrooms            29147 non-null  float64\n",
      " 5   sqft_living          29147 non-null  int64  \n",
      " 6   sqft_lot             29147 non-null  int64  \n",
      " 7   floors               29147 non-null  float64\n",
      " 8   waterfront           29147 non-null  object \n",
      " 9   greenbelt            29147 non-null  object \n",
      " 10  nuisance             29147 non-null  object \n",
      " 11  view                 29147 non-null  object \n",
      " 12  condition            29147 non-null  object \n",
      " 13  grade                29147 non-null  object \n",
      " 14  heat_source          29147 non-null  object \n",
      " 15  sewer_system         29147 non-null  object \n",
      " 16  sqft_above           29147 non-null  int64  \n",
      " 17  sqft_basement        29147 non-null  int64  \n",
      " 18  sqft_garage          29147 non-null  int64  \n",
      " 19  sqft_patio           29147 non-null  int64  \n",
      " 20  yr_built             29147 non-null  int64  \n",
      " 21  yr_renovated         29147 non-null  int64  \n",
      " 22  address              29147 non-null  object \n",
      " 23  lat                  29147 non-null  float64\n",
      " 24  long                 29147 non-null  float64\n",
      " 25  zip                  29147 non-null  int64  \n",
      " 26  median_home_price    29147 non-null  float64\n",
      " 27  yr_old               29147 non-null  int64  \n",
      " 28  yr_since_reno        29147 non-null  int64  \n",
      " 29  grade_val            29147 non-null  int64  \n",
      " 30  waterfront_val       29147 non-null  int64  \n",
      " 31  condition_val        29147 non-null  int64  \n",
      " 32  view_val             29147 non-null  int64  \n",
      " 33  median_zip_income    29147 non-null  float64\n",
      " 34  zip_population       29147 non-null  float64\n",
      " 35  sqft_living_x_above  29147 non-null  int64  \n",
      " 36  grade_x_price        29147 non-null  float64\n",
      " 37  dist_pike            29147 non-null  float64\n",
      "dtypes: float64(10), int64(18), object(10)\n",
      "memory usage: 9.9+ MB\n"
     ]
    }
   ],
   "source": [
    "df.info()"
   ]
  },
  {
   "cell_type": "code",
   "execution_count": 41,
   "metadata": {},
   "outputs": [],
   "source": [
    "df['zip'] = df['zip'].astype(str)"
   ]
  },
  {
   "cell_type": "code",
   "execution_count": 42,
   "metadata": {},
   "outputs": [],
   "source": [
    "# creating column indicating if the zip code where the house resides has a Whole Foods Market\n",
    "zips_with_whole_foods = ['98116', '98122', '98119', '98121', '98115', '98034', '98004', '98052']\n",
    "df['zip_has_wh'] = np.where(df['zip'].str.contains('98116|98122|98119|98121|98115|98034|98004|98052'), 1, 0)"
   ]
  },
  {
   "cell_type": "code",
   "execution_count": 43,
   "metadata": {},
   "outputs": [],
   "source": [
    "# creating dummies for grade\n",
    "dummies = pd.get_dummies(df['grade']) \n",
    "df = pd.concat([df, dummies], axis=1)"
   ]
  },
  {
   "cell_type": "code",
   "execution_count": 44,
   "metadata": {},
   "outputs": [
    {
     "data": {
      "text/html": [
       "<table class=\"simpletable\">\n",
       "<caption>OLS Regression Results</caption>\n",
       "<tr>\n",
       "  <th>Dep. Variable:</th>          <td>price</td>      <th>  R-squared:         </th>  <td>   0.681</td>  \n",
       "</tr>\n",
       "<tr>\n",
       "  <th>Model:</th>                   <td>OLS</td>       <th>  Adj. R-squared:    </th>  <td>   0.681</td>  \n",
       "</tr>\n",
       "<tr>\n",
       "  <th>Method:</th>             <td>Least Squares</td>  <th>  F-statistic:       </th>  <td>   3273.</td>  \n",
       "</tr>\n",
       "<tr>\n",
       "  <th>Date:</th>             <td>Wed, 31 May 2023</td> <th>  Prob (F-statistic):</th>   <td>  0.00</td>   \n",
       "</tr>\n",
       "<tr>\n",
       "  <th>Time:</th>                 <td>09:37:19</td>     <th>  Log-Likelihood:    </th> <td>-4.2418e+05</td>\n",
       "</tr>\n",
       "<tr>\n",
       "  <th>No. Observations:</th>      <td> 29147</td>      <th>  AIC:               </th>  <td>8.484e+05</td> \n",
       "</tr>\n",
       "<tr>\n",
       "  <th>Df Residuals:</th>          <td> 29127</td>      <th>  BIC:               </th>  <td>8.486e+05</td> \n",
       "</tr>\n",
       "<tr>\n",
       "  <th>Df Model:</th>              <td>    19</td>      <th>                     </th>      <td> </td>     \n",
       "</tr>\n",
       "<tr>\n",
       "  <th>Covariance Type:</th>      <td>nonrobust</td>    <th>                     </th>      <td> </td>     \n",
       "</tr>\n",
       "</table>\n",
       "<table class=\"simpletable\">\n",
       "<tr>\n",
       "           <td></td>              <th>coef</th>     <th>std err</th>      <th>t</th>      <th>P>|t|</th>  <th>[0.025</th>    <th>0.975]</th>  \n",
       "</tr>\n",
       "<tr>\n",
       "  <th>const</th>               <td>-1.346e+07</td> <td> 1.48e+06</td> <td>   -9.104</td> <td> 0.000</td> <td>-1.64e+07</td> <td>-1.06e+07</td>\n",
       "</tr>\n",
       "<tr>\n",
       "  <th>sqft_living_x_above</th> <td>    0.0289</td> <td>    0.002</td> <td>   18.501</td> <td> 0.000</td> <td>    0.026</td> <td>    0.032</td>\n",
       "</tr>\n",
       "<tr>\n",
       "  <th>sqft_living</th>         <td>  141.3304</td> <td>    9.634</td> <td>   14.670</td> <td> 0.000</td> <td>  122.447</td> <td>  160.213</td>\n",
       "</tr>\n",
       "<tr>\n",
       "  <th>bathrooms</th>           <td> 5.838e+04</td> <td> 5941.263</td> <td>    9.826</td> <td> 0.000</td> <td> 4.67e+04</td> <td>    7e+04</td>\n",
       "</tr>\n",
       "<tr>\n",
       "  <th>bedrooms</th>            <td>-2.022e+04</td> <td> 4255.017</td> <td>   -4.752</td> <td> 0.000</td> <td>-2.86e+04</td> <td>-1.19e+04</td>\n",
       "</tr>\n",
       "<tr>\n",
       "  <th>lat</th>                 <td> 2.826e+05</td> <td> 3.11e+04</td> <td>    9.089</td> <td> 0.000</td> <td> 2.22e+05</td> <td> 3.43e+05</td>\n",
       "</tr>\n",
       "<tr>\n",
       "  <th>grade_x_price</th>       <td>    0.0973</td> <td>    0.001</td> <td>   82.992</td> <td> 0.000</td> <td>    0.095</td> <td>    0.100</td>\n",
       "</tr>\n",
       "<tr>\n",
       "  <th>waterfront_val</th>      <td> 9.245e+05</td> <td> 2.52e+04</td> <td>   36.656</td> <td> 0.000</td> <td> 8.75e+05</td> <td> 9.74e+05</td>\n",
       "</tr>\n",
       "<tr>\n",
       "  <th>view_val</th>            <td>  1.04e+05</td> <td> 4046.952</td> <td>   25.693</td> <td> 0.000</td> <td>  9.6e+04</td> <td> 1.12e+05</td>\n",
       "</tr>\n",
       "<tr>\n",
       "  <th>yr_old</th>              <td> 1173.6123</td> <td>  121.957</td> <td>    9.623</td> <td> 0.000</td> <td>  934.572</td> <td> 1412.653</td>\n",
       "</tr>\n",
       "<tr>\n",
       "  <th>median_zip_income</th>   <td>   -1.5789</td> <td>    0.145</td> <td>  -10.902</td> <td> 0.000</td> <td>   -1.863</td> <td>   -1.295</td>\n",
       "</tr>\n",
       "<tr>\n",
       "  <th>zip_population</th>      <td>    1.0373</td> <td>    0.250</td> <td>    4.151</td> <td> 0.000</td> <td>    0.547</td> <td>    1.527</td>\n",
       "</tr>\n",
       "<tr>\n",
       "  <th>dist_pike</th>           <td>-5204.3741</td> <td>  395.103</td> <td>  -13.172</td> <td> 0.000</td> <td>-5978.794</td> <td>-4429.954</td>\n",
       "</tr>\n",
       "<tr>\n",
       "  <th>zip_has_wh</th>          <td> 5.601e+04</td> <td> 1.08e+04</td> <td>    5.200</td> <td> 0.000</td> <td> 3.49e+04</td> <td> 7.71e+04</td>\n",
       "</tr>\n",
       "<tr>\n",
       "  <th>11 Excellent</th>        <td> 3.962e+05</td> <td> 2.83e+04</td> <td>   13.980</td> <td> 0.000</td> <td> 3.41e+05</td> <td> 4.52e+05</td>\n",
       "</tr>\n",
       "<tr>\n",
       "  <th>12 Luxury</th>           <td> 9.887e+05</td> <td> 5.05e+04</td> <td>   19.592</td> <td> 0.000</td> <td>  8.9e+05</td> <td> 1.09e+06</td>\n",
       "</tr>\n",
       "<tr>\n",
       "  <th>13 Mansion</th>          <td> 2.267e+06</td> <td> 1.13e+05</td> <td>   20.081</td> <td> 0.000</td> <td> 2.05e+06</td> <td> 2.49e+06</td>\n",
       "</tr>\n",
       "<tr>\n",
       "  <th>5 Fair</th>              <td> 1.255e+05</td> <td> 2.71e+04</td> <td>    4.635</td> <td> 0.000</td> <td> 7.24e+04</td> <td> 1.79e+05</td>\n",
       "</tr>\n",
       "<tr>\n",
       "  <th>6 Low Average</th>       <td> 8.039e+04</td> <td> 1.14e+04</td> <td>    7.048</td> <td> 0.000</td> <td>  5.8e+04</td> <td> 1.03e+05</td>\n",
       "</tr>\n",
       "<tr>\n",
       "  <th>8 Good</th>              <td>-4.622e+04</td> <td> 6893.163</td> <td>   -6.706</td> <td> 0.000</td> <td>-5.97e+04</td> <td>-3.27e+04</td>\n",
       "</tr>\n",
       "</table>\n",
       "<table class=\"simpletable\">\n",
       "<tr>\n",
       "  <th>Omnibus:</th>       <td>50172.255</td> <th>  Durbin-Watson:     </th>   <td>   1.887</td>   \n",
       "</tr>\n",
       "<tr>\n",
       "  <th>Prob(Omnibus):</th>  <td> 0.000</td>   <th>  Jarque-Bera (JB):  </th> <td>228103924.891</td>\n",
       "</tr>\n",
       "<tr>\n",
       "  <th>Skew:</th>           <td>11.386</td>   <th>  Prob(JB):          </th>   <td>    0.00</td>   \n",
       "</tr>\n",
       "<tr>\n",
       "  <th>Kurtosis:</th>       <td>435.787</td>  <th>  Cond. No.          </th>   <td>5.37e+09</td>   \n",
       "</tr>\n",
       "</table><br/><br/>Notes:<br/>[1] Standard Errors assume that the covariance matrix of the errors is correctly specified.<br/>[2] The condition number is large, 5.37e+09. This might indicate that there are<br/>strong multicollinearity or other numerical problems."
      ],
      "text/latex": [
       "\\begin{center}\n",
       "\\begin{tabular}{lclc}\n",
       "\\toprule\n",
       "\\textbf{Dep. Variable:}         &      price       & \\textbf{  R-squared:         } &       0.681    \\\\\n",
       "\\textbf{Model:}                 &       OLS        & \\textbf{  Adj. R-squared:    } &       0.681    \\\\\n",
       "\\textbf{Method:}                &  Least Squares   & \\textbf{  F-statistic:       } &       3273.    \\\\\n",
       "\\textbf{Date:}                  & Wed, 31 May 2023 & \\textbf{  Prob (F-statistic):} &       0.00     \\\\\n",
       "\\textbf{Time:}                  &     09:37:19     & \\textbf{  Log-Likelihood:    } &  -4.2418e+05   \\\\\n",
       "\\textbf{No. Observations:}      &       29147      & \\textbf{  AIC:               } &   8.484e+05    \\\\\n",
       "\\textbf{Df Residuals:}          &       29127      & \\textbf{  BIC:               } &   8.486e+05    \\\\\n",
       "\\textbf{Df Model:}              &          19      & \\textbf{                     } &                \\\\\n",
       "\\textbf{Covariance Type:}       &    nonrobust     & \\textbf{                     } &                \\\\\n",
       "\\bottomrule\n",
       "\\end{tabular}\n",
       "\\begin{tabular}{lcccccc}\n",
       "                                & \\textbf{coef} & \\textbf{std err} & \\textbf{t} & \\textbf{P$> |$t$|$} & \\textbf{[0.025} & \\textbf{0.975]}  \\\\\n",
       "\\midrule\n",
       "\\textbf{const}                  &   -1.346e+07  &     1.48e+06     &    -9.104  &         0.000        &    -1.64e+07    &    -1.06e+07     \\\\\n",
       "\\textbf{sqft\\_living\\_x\\_above} &       0.0289  &        0.002     &    18.501  &         0.000        &        0.026    &        0.032     \\\\\n",
       "\\textbf{sqft\\_living}           &     141.3304  &        9.634     &    14.670  &         0.000        &      122.447    &      160.213     \\\\\n",
       "\\textbf{bathrooms}              &    5.838e+04  &     5941.263     &     9.826  &         0.000        &     4.67e+04    &        7e+04     \\\\\n",
       "\\textbf{bedrooms}               &   -2.022e+04  &     4255.017     &    -4.752  &         0.000        &    -2.86e+04    &    -1.19e+04     \\\\\n",
       "\\textbf{lat}                    &    2.826e+05  &     3.11e+04     &     9.089  &         0.000        &     2.22e+05    &     3.43e+05     \\\\\n",
       "\\textbf{grade\\_x\\_price}        &       0.0973  &        0.001     &    82.992  &         0.000        &        0.095    &        0.100     \\\\\n",
       "\\textbf{waterfront\\_val}        &    9.245e+05  &     2.52e+04     &    36.656  &         0.000        &     8.75e+05    &     9.74e+05     \\\\\n",
       "\\textbf{view\\_val}              &     1.04e+05  &     4046.952     &    25.693  &         0.000        &      9.6e+04    &     1.12e+05     \\\\\n",
       "\\textbf{yr\\_old}                &    1173.6123  &      121.957     &     9.623  &         0.000        &      934.572    &     1412.653     \\\\\n",
       "\\textbf{median\\_zip\\_income}    &      -1.5789  &        0.145     &   -10.902  &         0.000        &       -1.863    &       -1.295     \\\\\n",
       "\\textbf{zip\\_population}        &       1.0373  &        0.250     &     4.151  &         0.000        &        0.547    &        1.527     \\\\\n",
       "\\textbf{dist\\_pike}             &   -5204.3741  &      395.103     &   -13.172  &         0.000        &    -5978.794    &    -4429.954     \\\\\n",
       "\\textbf{zip\\_has\\_wh}           &    5.601e+04  &     1.08e+04     &     5.200  &         0.000        &     3.49e+04    &     7.71e+04     \\\\\n",
       "\\textbf{11 Excellent}           &    3.962e+05  &     2.83e+04     &    13.980  &         0.000        &     3.41e+05    &     4.52e+05     \\\\\n",
       "\\textbf{12 Luxury}              &    9.887e+05  &     5.05e+04     &    19.592  &         0.000        &      8.9e+05    &     1.09e+06     \\\\\n",
       "\\textbf{13 Mansion}             &    2.267e+06  &     1.13e+05     &    20.081  &         0.000        &     2.05e+06    &     2.49e+06     \\\\\n",
       "\\textbf{5 Fair}                 &    1.255e+05  &     2.71e+04     &     4.635  &         0.000        &     7.24e+04    &     1.79e+05     \\\\\n",
       "\\textbf{6 Low Average}          &    8.039e+04  &     1.14e+04     &     7.048  &         0.000        &      5.8e+04    &     1.03e+05     \\\\\n",
       "\\textbf{8 Good}                 &   -4.622e+04  &     6893.163     &    -6.706  &         0.000        &    -5.97e+04    &    -3.27e+04     \\\\\n",
       "\\bottomrule\n",
       "\\end{tabular}\n",
       "\\begin{tabular}{lclc}\n",
       "\\textbf{Omnibus:}       & 50172.255 & \\textbf{  Durbin-Watson:     } &       1.887    \\\\\n",
       "\\textbf{Prob(Omnibus):} &    0.000  & \\textbf{  Jarque-Bera (JB):  } & 228103924.891  \\\\\n",
       "\\textbf{Skew:}          &   11.386  & \\textbf{  Prob(JB):          } &        0.00    \\\\\n",
       "\\textbf{Kurtosis:}      &  435.787  & \\textbf{  Cond. No.          } &    5.37e+09    \\\\\n",
       "\\bottomrule\n",
       "\\end{tabular}\n",
       "%\\caption{OLS Regression Results}\n",
       "\\end{center}\n",
       "\n",
       "Notes: \\newline\n",
       " [1] Standard Errors assume that the covariance matrix of the errors is correctly specified. \\newline\n",
       " [2] The condition number is large, 5.37e+09. This might indicate that there are \\newline\n",
       " strong multicollinearity or other numerical problems."
      ],
      "text/plain": [
       "<class 'statsmodels.iolib.summary.Summary'>\n",
       "\"\"\"\n",
       "                            OLS Regression Results                            \n",
       "==============================================================================\n",
       "Dep. Variable:                  price   R-squared:                       0.681\n",
       "Model:                            OLS   Adj. R-squared:                  0.681\n",
       "Method:                 Least Squares   F-statistic:                     3273.\n",
       "Date:                Wed, 31 May 2023   Prob (F-statistic):               0.00\n",
       "Time:                        09:37:19   Log-Likelihood:            -4.2418e+05\n",
       "No. Observations:               29147   AIC:                         8.484e+05\n",
       "Df Residuals:                   29127   BIC:                         8.486e+05\n",
       "Df Model:                          19                                         \n",
       "Covariance Type:            nonrobust                                         \n",
       "=======================================================================================\n",
       "                          coef    std err          t      P>|t|      [0.025      0.975]\n",
       "---------------------------------------------------------------------------------------\n",
       "const               -1.346e+07   1.48e+06     -9.104      0.000   -1.64e+07   -1.06e+07\n",
       "sqft_living_x_above     0.0289      0.002     18.501      0.000       0.026       0.032\n",
       "sqft_living           141.3304      9.634     14.670      0.000     122.447     160.213\n",
       "bathrooms            5.838e+04   5941.263      9.826      0.000    4.67e+04       7e+04\n",
       "bedrooms            -2.022e+04   4255.017     -4.752      0.000   -2.86e+04   -1.19e+04\n",
       "lat                  2.826e+05   3.11e+04      9.089      0.000    2.22e+05    3.43e+05\n",
       "grade_x_price           0.0973      0.001     82.992      0.000       0.095       0.100\n",
       "waterfront_val       9.245e+05   2.52e+04     36.656      0.000    8.75e+05    9.74e+05\n",
       "view_val              1.04e+05   4046.952     25.693      0.000     9.6e+04    1.12e+05\n",
       "yr_old               1173.6123    121.957      9.623      0.000     934.572    1412.653\n",
       "median_zip_income      -1.5789      0.145    -10.902      0.000      -1.863      -1.295\n",
       "zip_population          1.0373      0.250      4.151      0.000       0.547       1.527\n",
       "dist_pike           -5204.3741    395.103    -13.172      0.000   -5978.794   -4429.954\n",
       "zip_has_wh           5.601e+04   1.08e+04      5.200      0.000    3.49e+04    7.71e+04\n",
       "11 Excellent         3.962e+05   2.83e+04     13.980      0.000    3.41e+05    4.52e+05\n",
       "12 Luxury            9.887e+05   5.05e+04     19.592      0.000     8.9e+05    1.09e+06\n",
       "13 Mansion           2.267e+06   1.13e+05     20.081      0.000    2.05e+06    2.49e+06\n",
       "5 Fair               1.255e+05   2.71e+04      4.635      0.000    7.24e+04    1.79e+05\n",
       "6 Low Average        8.039e+04   1.14e+04      7.048      0.000     5.8e+04    1.03e+05\n",
       "8 Good              -4.622e+04   6893.163     -6.706      0.000   -5.97e+04   -3.27e+04\n",
       "==============================================================================\n",
       "Omnibus:                    50172.255   Durbin-Watson:                   1.887\n",
       "Prob(Omnibus):                  0.000   Jarque-Bera (JB):        228103924.891\n",
       "Skew:                          11.386   Prob(JB):                         0.00\n",
       "Kurtosis:                     435.787   Cond. No.                     5.37e+09\n",
       "==============================================================================\n",
       "\n",
       "Notes:\n",
       "[1] Standard Errors assume that the covariance matrix of the errors is correctly specified.\n",
       "[2] The condition number is large, 5.37e+09. This might indicate that there are\n",
       "strong multicollinearity or other numerical problems.\n",
       "\"\"\""
      ]
     },
     "execution_count": 44,
     "metadata": {},
     "output_type": "execute_result"
    }
   ],
   "source": [
    "y = df['price']\n",
    "X = df[['sqft_living_x_above', 'sqft_living', 'bathrooms', 'bedrooms', 'lat', 'grade_x_price', 'waterfront_val', 'view_val', 'yr_old', \n",
    "        'median_zip_income', 'zip_population', 'dist_pike', 'zip_has_wh', '11 Excellent', '12 Luxury', '13 Mansion', \n",
    "         '5 Fair', '6 Low Average', '8 Good']]\n",
    "\n",
    "model = sm.OLS(y, sm.add_constant(X))\n",
    "results = model.fit()\n",
    "results.summary()"
   ]
  },
  {
   "cell_type": "code",
   "execution_count": null,
   "metadata": {},
   "outputs": [],
   "source": []
  }
 ],
 "metadata": {
  "kernelspec": {
   "display_name": "Python (learn-env)",
   "language": "python",
   "name": "learn-env"
  },
  "language_info": {
   "codemirror_mode": {
    "name": "ipython",
    "version": 3
   },
   "file_extension": ".py",
   "mimetype": "text/x-python",
   "name": "python",
   "nbconvert_exporter": "python",
   "pygments_lexer": "ipython3",
   "version": "3.8.5"
  }
 },
 "nbformat": 4,
 "nbformat_minor": 4
}
