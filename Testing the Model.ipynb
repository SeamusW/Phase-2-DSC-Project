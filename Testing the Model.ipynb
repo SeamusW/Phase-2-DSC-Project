{
 "cells": [
  {
   "cell_type": "code",
   "execution_count": 1,
   "metadata": {},
   "outputs": [],
   "source": [
    "import numpy as np\n",
    "import pandas as pd\n",
    "import matplotlib.pyplot as plt\n",
    "import seaborn as sns\n",
    "import sklearn\n",
    "import scipy\n",
    "import statsmodels.api as sm\n",
    "from scipy import stats\n",
    "from geopy import distance\n",
    "import warnings\n",
    "from sklearn.linear_model import LinearRegression\n",
    "from sklearn.model_selection import train_test_split\n",
    "from sklearn.metrics import mean_absolute_error\n",
    "from sklearn.preprocessing import StandardScaler\n",
    "warnings.filterwarnings(\"ignore\")"
   ]
  },
  {
   "cell_type": "markdown",
   "metadata": {},
   "source": [
    "## Uploading our cleaned data"
   ]
  },
  {
   "cell_type": "code",
   "execution_count": 2,
   "metadata": {},
   "outputs": [],
   "source": [
    "df = pd.read_csv('data/cleaned_data.csv')"
   ]
  },
  {
   "cell_type": "code",
   "execution_count": 3,
   "metadata": {},
   "outputs": [
    {
     "data": {
      "text/html": [
       "<div>\n",
       "<style scoped>\n",
       "    .dataframe tbody tr th:only-of-type {\n",
       "        vertical-align: middle;\n",
       "    }\n",
       "\n",
       "    .dataframe tbody tr th {\n",
       "        vertical-align: top;\n",
       "    }\n",
       "\n",
       "    .dataframe thead th {\n",
       "        text-align: right;\n",
       "    }\n",
       "</style>\n",
       "<table border=\"1\" class=\"dataframe\">\n",
       "  <thead>\n",
       "    <tr style=\"text-align: right;\">\n",
       "      <th></th>\n",
       "      <th>Unnamed: 0</th>\n",
       "      <th>id</th>\n",
       "      <th>date</th>\n",
       "      <th>price</th>\n",
       "      <th>bedrooms</th>\n",
       "      <th>bathrooms</th>\n",
       "      <th>sqft_living</th>\n",
       "      <th>sqft_lot</th>\n",
       "      <th>floors</th>\n",
       "      <th>waterfront</th>\n",
       "      <th>...</th>\n",
       "      <th>distance_sammamish</th>\n",
       "      <th>distance_kirkland</th>\n",
       "      <th>distance_shoreline</th>\n",
       "      <th>median_zip_income</th>\n",
       "      <th>zip_population</th>\n",
       "      <th>sqft_living_x_above</th>\n",
       "      <th>grade_x_price</th>\n",
       "      <th>sqft_living_grade</th>\n",
       "      <th>sqft_bath</th>\n",
       "      <th>zip_has_wh</th>\n",
       "    </tr>\n",
       "  </thead>\n",
       "  <tbody>\n",
       "    <tr>\n",
       "      <th>0</th>\n",
       "      <td>0</td>\n",
       "      <td>7399300360</td>\n",
       "      <td>2022-05-24</td>\n",
       "      <td>675000.0</td>\n",
       "      <td>4</td>\n",
       "      <td>1.0</td>\n",
       "      <td>1180</td>\n",
       "      <td>7140</td>\n",
       "      <td>1.0</td>\n",
       "      <td>0</td>\n",
       "      <td>...</td>\n",
       "      <td>12.6</td>\n",
       "      <td>14.9</td>\n",
       "      <td>21.5</td>\n",
       "      <td>83621.0</td>\n",
       "      <td>24668.0</td>\n",
       "      <td>1392400</td>\n",
       "      <td>4745566.0</td>\n",
       "      <td>8260</td>\n",
       "      <td>1180.0</td>\n",
       "      <td>0</td>\n",
       "    </tr>\n",
       "    <tr>\n",
       "      <th>1</th>\n",
       "      <td>1</td>\n",
       "      <td>8910500230</td>\n",
       "      <td>2021-12-13</td>\n",
       "      <td>920000.0</td>\n",
       "      <td>5</td>\n",
       "      <td>2.5</td>\n",
       "      <td>2770</td>\n",
       "      <td>6703</td>\n",
       "      <td>1.0</td>\n",
       "      <td>0</td>\n",
       "      <td>...</td>\n",
       "      <td>16.5</td>\n",
       "      <td>7.4</td>\n",
       "      <td>3.2</td>\n",
       "      <td>77602.0</td>\n",
       "      <td>50153.0</td>\n",
       "      <td>4348900</td>\n",
       "      <td>5355000.0</td>\n",
       "      <td>19390</td>\n",
       "      <td>6925.0</td>\n",
       "      <td>0</td>\n",
       "    </tr>\n",
       "    <tr>\n",
       "      <th>2</th>\n",
       "      <td>2</td>\n",
       "      <td>1180000275</td>\n",
       "      <td>2021-09-29</td>\n",
       "      <td>311000.0</td>\n",
       "      <td>6</td>\n",
       "      <td>2.0</td>\n",
       "      <td>2880</td>\n",
       "      <td>6156</td>\n",
       "      <td>1.0</td>\n",
       "      <td>0</td>\n",
       "      <td>...</td>\n",
       "      <td>11.6</td>\n",
       "      <td>12.2</td>\n",
       "      <td>18.4</td>\n",
       "      <td>87788.0</td>\n",
       "      <td>26282.0</td>\n",
       "      <td>4550400</td>\n",
       "      <td>4375000.0</td>\n",
       "      <td>20160</td>\n",
       "      <td>5760.0</td>\n",
       "      <td>0</td>\n",
       "    </tr>\n",
       "    <tr>\n",
       "      <th>3</th>\n",
       "      <td>3</td>\n",
       "      <td>1604601802</td>\n",
       "      <td>2021-12-14</td>\n",
       "      <td>775000.0</td>\n",
       "      <td>3</td>\n",
       "      <td>3.0</td>\n",
       "      <td>2160</td>\n",
       "      <td>1400</td>\n",
       "      <td>2.0</td>\n",
       "      <td>0</td>\n",
       "      <td>...</td>\n",
       "      <td>12.3</td>\n",
       "      <td>8.7</td>\n",
       "      <td>13.4</td>\n",
       "      <td>94790.0</td>\n",
       "      <td>48937.0</td>\n",
       "      <td>2354400</td>\n",
       "      <td>6732000.0</td>\n",
       "      <td>19440</td>\n",
       "      <td>6480.0</td>\n",
       "      <td>0</td>\n",
       "    </tr>\n",
       "    <tr>\n",
       "      <th>4</th>\n",
       "      <td>4</td>\n",
       "      <td>8562780790</td>\n",
       "      <td>2021-08-24</td>\n",
       "      <td>592500.0</td>\n",
       "      <td>2</td>\n",
       "      <td>2.0</td>\n",
       "      <td>1120</td>\n",
       "      <td>758</td>\n",
       "      <td>2.0</td>\n",
       "      <td>0</td>\n",
       "      <td>...</td>\n",
       "      <td>5.7</td>\n",
       "      <td>11.8</td>\n",
       "      <td>20.0</td>\n",
       "      <td>128556.0</td>\n",
       "      <td>27808.0</td>\n",
       "      <td>1254400</td>\n",
       "      <td>9030000.0</td>\n",
       "      <td>7840</td>\n",
       "      <td>2240.0</td>\n",
       "      <td>0</td>\n",
       "    </tr>\n",
       "  </tbody>\n",
       "</table>\n",
       "<p>5 rows × 51 columns</p>\n",
       "</div>"
      ],
      "text/plain": [
       "   Unnamed: 0          id        date     price  bedrooms  bathrooms  \\\n",
       "0           0  7399300360  2022-05-24  675000.0         4        1.0   \n",
       "1           1  8910500230  2021-12-13  920000.0         5        2.5   \n",
       "2           2  1180000275  2021-09-29  311000.0         6        2.0   \n",
       "3           3  1604601802  2021-12-14  775000.0         3        3.0   \n",
       "4           4  8562780790  2021-08-24  592500.0         2        2.0   \n",
       "\n",
       "   sqft_living  sqft_lot  floors  waterfront  ...  distance_sammamish  \\\n",
       "0         1180      7140     1.0           0  ...                12.6   \n",
       "1         2770      6703     1.0           0  ...                16.5   \n",
       "2         2880      6156     1.0           0  ...                11.6   \n",
       "3         2160      1400     2.0           0  ...                12.3   \n",
       "4         1120       758     2.0           0  ...                 5.7   \n",
       "\n",
       "   distance_kirkland  distance_shoreline  median_zip_income  zip_population  \\\n",
       "0               14.9                21.5            83621.0         24668.0   \n",
       "1                7.4                 3.2            77602.0         50153.0   \n",
       "2               12.2                18.4            87788.0         26282.0   \n",
       "3                8.7                13.4            94790.0         48937.0   \n",
       "4               11.8                20.0           128556.0         27808.0   \n",
       "\n",
       "  sqft_living_x_above grade_x_price  sqft_living_grade  sqft_bath  zip_has_wh  \n",
       "0             1392400     4745566.0               8260     1180.0           0  \n",
       "1             4348900     5355000.0              19390     6925.0           0  \n",
       "2             4550400     4375000.0              20160     5760.0           0  \n",
       "3             2354400     6732000.0              19440     6480.0           0  \n",
       "4             1254400     9030000.0               7840     2240.0           0  \n",
       "\n",
       "[5 rows x 51 columns]"
      ]
     },
     "execution_count": 3,
     "metadata": {},
     "output_type": "execute_result"
    }
   ],
   "source": [
    "df.head()"
   ]
  },
  {
   "cell_type": "code",
   "execution_count": 4,
   "metadata": {},
   "outputs": [
    {
     "name": "stdout",
     "output_type": "stream",
     "text": [
      "<class 'pandas.core.frame.DataFrame'>\n",
      "RangeIndex: 28723 entries, 0 to 28722\n",
      "Data columns (total 51 columns):\n",
      " #   Column                Non-Null Count  Dtype  \n",
      "---  ------                --------------  -----  \n",
      " 0   Unnamed: 0            28723 non-null  int64  \n",
      " 1   id                    28723 non-null  int64  \n",
      " 2   date                  28723 non-null  object \n",
      " 3   price                 28723 non-null  float64\n",
      " 4   bedrooms              28723 non-null  int64  \n",
      " 5   bathrooms             28723 non-null  float64\n",
      " 6   sqft_living           28723 non-null  int64  \n",
      " 7   sqft_lot              28723 non-null  int64  \n",
      " 8   floors                28723 non-null  float64\n",
      " 9   waterfront            28723 non-null  int64  \n",
      " 10  greenbelt             28723 non-null  int64  \n",
      " 11  nuisance              28723 non-null  int64  \n",
      " 12  view                  28723 non-null  int64  \n",
      " 13  condition             28723 non-null  int64  \n",
      " 14  grade                 28723 non-null  int64  \n",
      " 15  heat_source           28723 non-null  object \n",
      " 16  sewer_system          28723 non-null  object \n",
      " 17  sqft_above            28723 non-null  int64  \n",
      " 18  sqft_basement         28723 non-null  int64  \n",
      " 19  sqft_garage           28723 non-null  int64  \n",
      " 20  sqft_patio            28723 non-null  int64  \n",
      " 21  yr_built              28723 non-null  int64  \n",
      " 22  yr_renovated          28723 non-null  int64  \n",
      " 23  address               28723 non-null  object \n",
      " 24  lat                   28723 non-null  float64\n",
      " 25  long                  28723 non-null  float64\n",
      " 26  zip                   28723 non-null  int64  \n",
      " 27  median_home_price     28723 non-null  float64\n",
      " 28  lower_25_zip          28723 non-null  int64  \n",
      " 29  middle_50_zip         28723 non-null  int64  \n",
      " 30  top_75_zip            28723 non-null  int64  \n",
      " 31  year                  28723 non-null  int64  \n",
      " 32  distance_seattle      28723 non-null  float64\n",
      " 33  distance_bellvue      28723 non-null  float64\n",
      " 34  distance_kent         28723 non-null  float64\n",
      " 35  distance_federal_way  28723 non-null  float64\n",
      " 36  distance_bothell      28723 non-null  float64\n",
      " 37  distance_burien       28723 non-null  float64\n",
      " 38  distance_auburn       28723 non-null  float64\n",
      " 39  distance_renton       28723 non-null  float64\n",
      " 40  distance_redmond      28723 non-null  float64\n",
      " 41  distance_sammamish    28723 non-null  float64\n",
      " 42  distance_kirkland     28723 non-null  float64\n",
      " 43  distance_shoreline    28723 non-null  float64\n",
      " 44  median_zip_income     28723 non-null  float64\n",
      " 45  zip_population        28723 non-null  float64\n",
      " 46  sqft_living_x_above   28723 non-null  int64  \n",
      " 47  grade_x_price         28723 non-null  float64\n",
      " 48  sqft_living_grade     28723 non-null  int64  \n",
      " 49  sqft_bath             28723 non-null  float64\n",
      " 50  zip_has_wh            28723 non-null  int64  \n",
      "dtypes: float64(22), int64(25), object(4)\n",
      "memory usage: 11.2+ MB\n"
     ]
    }
   ],
   "source": [
    "df.info()"
   ]
  },
  {
   "cell_type": "markdown",
   "metadata": {},
   "source": [
    "### Creating Train/Test Splits to test our best model"
   ]
  },
  {
   "cell_type": "code",
   "execution_count": 5,
   "metadata": {},
   "outputs": [],
   "source": [
    "X = df[['sqft_living', 'grade', 'sqft_living_grade', 'yr_renovated', 'sqft_above', 'sqft_basement', 'condition', \n",
    "        'floors', 'waterfront', 'view', 'year', 'median_zip_income', 'distance_shoreline', \n",
    "        'sqft_bath', 'sqft_living_x_above', 'zip_population', 'zip_has_wh','distance_seattle','distance_bellvue', \n",
    "        'distance_kent', 'distance_federal_way', 'distance_bothell', 'distance_burien', 'distance_auburn',\n",
    "        'distance_renton', 'distance_redmond', 'distance_sammamish', 'distance_kirkland','distance_shoreline',\n",
    "        'lat', 'sqft_lot', 'greenbelt']]\n",
    "y = df['price']"
   ]
  },
  {
   "cell_type": "code",
   "execution_count": 6,
   "metadata": {},
   "outputs": [],
   "source": [
    "X_train, X_test, y_train, y_test = train_test_split(X, y, test_size = 0.3)"
   ]
  },
  {
   "cell_type": "code",
   "execution_count": 7,
   "metadata": {},
   "outputs": [],
   "source": [
    "ss = StandardScaler()"
   ]
  },
  {
   "cell_type": "code",
   "execution_count": 8,
   "metadata": {},
   "outputs": [],
   "source": [
    "ss.fit(X_train)\n",
    "X_standardized_train = ss.transform(X_train)\n",
    "X_standardized_test = ss.transform(X_test)"
   ]
  },
  {
   "cell_type": "code",
   "execution_count": 9,
   "metadata": {},
   "outputs": [
    {
     "data": {
      "text/plain": [
       "array([ 8.97631826e-17,  1.45246725e-16, -1.73871991e-16, -5.05359650e-17,\n",
       "       -9.78913448e-17,  3.53398357e-17,  3.70361478e-16, -1.85534137e-16,\n",
       "        9.18835727e-18,  2.89786652e-17,  1.94877636e-13,  1.28548652e-16,\n",
       "        1.51961293e-17, -2.12039014e-17, -6.07845173e-17,  1.22010783e-16,\n",
       "        6.07845173e-17,  2.31475924e-16, -2.63281776e-17,  3.18058521e-17,\n",
       "       -2.15572998e-17, -2.82718685e-17,  8.09282237e-17, -1.09553491e-16,\n",
       "       -7.35068582e-17, -2.20962322e-16,  3.43679902e-16,  1.68747715e-16,\n",
       "        1.51961293e-17, -2.05183086e-14,  3.25126488e-17, -3.60466324e-17])"
      ]
     },
     "execution_count": 9,
     "metadata": {},
     "output_type": "execute_result"
    }
   ],
   "source": [
    "X_standardized_train.mean(axis = 0)"
   ]
  },
  {
   "cell_type": "code",
   "execution_count": 10,
   "metadata": {},
   "outputs": [
    {
     "data": {
      "text/plain": [
       "array([1., 1., 1., 1., 1., 1., 1., 1., 1., 1., 1., 1., 1., 1., 1., 1., 1.,\n",
       "       1., 1., 1., 1., 1., 1., 1., 1., 1., 1., 1., 1., 1., 1., 1.])"
      ]
     },
     "execution_count": 10,
     "metadata": {},
     "output_type": "execute_result"
    }
   ],
   "source": [
    "X_standardized_train.std(axis = 0)"
   ]
  },
  {
   "cell_type": "code",
   "execution_count": 11,
   "metadata": {},
   "outputs": [
    {
     "data": {
      "text/plain": [
       "array([ 0.00831375, -0.00830339,  0.00826744,  0.00929756,  0.00866133,\n",
       "        0.00140857, -0.02422433,  0.0057532 ,  0.00070168,  0.00288955,\n",
       "       -0.00670795, -0.01965323,  0.00897327,  0.00970705,  0.0158032 ,\n",
       "       -0.01722332, -0.00699347,  0.00374842,  0.01782197, -0.00302264,\n",
       "       -0.00702189,  0.01824478, -0.00831541, -0.0046212 ,  0.00388591,\n",
       "        0.02469259,  0.02374795,  0.0202834 ,  0.00897327, -0.01168876,\n",
       "        0.00014328, -0.0081407 ])"
      ]
     },
     "execution_count": 11,
     "metadata": {},
     "output_type": "execute_result"
    }
   ],
   "source": [
    "X_standardized_test.mean(axis = 0)"
   ]
  },
  {
   "cell_type": "code",
   "execution_count": 12,
   "metadata": {},
   "outputs": [
    {
     "data": {
      "text/plain": [
       "array([1.02604391, 1.01830229, 1.03107272, 1.01983853, 1.02534837,\n",
       "       0.9960621 , 1.00331508, 1.0104559 , 1.00288996, 1.00275902,\n",
       "       0.9980378 , 0.99003336, 1.0074608 , 1.04669396, 1.10926158,\n",
       "       0.98627756, 0.99145021, 1.01538899, 1.00828847, 0.997908  ,\n",
       "       0.99829583, 0.99795012, 1.01714673, 0.99653907, 1.00760042,\n",
       "       0.99572867, 1.00209711, 0.99945247, 1.0074608 , 0.9992746 ,\n",
       "       0.82166042, 0.97572678])"
      ]
     },
     "execution_count": 12,
     "metadata": {},
     "output_type": "execute_result"
    }
   ],
   "source": [
    "X_standardized_test.std(axis = 0)"
   ]
  },
  {
   "cell_type": "code",
   "execution_count": 13,
   "metadata": {},
   "outputs": [
    {
     "data": {
      "text/plain": [
       "0.7517278648478002"
      ]
     },
     "execution_count": 13,
     "metadata": {},
     "output_type": "execute_result"
    }
   ],
   "source": [
    "lr_raw = LinearRegression()\n",
    "lr_raw.fit(X_standardized_train, y_train)\n",
    "lr_raw.score(X_standardized_train, y_train)"
   ]
  },
  {
   "cell_type": "code",
   "execution_count": 14,
   "metadata": {},
   "outputs": [
    {
     "data": {
      "text/plain": [
       "sqft_living            -329826.031807\n",
       "grade                   -73346.950138\n",
       "sqft_living_grade       694959.590674\n",
       "yr_renovated             20289.204078\n",
       "sqft_above              257921.474176\n",
       "sqft_basement             2848.411428\n",
       "condition                47344.942159\n",
       "floors                  -32588.304930\n",
       "waterfront               34505.787162\n",
       "view                     57147.199994\n",
       "year                     77538.641699\n",
       "median_zip_income        98958.443636\n",
       "distance_shoreline       68497.750622\n",
       "sqft_bath                59687.583169\n",
       "sqft_living_x_above    -256045.823043\n",
       "zip_population          -27337.505105\n",
       "zip_has_wh                7202.809498\n",
       "distance_seattle        171393.802686\n",
       "distance_bellvue       -573944.849007\n",
       "distance_kent           -96046.277231\n",
       "distance_federal_way   -106454.295906\n",
       "distance_bothell        484955.618718\n",
       "distance_burien          39671.096861\n",
       "distance_auburn         115807.516878\n",
       "distance_renton         258396.565632\n",
       "distance_redmond        279297.726322\n",
       "distance_sammamish      116986.993741\n",
       "distance_kirkland      -766141.147461\n",
       "distance_shoreline       68497.750622\n",
       "lat                      62308.003297\n",
       "sqft_lot                 28544.655024\n",
       "greenbelt                 4367.868080\n",
       "dtype: float64"
      ]
     },
     "execution_count": 14,
     "metadata": {},
     "output_type": "execute_result"
    }
   ],
   "source": [
    "pd.Series(lr_raw.coef_, index = X.columns)"
   ]
  },
  {
   "cell_type": "markdown",
   "metadata": {},
   "source": [
    "### Interpreting Our Scaled Coefficients\n",
    "\n",
    "From our scaled coeffients, we see an interesting picture as to the weight of variables in our model that affect the sale price of a home.  The \"distance from Bellevue\" and \"distance from Kirkland\" variables have the largest coefficients, indicating that these distance variables have a much greater weight than other coefficients in our model.  Outside of these three coeffients as standouts, other variables in our model fall much lower with the square footage of a basement being the variable with the least weight."
   ]
  },
  {
   "cell_type": "code",
   "execution_count": 15,
   "metadata": {},
   "outputs": [
    {
     "data": {
      "text/plain": [
       "196212.11068962447"
      ]
     },
     "execution_count": 15,
     "metadata": {},
     "output_type": "execute_result"
    }
   ],
   "source": [
    "y_pred = lr_raw.predict(X_standardized_test)\n",
    "mean_absolute_error(y_pred, y_test)"
   ]
  },
  {
   "cell_type": "markdown",
   "metadata": {},
   "source": [
    "## The findings\n",
    "Our model explains approximately 76% of the variance in home prices (R-Square = .755)\n",
    "\n",
    "The MAE is 197248, meaning our prediction will come within $197,248 of the actual price"
   ]
  },
  {
   "cell_type": "markdown",
   "metadata": {},
   "source": [
    "## Checking Normality"
   ]
  },
  {
   "cell_type": "code",
   "execution_count": 16,
   "metadata": {},
   "outputs": [
    {
     "data": {
      "text/plain": [
       "LinearRegression()"
      ]
     },
     "execution_count": 16,
     "metadata": {},
     "output_type": "execute_result"
    }
   ],
   "source": [
    "lr_raw.fit(X_train, y_train)"
   ]
  },
  {
   "cell_type": "code",
   "execution_count": 17,
   "metadata": {},
   "outputs": [],
   "source": [
    "train_preds = lr_raw.predict(X_train)\n",
    "test_preds = lr_raw.predict(X_test)"
   ]
  },
  {
   "cell_type": "code",
   "execution_count": 18,
   "metadata": {},
   "outputs": [],
   "source": [
    "train_residuals = y_train - train_preds\n",
    "test_residuals = y_test - test_preds"
   ]
  },
  {
   "cell_type": "code",
   "execution_count": 19,
   "metadata": {},
   "outputs": [
    {
     "data": {
      "image/png": "[encoded data removed]",
      "text/plain": [
       "<Figure size 432x288 with 1 Axes>"
      ]
     },
     "metadata": {
      "needs_background": "light"
     },
     "output_type": "display_data"
    }
   ],
   "source": [
    "plt.hist(train_residuals, label = 'Train', bins = 25)\n",
    "plt.hist(test_residuals, label = 'Test', bins = 25)\n",
    "plt.show()"
   ]
  },
  {
   "cell_type": "markdown",
   "metadata": {},
   "source": [
    "Everything looks normally distributed."
   ]
  },
  {
   "cell_type": "markdown",
   "metadata": {},
   "source": [
    "## Checking Residuals"
   ]
  },
  {
   "cell_type": "code",
   "execution_count": 20,
   "metadata": {},
   "outputs": [
    {
     "data": {
      "image/png": "[encoded data removed]",
      "text/plain": [
       "<Figure size 432x288 with 1 Axes>"
      ]
     },
     "metadata": {
      "needs_background": "light"
     },
     "output_type": "display_data"
    }
   ],
   "source": [
    "plt.scatter(train_preds, train_residuals, label='Train')\n",
    "plt.scatter(test_preds, test_residuals, label='Test')\n",
    "\n",
    "plt.axhline(y=0, color = 'red', label = '0')\n",
    "plt.xlabel('predictions')\n",
    "plt.ylabel('residuals')\n",
    "plt.legend()\n",
    "plt.show()"
   ]
  },
  {
   "cell_type": "markdown",
   "metadata": {},
   "source": [
    "The assumption of linearity looks mostly good."
   ]
  }
 ],
 "metadata": {
  "kernelspec": {
   "display_name": "Python 3",
   "language": "python",
   "name": "python3"
  },
  "language_info": {
   "codemirror_mode": {
    "name": "ipython",
    "version": 3
   },
   "file_extension": ".py",
   "mimetype": "text/x-python",
   "name": "python",
   "nbconvert_exporter": "python",
   "pygments_lexer": "ipython3",
   "version": "3.8.5"
  }
 },
 "nbformat": 4,
 "nbformat_minor": 4
}
