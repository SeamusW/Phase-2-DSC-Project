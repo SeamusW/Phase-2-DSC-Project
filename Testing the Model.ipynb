{
 "cells": [
  {
   "cell_type": "code",
   "execution_count": 13,
   "metadata": {},
   "outputs": [],
   "source": [
    "import numpy as np\n",
    "import pandas as pd\n",
    "import matplotlib.pyplot as plt\n",
    "import seaborn as sns\n",
    "import sklearn\n",
    "import scipy\n",
    "import statsmodels.api as sm\n",
    "from scipy import stats\n",
    "from geopy import distance\n",
    "import warnings\n",
    "from sklearn.linear_model import LinearRegression\n",
    "from sklearn.model_selection import train_test_split\n",
    "from sklearn.metrics import mean_absolute_error\n",
    "from sklearn.preprocessing import StandardScaler\n",
    "warnings.filterwarnings(\"ignore\")"
   ]
  },
  {
   "cell_type": "markdown",
   "metadata": {},
   "source": [
    "## Uploading our cleaned data"
   ]
  },
  {
   "cell_type": "code",
   "execution_count": 8,
   "metadata": {},
   "outputs": [],
   "source": [
    "df = pd.read_csv('data/cleaned_data.csv')"
   ]
  },
  {
   "cell_type": "code",
   "execution_count": 9,
   "metadata": {},
   "outputs": [
    {
     "data": {
      "text/html": [
       "<div>\n",
       "<style scoped>\n",
       "    .dataframe tbody tr th:only-of-type {\n",
       "        vertical-align: middle;\n",
       "    }\n",
       "\n",
       "    .dataframe tbody tr th {\n",
       "        vertical-align: top;\n",
       "    }\n",
       "\n",
       "    .dataframe thead th {\n",
       "        text-align: right;\n",
       "    }\n",
       "</style>\n",
       "<table border=\"1\" class=\"dataframe\">\n",
       "  <thead>\n",
       "    <tr style=\"text-align: right;\">\n",
       "      <th></th>\n",
       "      <th>Unnamed: 0</th>\n",
       "      <th>id</th>\n",
       "      <th>date</th>\n",
       "      <th>price</th>\n",
       "      <th>bedrooms</th>\n",
       "      <th>bathrooms</th>\n",
       "      <th>sqft_living</th>\n",
       "      <th>sqft_lot</th>\n",
       "      <th>floors</th>\n",
       "      <th>waterfront</th>\n",
       "      <th>...</th>\n",
       "      <th>distance_sammamish</th>\n",
       "      <th>distance_kirkland</th>\n",
       "      <th>distance_shoreline</th>\n",
       "      <th>median_zip_income</th>\n",
       "      <th>zip_population</th>\n",
       "      <th>sqft_living_x_above</th>\n",
       "      <th>grade_x_price</th>\n",
       "      <th>sqft_living_grade</th>\n",
       "      <th>sqft_bath</th>\n",
       "      <th>zip_has_wh</th>\n",
       "    </tr>\n",
       "  </thead>\n",
       "  <tbody>\n",
       "    <tr>\n",
       "      <th>0</th>\n",
       "      <td>0</td>\n",
       "      <td>7399300360</td>\n",
       "      <td>2022-05-24</td>\n",
       "      <td>675000.0</td>\n",
       "      <td>4</td>\n",
       "      <td>1.0</td>\n",
       "      <td>1180</td>\n",
       "      <td>7140</td>\n",
       "      <td>1.0</td>\n",
       "      <td>0</td>\n",
       "      <td>...</td>\n",
       "      <td>12.6</td>\n",
       "      <td>14.9</td>\n",
       "      <td>21.5</td>\n",
       "      <td>83621.0</td>\n",
       "      <td>24668.0</td>\n",
       "      <td>1392400</td>\n",
       "      <td>4745566.0</td>\n",
       "      <td>8260</td>\n",
       "      <td>1180.0</td>\n",
       "      <td>0</td>\n",
       "    </tr>\n",
       "    <tr>\n",
       "      <th>1</th>\n",
       "      <td>1</td>\n",
       "      <td>8910500230</td>\n",
       "      <td>2021-12-13</td>\n",
       "      <td>920000.0</td>\n",
       "      <td>5</td>\n",
       "      <td>2.5</td>\n",
       "      <td>2770</td>\n",
       "      <td>6703</td>\n",
       "      <td>1.0</td>\n",
       "      <td>0</td>\n",
       "      <td>...</td>\n",
       "      <td>16.5</td>\n",
       "      <td>7.4</td>\n",
       "      <td>3.2</td>\n",
       "      <td>77602.0</td>\n",
       "      <td>50153.0</td>\n",
       "      <td>4348900</td>\n",
       "      <td>5355000.0</td>\n",
       "      <td>19390</td>\n",
       "      <td>6925.0</td>\n",
       "      <td>0</td>\n",
       "    </tr>\n",
       "    <tr>\n",
       "      <th>2</th>\n",
       "      <td>2</td>\n",
       "      <td>1180000275</td>\n",
       "      <td>2021-09-29</td>\n",
       "      <td>311000.0</td>\n",
       "      <td>6</td>\n",
       "      <td>2.0</td>\n",
       "      <td>2880</td>\n",
       "      <td>6156</td>\n",
       "      <td>1.0</td>\n",
       "      <td>0</td>\n",
       "      <td>...</td>\n",
       "      <td>11.6</td>\n",
       "      <td>12.2</td>\n",
       "      <td>18.4</td>\n",
       "      <td>87788.0</td>\n",
       "      <td>26282.0</td>\n",
       "      <td>4550400</td>\n",
       "      <td>4375000.0</td>\n",
       "      <td>20160</td>\n",
       "      <td>5760.0</td>\n",
       "      <td>0</td>\n",
       "    </tr>\n",
       "    <tr>\n",
       "      <th>3</th>\n",
       "      <td>3</td>\n",
       "      <td>1604601802</td>\n",
       "      <td>2021-12-14</td>\n",
       "      <td>775000.0</td>\n",
       "      <td>3</td>\n",
       "      <td>3.0</td>\n",
       "      <td>2160</td>\n",
       "      <td>1400</td>\n",
       "      <td>2.0</td>\n",
       "      <td>0</td>\n",
       "      <td>...</td>\n",
       "      <td>12.3</td>\n",
       "      <td>8.7</td>\n",
       "      <td>13.4</td>\n",
       "      <td>94790.0</td>\n",
       "      <td>48937.0</td>\n",
       "      <td>2354400</td>\n",
       "      <td>6732000.0</td>\n",
       "      <td>19440</td>\n",
       "      <td>6480.0</td>\n",
       "      <td>0</td>\n",
       "    </tr>\n",
       "    <tr>\n",
       "      <th>4</th>\n",
       "      <td>4</td>\n",
       "      <td>8562780790</td>\n",
       "      <td>2021-08-24</td>\n",
       "      <td>592500.0</td>\n",
       "      <td>2</td>\n",
       "      <td>2.0</td>\n",
       "      <td>1120</td>\n",
       "      <td>758</td>\n",
       "      <td>2.0</td>\n",
       "      <td>0</td>\n",
       "      <td>...</td>\n",
       "      <td>5.7</td>\n",
       "      <td>11.8</td>\n",
       "      <td>20.0</td>\n",
       "      <td>128556.0</td>\n",
       "      <td>27808.0</td>\n",
       "      <td>1254400</td>\n",
       "      <td>9030000.0</td>\n",
       "      <td>7840</td>\n",
       "      <td>2240.0</td>\n",
       "      <td>0</td>\n",
       "    </tr>\n",
       "  </tbody>\n",
       "</table>\n",
       "<p>5 rows × 51 columns</p>\n",
       "</div>"
      ],
      "text/plain": [
       "   Unnamed: 0          id        date     price  bedrooms  bathrooms  \\\n",
       "0           0  7399300360  2022-05-24  675000.0         4        1.0   \n",
       "1           1  8910500230  2021-12-13  920000.0         5        2.5   \n",
       "2           2  1180000275  2021-09-29  311000.0         6        2.0   \n",
       "3           3  1604601802  2021-12-14  775000.0         3        3.0   \n",
       "4           4  8562780790  2021-08-24  592500.0         2        2.0   \n",
       "\n",
       "   sqft_living  sqft_lot  floors  waterfront  ...  distance_sammamish  \\\n",
       "0         1180      7140     1.0           0  ...                12.6   \n",
       "1         2770      6703     1.0           0  ...                16.5   \n",
       "2         2880      6156     1.0           0  ...                11.6   \n",
       "3         2160      1400     2.0           0  ...                12.3   \n",
       "4         1120       758     2.0           0  ...                 5.7   \n",
       "\n",
       "   distance_kirkland  distance_shoreline  median_zip_income  zip_population  \\\n",
       "0               14.9                21.5            83621.0         24668.0   \n",
       "1                7.4                 3.2            77602.0         50153.0   \n",
       "2               12.2                18.4            87788.0         26282.0   \n",
       "3                8.7                13.4            94790.0         48937.0   \n",
       "4               11.8                20.0           128556.0         27808.0   \n",
       "\n",
       "  sqft_living_x_above grade_x_price  sqft_living_grade  sqft_bath  zip_has_wh  \n",
       "0             1392400     4745566.0               8260     1180.0           0  \n",
       "1             4348900     5355000.0              19390     6925.0           0  \n",
       "2             4550400     4375000.0              20160     5760.0           0  \n",
       "3             2354400     6732000.0              19440     6480.0           0  \n",
       "4             1254400     9030000.0               7840     2240.0           0  \n",
       "\n",
       "[5 rows x 51 columns]"
      ]
     },
     "execution_count": 9,
     "metadata": {},
     "output_type": "execute_result"
    }
   ],
   "source": [
    "df.head()"
   ]
  },
  {
   "cell_type": "code",
   "execution_count": 24,
   "metadata": {},
   "outputs": [
    {
     "name": "stdout",
     "output_type": "stream",
     "text": [
      "<class 'pandas.core.frame.DataFrame'>\n",
      "RangeIndex: 28723 entries, 0 to 28722\n",
      "Data columns (total 51 columns):\n",
      " #   Column                Non-Null Count  Dtype  \n",
      "---  ------                --------------  -----  \n",
      " 0   Unnamed: 0            28723 non-null  int64  \n",
      " 1   id                    28723 non-null  int64  \n",
      " 2   date                  28723 non-null  object \n",
      " 3   price                 28723 non-null  float64\n",
      " 4   bedrooms              28723 non-null  int64  \n",
      " 5   bathrooms             28723 non-null  float64\n",
      " 6   sqft_living           28723 non-null  int64  \n",
      " 7   sqft_lot              28723 non-null  int64  \n",
      " 8   floors                28723 non-null  float64\n",
      " 9   waterfront            28723 non-null  int64  \n",
      " 10  greenbelt             28723 non-null  int64  \n",
      " 11  nuisance              28723 non-null  int64  \n",
      " 12  view                  28723 non-null  int64  \n",
      " 13  condition             28723 non-null  int64  \n",
      " 14  grade                 28723 non-null  int64  \n",
      " 15  heat_source           28723 non-null  object \n",
      " 16  sewer_system          28723 non-null  object \n",
      " 17  sqft_above            28723 non-null  int64  \n",
      " 18  sqft_basement         28723 non-null  int64  \n",
      " 19  sqft_garage           28723 non-null  int64  \n",
      " 20  sqft_patio            28723 non-null  int64  \n",
      " 21  yr_built              28723 non-null  int64  \n",
      " 22  yr_renovated          28723 non-null  int64  \n",
      " 23  address               28723 non-null  object \n",
      " 24  lat                   28723 non-null  float64\n",
      " 25  long                  28723 non-null  float64\n",
      " 26  zip                   28723 non-null  int64  \n",
      " 27  median_home_price     28723 non-null  float64\n",
      " 28  lower_25_zip          28723 non-null  int64  \n",
      " 29  middle_50_zip         28723 non-null  int64  \n",
      " 30  top_75_zip            28723 non-null  int64  \n",
      " 31  year                  28723 non-null  int64  \n",
      " 32  distance_seattle      28723 non-null  float64\n",
      " 33  distance_bellvue      28723 non-null  float64\n",
      " 34  distance_kent         28723 non-null  float64\n",
      " 35  distance_federal_way  28723 non-null  float64\n",
      " 36  distance_bothell      28723 non-null  float64\n",
      " 37  distance_burien       28723 non-null  float64\n",
      " 38  distance_auburn       28723 non-null  float64\n",
      " 39  distance_renton       28723 non-null  float64\n",
      " 40  distance_redmond      28723 non-null  float64\n",
      " 41  distance_sammamish    28723 non-null  float64\n",
      " 42  distance_kirkland     28723 non-null  float64\n",
      " 43  distance_shoreline    28723 non-null  float64\n",
      " 44  median_zip_income     28723 non-null  float64\n",
      " 45  zip_population        28723 non-null  float64\n",
      " 46  sqft_living_x_above   28723 non-null  int64  \n",
      " 47  grade_x_price         28723 non-null  float64\n",
      " 48  sqft_living_grade     28723 non-null  int64  \n",
      " 49  sqft_bath             28723 non-null  float64\n",
      " 50  zip_has_wh            28723 non-null  int64  \n",
      "dtypes: float64(22), int64(25), object(4)\n",
      "memory usage: 11.2+ MB\n"
     ]
    }
   ],
   "source": [
    "df.info()"
   ]
  },
  {
   "cell_type": "markdown",
   "metadata": {},
   "source": [
    "### Creating Train/Test Splits to test our best model"
   ]
  },
  {
   "cell_type": "code",
   "execution_count": 11,
   "metadata": {},
   "outputs": [],
   "source": [
    "X = df[['sqft_living', 'grade', 'sqft_living_grade', 'yr_renovated', 'sqft_above', 'sqft_basement', 'condition', \n",
    "        'floors', 'lower_25_zip', 'middle_50_zip', 'top_75_zip', 'waterfront', 'view', 'year', 'distance_bellvue', \n",
    "        'distance_bothell', 'distance_renton', 'distance_redmond', 'distance_kirkland', 'distance_shoreline', \n",
    "        'sqft_bath', 'sqft_living_x_above', 'zip_population', 'zip_has_wh', 'median_home_price', 'grade_x_price']]\n",
    "y = df['price']"
   ]
  },
  {
   "cell_type": "code",
   "execution_count": 12,
   "metadata": {},
   "outputs": [],
   "source": [
    "X_train, X_test, y_train, y_test = train_test_split(X, y, test_size = 0.3)"
   ]
  },
  {
   "cell_type": "code",
   "execution_count": 14,
   "metadata": {},
   "outputs": [],
   "source": [
    "ss = StandardScaler()"
   ]
  },
  {
   "cell_type": "code",
   "execution_count": 15,
   "metadata": {},
   "outputs": [],
   "source": [
    "ss.fit(X_train)\n",
    "X_standardized_train = ss.transform(X_train)\n",
    "X_standardized_test = ss.transform(X_test)"
   ]
  },
  {
   "cell_type": "code",
   "execution_count": 16,
   "metadata": {},
   "outputs": [
    {
     "data": {
      "text/plain": [
       "array([-1.13087474e-16, -1.28283603e-16, -9.18835727e-18, -5.76039321e-17,\n",
       "       -1.15649612e-16, -6.21981108e-17,  1.87301129e-16, -1.39901574e-16,\n",
       "       -3.56932340e-17,  5.86641272e-17, -1.59029260e-17,  1.37825359e-17,\n",
       "       -6.92660779e-17, -1.49428134e-13,  9.04699793e-17, -5.62610184e-16,\n",
       "       -1.12380677e-16,  1.90481714e-16, -1.13794271e-16,  8.48156056e-18,\n",
       "       -6.00777206e-18, -5.30097535e-17, -1.74843837e-16,  3.55165348e-17,\n",
       "        1.30403994e-16,  8.37554105e-17])"
      ]
     },
     "execution_count": 16,
     "metadata": {},
     "output_type": "execute_result"
    }
   ],
   "source": [
    "X_standardized_train.mean(axis = 0)"
   ]
  },
  {
   "cell_type": "code",
   "execution_count": 17,
   "metadata": {},
   "outputs": [
    {
     "data": {
      "text/plain": [
       "array([1., 1., 1., 1., 1., 1., 1., 1., 1., 1., 1., 1., 1., 1., 1., 1., 1.,\n",
       "       1., 1., 1., 1., 1., 1., 1., 1., 1.])"
      ]
     },
     "execution_count": 17,
     "metadata": {},
     "output_type": "execute_result"
    }
   ],
   "source": [
    "X_standardized_train.std(axis = 0)"
   ]
  },
  {
   "cell_type": "code",
   "execution_count": 18,
   "metadata": {},
   "outputs": [
    {
     "data": {
      "text/plain": [
       "array([ 0.00521898,  0.01497194,  0.00753786,  0.00849828,  0.00441832,\n",
       "        0.00538305,  0.01580828, -0.00409213,  0.00737001, -0.02309097,\n",
       "        0.0209266 ,  0.01796942,  0.00471874,  0.00226719, -0.00377085,\n",
       "        0.01162301, -0.01910973,  0.00327131,  0.00541811,  0.01122866,\n",
       "        0.00220066,  0.00189224,  0.00327764, -0.01062958,  0.01696497,\n",
       "        0.02193659])"
      ]
     },
     "execution_count": 18,
     "metadata": {},
     "output_type": "execute_result"
    }
   ],
   "source": [
    "X_standardized_test.mean(axis = 0)"
   ]
  },
  {
   "cell_type": "code",
   "execution_count": 19,
   "metadata": {},
   "outputs": [
    {
     "data": {
      "text/plain": [
       "array([0.99618575, 1.0014287 , 0.99561265, 1.01813096, 0.995101  ,\n",
       "       0.99811009, 1.00133692, 0.99237112, 1.00445839, 1.00274093,\n",
       "       1.0157074 , 1.07299073, 1.01665453, 1.00065877, 0.99406054,\n",
       "       0.98824273, 0.98746204, 0.99159568, 0.99257492, 0.99108309,\n",
       "       0.98942704, 0.94771666, 0.9828715 , 0.9869852 , 1.02471556,\n",
       "       1.02974167])"
      ]
     },
     "execution_count": 19,
     "metadata": {},
     "output_type": "execute_result"
    }
   ],
   "source": [
    "X_standardized_test.std(axis = 0)"
   ]
  },
  {
   "cell_type": "code",
   "execution_count": 20,
   "metadata": {},
   "outputs": [
    {
     "data": {
      "text/plain": [
       "0.7662577371698421"
      ]
     },
     "execution_count": 20,
     "metadata": {},
     "output_type": "execute_result"
    }
   ],
   "source": [
    "lr_raw = LinearRegression()\n",
    "lr_raw.fit(X_standardized_train, y_train)\n",
    "lr_raw.score(X_standardized_train, y_train)"
   ]
  },
  {
   "cell_type": "code",
   "execution_count": 21,
   "metadata": {},
   "outputs": [
    {
     "data": {
      "text/plain": [
       "sqft_living           -2.334887e+05\n",
       "grade                 -1.264322e+05\n",
       "sqft_living_grade      5.080810e+05\n",
       "yr_renovated           1.968290e+04\n",
       "sqft_above             2.348885e+05\n",
       "sqft_basement          1.152394e+04\n",
       "condition              4.683492e+04\n",
       "floors                -3.267831e+04\n",
       "lower_25_zip           9.201169e+17\n",
       "middle_50_zip          1.068730e+18\n",
       "top_75_zip             8.552146e+17\n",
       "waterfront             3.524542e+04\n",
       "view                   5.890290e+04\n",
       "year                   7.756547e+04\n",
       "distance_bellvue      -1.708765e+05\n",
       "distance_bothell       3.608798e+05\n",
       "distance_renton        1.540630e+05\n",
       "distance_redmond       1.852493e+05\n",
       "distance_kirkland     -5.681852e+05\n",
       "distance_shoreline     5.120975e+04\n",
       "sqft_bath              5.737403e+04\n",
       "sqft_living_x_above   -1.873351e+05\n",
       "zip_population        -9.522788e+03\n",
       "zip_has_wh             1.014724e+04\n",
       "median_home_price     -8.915135e+04\n",
       "grade_x_price          3.078681e+05\n",
       "dtype: float64"
      ]
     },
     "execution_count": 21,
     "metadata": {},
     "output_type": "execute_result"
    }
   ],
   "source": [
    "pd.Series(lr_raw.coef_, index = X.columns)"
   ]
  },
  {
   "cell_type": "code",
   "execution_count": 25,
   "metadata": {},
   "outputs": [
    {
     "data": {
      "text/plain": [
       "187207.4576277456"
      ]
     },
     "execution_count": 25,
     "metadata": {},
     "output_type": "execute_result"
    }
   ],
   "source": [
    "y_pred = lr_raw.predict(X_standardized_test)\n",
    "mean_absolute_error(y_pred, y_test)"
   ]
  },
  {
   "cell_type": "markdown",
   "metadata": {},
   "source": [
    "## The findings\n",
    "Our model explains approximately 77% of the variance in home prices (Adjusted R-Square = .766)\n",
    "\n",
    "The MAE is 187207, meaning our prediction will come within $187,207 of the actual price"
   ]
  }
 ],
 "metadata": {
  "kernelspec": {
   "display_name": "Python 3",
   "language": "python",
   "name": "python3"
  },
  "language_info": {
   "codemirror_mode": {
    "name": "ipython",
    "version": 3
   },
   "file_extension": ".py",
   "mimetype": "text/x-python",
   "name": "python",
   "nbconvert_exporter": "python",
   "pygments_lexer": "ipython3",
   "version": "3.8.5"
  }
 },
 "nbformat": 4,
 "nbformat_minor": 4
}
